{
  "nbformat": 4,
  "nbformat_minor": 0,
  "metadata": {
    "colab": {
      "name": "kodingan_skripsi_noval.ipynb",
      "provenance": [],
      "collapsed_sections": [],
      "toc_visible": true,
      "authorship_tag": "ABX9TyPKN9i2WJ38YtGz3Uz3XL9+",
      "include_colab_link": true
    },
    "kernelspec": {
      "name": "python3",
      "display_name": "Python 3"
    },
    "accelerator": "TPU"
  },
  "cells": [
    {
      "cell_type": "markdown",
      "metadata": {
        "id": "view-in-github",
        "colab_type": "text"
      },
      "source": [
        "<a href=\"https://colab.research.google.com/github/novalsaputra/simulasi_skripsi/blob/master/kodingan_skripsi_noval.ipynb\" target=\"_parent\"><img src=\"https://colab.research.google.com/assets/colab-badge.svg\" alt=\"Open In Colab\"/></a>"
      ]
    },
    {
      "cell_type": "markdown",
      "metadata": {
        "id": "BL8RP8QQVRl1",
        "colab_type": "text"
      },
      "source": [
        "# Data"
      ]
    },
    {
      "cell_type": "code",
      "metadata": {
        "id": "KKyiTFqhutVS",
        "colab_type": "code",
        "colab": {
          "base_uri": "https://localhost:8080/",
          "height": 1000
        },
        "outputId": "84fe573d-8860-4c0e-e75d-b7460f5ed0e0"
      },
      "source": [
        "!wget \"https://raw.githubusercontent.com/IadityaM/NSGA2/master/dataset-EMOA-delta-TRIMAX/GSE35671/tp1\"\n",
        "!wget \"https://raw.githubusercontent.com/IadityaM/NSGA2/master/dataset-EMOA-delta-TRIMAX/GSE35671/tp2\"\n",
        "!wget \"https://raw.githubusercontent.com/IadityaM/NSGA2/master/dataset-EMOA-delta-TRIMAX/GSE35671/tp3\"\n",
        "!wget \"https://raw.githubusercontent.com/IadityaM/NSGA2/master/dataset-EMOA-delta-TRIMAX/GSE35671/tp4\"\n",
        "!wget \"https://raw.githubusercontent.com/IadityaM/NSGA2/master/dataset-EMOA-delta-TRIMAX/GSE35671/tp5\"\n",
        "!wget \"https://raw.githubusercontent.com/IadityaM/NSGA2/master/dataset-EMOA-delta-TRIMAX/GSE35671/tp6\"\n",
        "!wget \"https://raw.githubusercontent.com/IadityaM/NSGA2/master/dataset-EMOA-delta-TRIMAX/GSE35671/tp7\"\n",
        "!wget \"https://raw.githubusercontent.com/IadityaM/NSGA2/master/dataset-EMOA-delta-TRIMAX/GSE35671/tp8\"\n",
        "!wget \"https://raw.githubusercontent.com/IadityaM/NSGA2/master/dataset-EMOA-delta-TRIMAX/GSE35671/tp9\"\n",
        "!wget \"https://raw.githubusercontent.com/IadityaM/NSGA2/master/dataset-EMOA-delta-TRIMAX/GSE35671/tp10\"\n",
        "!wget \"https://raw.githubusercontent.com/IadityaM/NSGA2/master/dataset-EMOA-delta-TRIMAX/GSE35671/tp11\"\n",
        "!wget \"https://raw.githubusercontent.com/IadityaM/NSGA2/master/dataset-EMOA-delta-TRIMAX/GSE35671/tp12\"\n",
        " \n",
        "!mv /content/tp1 /content/tp1.txt\n",
        "!mv /content/tp2 /content/tp2.txt\n",
        "!mv /content/tp3 /content/tp3.txt\n",
        "!mv /content/tp4 /content/tp4.txt\n",
        "!mv /content/tp5 /content/tp5.txt\n",
        "!mv /content/tp6 /content/tp6.txt\n",
        "!mv /content/tp7 /content/tp7.txt\n",
        "!mv /content/tp8 /content/tp8.txt\n",
        "!mv /content/tp9 /content/tp9.txt\n",
        "!mv /content/tp10 /content/tp10.txt\n",
        "!mv /content/tp11 /content/tp11.txt\n",
        "!mv /content/tp12 /content/tp12.txt\n",
        " \n",
        " \n",
        "# data\n",
        "import numpy as np\n",
        "t1 = np.loadtxt(\"/content/tp1.txt\", comments=\"#\", unpack=False)\n",
        "t2 = np.loadtxt(\"/content/tp2.txt\", comments=\"#\",  unpack=False)\n",
        "t3 = np.loadtxt(\"/content/tp3.txt\", comments=\"#\",  unpack=False)\n",
        "t4 = np.loadtxt(\"/content/tp4.txt\", comments=\"#\",  unpack=False)\n",
        "t5 = np.loadtxt(\"/content/tp5.txt\", comments=\"#\",  unpack=False)\n",
        "t6 = np.loadtxt(\"/content/tp6.txt\", comments=\"#\",  unpack=False)\n",
        "t7 = np.loadtxt(\"/content/tp7.txt\", comments=\"#\",  unpack=False)\n",
        "t8 = np.loadtxt(\"/content/tp8.txt\", comments=\"#\",  unpack=False)\n",
        "t9 = np.loadtxt(\"/content/tp9.txt\", comments=\"#\",  unpack=False)\n",
        "t10 = np.loadtxt(\"/content/tp10.txt\", comments=\"#\",  unpack=False)\n",
        "t11 = np.loadtxt(\"/content/tp11.txt\", comments=\"#\",  unpack=False)\n",
        "t12 = np.loadtxt(\"/content/tp12.txt\", comments=\"#\",  unpack=False)\n",
        "D = np.array([t1,t2,t3,t4,t5,t6,t7,t8,t9,t10,t11,t12])"
      ],
      "execution_count": null,
      "outputs": [
        {
          "output_type": "stream",
          "text": [
            "--2020-07-11 08:15:42--  https://raw.githubusercontent.com/IadityaM/NSGA2/master/dataset-EMOA-delta-TRIMAX/GSE35671/tp1\n",
            "Resolving raw.githubusercontent.com (raw.githubusercontent.com)... 151.101.0.133, 151.101.64.133, 151.101.128.133, ...\n",
            "Connecting to raw.githubusercontent.com (raw.githubusercontent.com)|151.101.0.133|:443... connected.\n",
            "HTTP request sent, awaiting response... 200 OK\n",
            "Length: 1154968 (1.1M) [text/plain]\n",
            "Saving to: ‘tp1’\n",
            "\n",
            "\rtp1                   0%[                    ]       0  --.-KB/s               \rtp1                 100%[===================>]   1.10M  --.-KB/s    in 0.08s   \n",
            "\n",
            "2020-07-11 08:15:42 (13.0 MB/s) - ‘tp1’ saved [1154968/1154968]\n",
            "\n",
            "--2020-07-11 08:15:44--  https://raw.githubusercontent.com/IadityaM/NSGA2/master/dataset-EMOA-delta-TRIMAX/GSE35671/tp2\n",
            "Resolving raw.githubusercontent.com (raw.githubusercontent.com)... 151.101.0.133, 151.101.64.133, 151.101.128.133, ...\n",
            "Connecting to raw.githubusercontent.com (raw.githubusercontent.com)|151.101.0.133|:443... connected.\n",
            "HTTP request sent, awaiting response... 200 OK\n",
            "Length: 1154934 (1.1M) [text/plain]\n",
            "Saving to: ‘tp2’\n",
            "\n",
            "tp2                 100%[===================>]   1.10M  --.-KB/s    in 0.09s   \n",
            "\n",
            "2020-07-11 08:15:44 (12.7 MB/s) - ‘tp2’ saved [1154934/1154934]\n",
            "\n",
            "--2020-07-11 08:15:46--  https://raw.githubusercontent.com/IadityaM/NSGA2/master/dataset-EMOA-delta-TRIMAX/GSE35671/tp3\n",
            "Resolving raw.githubusercontent.com (raw.githubusercontent.com)... 151.101.0.133, 151.101.64.133, 151.101.128.133, ...\n",
            "Connecting to raw.githubusercontent.com (raw.githubusercontent.com)|151.101.0.133|:443... connected.\n",
            "HTTP request sent, awaiting response... 200 OK\n",
            "Length: 1154993 (1.1M) [text/plain]\n",
            "Saving to: ‘tp3’\n",
            "\n",
            "tp3                 100%[===================>]   1.10M  --.-KB/s    in 0.08s   \n",
            "\n",
            "2020-07-11 08:15:46 (13.3 MB/s) - ‘tp3’ saved [1154993/1154993]\n",
            "\n",
            "--2020-07-11 08:15:47--  https://raw.githubusercontent.com/IadityaM/NSGA2/master/dataset-EMOA-delta-TRIMAX/GSE35671/tp4\n",
            "Resolving raw.githubusercontent.com (raw.githubusercontent.com)... 151.101.0.133, 151.101.64.133, 151.101.128.133, ...\n",
            "Connecting to raw.githubusercontent.com (raw.githubusercontent.com)|151.101.0.133|:443... connected.\n",
            "HTTP request sent, awaiting response... 200 OK\n",
            "Length: 1154934 (1.1M) [text/plain]\n",
            "Saving to: ‘tp4’\n",
            "\n",
            "tp4                 100%[===================>]   1.10M  --.-KB/s    in 0.09s   \n",
            "\n",
            "2020-07-11 08:15:48 (12.8 MB/s) - ‘tp4’ saved [1154934/1154934]\n",
            "\n",
            "--2020-07-11 08:15:50--  https://raw.githubusercontent.com/IadityaM/NSGA2/master/dataset-EMOA-delta-TRIMAX/GSE35671/tp5\n",
            "Resolving raw.githubusercontent.com (raw.githubusercontent.com)... 151.101.0.133, 151.101.64.133, 151.101.128.133, ...\n",
            "Connecting to raw.githubusercontent.com (raw.githubusercontent.com)|151.101.0.133|:443... connected.\n",
            "HTTP request sent, awaiting response... 200 OK\n",
            "Length: 1154986 (1.1M) [text/plain]\n",
            "Saving to: ‘tp5’\n",
            "\n",
            "tp5                 100%[===================>]   1.10M  --.-KB/s    in 0.1s    \n",
            "\n",
            "2020-07-11 08:15:50 (9.07 MB/s) - ‘tp5’ saved [1154986/1154986]\n",
            "\n",
            "--2020-07-11 08:15:52--  https://raw.githubusercontent.com/IadityaM/NSGA2/master/dataset-EMOA-delta-TRIMAX/GSE35671/tp6\n",
            "Resolving raw.githubusercontent.com (raw.githubusercontent.com)... 151.101.0.133, 151.101.64.133, 151.101.128.133, ...\n",
            "Connecting to raw.githubusercontent.com (raw.githubusercontent.com)|151.101.0.133|:443... connected.\n",
            "HTTP request sent, awaiting response... 200 OK\n",
            "Length: 1154968 (1.1M) [text/plain]\n",
            "Saving to: ‘tp6’\n",
            "\n",
            "tp6                 100%[===================>]   1.10M  --.-KB/s    in 0.08s   \n",
            "\n",
            "2020-07-11 08:15:52 (13.0 MB/s) - ‘tp6’ saved [1154968/1154968]\n",
            "\n",
            "--2020-07-11 08:15:54--  https://raw.githubusercontent.com/IadityaM/NSGA2/master/dataset-EMOA-delta-TRIMAX/GSE35671/tp7\n",
            "Resolving raw.githubusercontent.com (raw.githubusercontent.com)... 151.101.0.133, 151.101.64.133, 151.101.128.133, ...\n",
            "Connecting to raw.githubusercontent.com (raw.githubusercontent.com)|151.101.0.133|:443... connected.\n",
            "HTTP request sent, awaiting response... 200 OK\n",
            "Length: 1155023 (1.1M) [text/plain]\n",
            "Saving to: ‘tp7’\n",
            "\n",
            "tp7                 100%[===================>]   1.10M  --.-KB/s    in 0.1s    \n",
            "\n",
            "2020-07-11 08:15:54 (9.65 MB/s) - ‘tp7’ saved [1155023/1155023]\n",
            "\n",
            "--2020-07-11 08:15:56--  https://raw.githubusercontent.com/IadityaM/NSGA2/master/dataset-EMOA-delta-TRIMAX/GSE35671/tp8\n",
            "Resolving raw.githubusercontent.com (raw.githubusercontent.com)... 151.101.0.133, 151.101.64.133, 151.101.128.133, ...\n",
            "Connecting to raw.githubusercontent.com (raw.githubusercontent.com)|151.101.0.133|:443... connected.\n",
            "HTTP request sent, awaiting response... 200 OK\n",
            "Length: 1154967 (1.1M) [text/plain]\n",
            "Saving to: ‘tp8’\n",
            "\n",
            "tp8                 100%[===================>]   1.10M  --.-KB/s    in 0.1s    \n",
            "\n",
            "2020-07-11 08:15:56 (9.24 MB/s) - ‘tp8’ saved [1154967/1154967]\n",
            "\n",
            "--2020-07-11 08:15:58--  https://raw.githubusercontent.com/IadityaM/NSGA2/master/dataset-EMOA-delta-TRIMAX/GSE35671/tp9\n",
            "Resolving raw.githubusercontent.com (raw.githubusercontent.com)... 151.101.0.133, 151.101.64.133, 151.101.128.133, ...\n",
            "Connecting to raw.githubusercontent.com (raw.githubusercontent.com)|151.101.0.133|:443... connected.\n",
            "HTTP request sent, awaiting response... 200 OK\n",
            "Length: 1154941 (1.1M) [text/plain]\n",
            "Saving to: ‘tp9’\n",
            "\n",
            "tp9                 100%[===================>]   1.10M  --.-KB/s    in 0.09s   \n",
            "\n",
            "2020-07-11 08:15:58 (12.7 MB/s) - ‘tp9’ saved [1154941/1154941]\n",
            "\n",
            "--2020-07-11 08:16:00--  https://raw.githubusercontent.com/IadityaM/NSGA2/master/dataset-EMOA-delta-TRIMAX/GSE35671/tp10\n",
            "Resolving raw.githubusercontent.com (raw.githubusercontent.com)... 151.101.0.133, 151.101.64.133, 151.101.128.133, ...\n",
            "Connecting to raw.githubusercontent.com (raw.githubusercontent.com)|151.101.0.133|:443... connected.\n",
            "HTTP request sent, awaiting response... 200 OK\n",
            "Length: 1154999 (1.1M) [text/plain]\n",
            "Saving to: ‘tp10’\n",
            "\n",
            "tp10                100%[===================>]   1.10M  --.-KB/s    in 0.09s   \n",
            "\n",
            "2020-07-11 08:16:00 (12.1 MB/s) - ‘tp10’ saved [1154999/1154999]\n",
            "\n",
            "--2020-07-11 08:16:01--  https://raw.githubusercontent.com/IadityaM/NSGA2/master/dataset-EMOA-delta-TRIMAX/GSE35671/tp11\n",
            "Resolving raw.githubusercontent.com (raw.githubusercontent.com)... 151.101.0.133, 151.101.64.133, 151.101.128.133, ...\n",
            "Connecting to raw.githubusercontent.com (raw.githubusercontent.com)|151.101.0.133|:443... connected.\n",
            "HTTP request sent, awaiting response... 200 OK\n",
            "Length: 1154974 (1.1M) [text/plain]\n",
            "Saving to: ‘tp11’\n",
            "\n",
            "tp11                100%[===================>]   1.10M  --.-KB/s    in 0.1s    \n",
            "\n",
            "2020-07-11 08:16:02 (9.51 MB/s) - ‘tp11’ saved [1154974/1154974]\n",
            "\n",
            "--2020-07-11 08:16:04--  https://raw.githubusercontent.com/IadityaM/NSGA2/master/dataset-EMOA-delta-TRIMAX/GSE35671/tp12\n",
            "Resolving raw.githubusercontent.com (raw.githubusercontent.com)... 151.101.0.133, 151.101.64.133, 151.101.128.133, ...\n",
            "Connecting to raw.githubusercontent.com (raw.githubusercontent.com)|151.101.0.133|:443... connected.\n",
            "HTTP request sent, awaiting response... 200 OK\n",
            "Length: 1154974 (1.1M) [text/plain]\n",
            "Saving to: ‘tp12’\n",
            "\n",
            "tp12                100%[===================>]   1.10M  --.-KB/s    in 0.09s   \n",
            "\n",
            "2020-07-11 08:16:04 (12.9 MB/s) - ‘tp12’ saved [1154974/1154974]\n",
            "\n"
          ],
          "name": "stdout"
        }
      ]
    },
    {
      "cell_type": "code",
      "metadata": {
        "id": "ca2oI3NEw59E",
        "colab_type": "code",
        "colab": {
          "base_uri": "https://localhost:8080/",
          "height": 51
        },
        "outputId": "30bafa8a-300f-4723-d161-02ec5ebf8459"
      },
      "source": [
        "#for i in range(3):\n",
        "print(np.min(D[:,:,:]))\n",
        "print(np.max(D[:,:,:]))"
      ],
      "execution_count": null,
      "outputs": [
        {
          "output_type": "stream",
          "text": [
            "6.47132\n",
            "15.604\n"
          ],
          "name": "stdout"
        }
      ]
    },
    {
      "cell_type": "code",
      "metadata": {
        "id": "8N5MSpgJu76L",
        "colab_type": "code",
        "colab": {
          "base_uri": "https://localhost:8080/",
          "height": 35
        },
        "outputId": "80e7febe-ccce-4287-8602-65aedab4decb"
      },
      "source": [
        "D.shape"
      ],
      "execution_count": null,
      "outputs": [
        {
          "output_type": "execute_result",
          "data": {
            "text/plain": [
              "(12, 48803, 3)"
            ]
          },
          "metadata": {
            "tags": []
          },
          "execution_count": 4
        }
      ]
    },
    {
      "cell_type": "markdown",
      "metadata": {
        "id": "zO6QRIhiVIwj",
        "colab_type": "text"
      },
      "source": [
        "# Penentuan Delta"
      ]
    },
    {
      "cell_type": "markdown",
      "metadata": {
        "id": "OP6rAAf5Br_K",
        "colab_type": "text"
      },
      "source": [
        "## Pengclusteran dengan**Elbow Method**\n"
      ]
    },
    {
      "cell_type": "code",
      "metadata": {
        "id": "b0Lk3FBIB9UF",
        "colab_type": "code",
        "colab": {}
      },
      "source": [
        ""
      ],
      "execution_count": null,
      "outputs": []
    },
    {
      "cell_type": "code",
      "metadata": {
        "id": "CDFq7u96yY07",
        "colab_type": "code",
        "colab": {}
      },
      "source": [
        "#fungsi untuk menghitung msr\n",
        "def MSR(D):\n",
        "    m_iJ = np.mean(D,axis=1)\n",
        "    m_Ij = np.mean(D, axis=0)\n",
        "    m_IJ = np.mean(D)\n",
        "    \n",
        "    m_iJ_s = m_iJ.shape\n",
        "    m_Ij_s = m_Ij.shape\n",
        "    \n",
        "    if (m_iJ_s == (1,) ) or (m_Ij_s == (1,)):\n",
        "        msr = np.nan\n",
        "    else:\n",
        "        residu = D - np.expand_dims(m_iJ,axis=1) - np.expand_dims(m_Ij,axis=0) + m_IJ\n",
        "        sr = np.square(residu)\n",
        "        msr = np.mean(sr)\n",
        "    return msr"
      ],
      "execution_count": null,
      "outputs": []
    },
    {
      "cell_type": "code",
      "metadata": {
        "id": "Bk9VLMS98Rzt",
        "colab_type": "code",
        "colab": {}
      },
      "source": [
        ""
      ],
      "execution_count": null,
      "outputs": []
    },
    {
      "cell_type": "markdown",
      "metadata": {
        "id": "ecdMH26J8SpC",
        "colab_type": "text"
      },
      "source": [
        "pengclusteran gen terhadap waktu pada masing masing kondisi.\n",
        "berikut adalah hasil pengclusteran\n"
      ]
    },
    {
      "cell_type": "code",
      "metadata": {
        "id": "B4vV8fLQKIc7",
        "colab_type": "code",
        "colab": {}
      },
      "source": [
        "# elbow methode\n",
        "import matplotlib.pyplot as plt\n",
        "from sklearn.cluster import KMeans\n",
        "\n",
        "df1 = np.transpose(D[:,:,0])\n",
        "df2 = np.transpose(D[:,:,1])\n",
        "df3 = np.transpose(D[:,:,2])\n",
        "df = [df1,df2,df3]\n",
        "\n",
        "\n",
        "wsst = []\n",
        "K = range(1,15)\n",
        "for df in df:\n",
        "  wss = []\n",
        "  for k in K:\n",
        "    kmeanModel = KMeans(n_clusters=k)\n",
        "    kmeanModel.fit(df)\n",
        "    wss.append(kmeanModel.inertia_)\n",
        "  wsst.append(wss)\n"
      ],
      "execution_count": null,
      "outputs": []
    },
    {
      "cell_type": "code",
      "metadata": {
        "id": "tj9EHgHOLuUp",
        "colab_type": "code",
        "colab": {
          "base_uri": "https://localhost:8080/",
          "height": 1000
        },
        "outputId": "a60f2a28-369f-4126-9a46-070b84d035c9"
      },
      "source": [
        "#plt.figure(figsize=(45,15))\n",
        "fig, ax = plt.subplots(3,figsize=(15,20))\n",
        "\n",
        "ax[0].plot(K,wsst[0])\n",
        "ax[0].set_title(\"kondisi 1\")\n",
        "ax[0].axvline(5,c='red')\n",
        "\n",
        "ax[1].plot(K,wsst[1])\n",
        "ax[1].set_title(\"kondisi 2\")\n",
        "ax[1].axvline(5,c='red')\n",
        "\n",
        "ax[2].plot(K,wsst[2])\n",
        "ax[2].set_title(\"kondisi 3\")\n",
        "ax[2].axvline(5,c='red')"
      ],
      "execution_count": null,
      "outputs": [
        {
          "output_type": "execute_result",
          "data": {
            "text/plain": [
              "<matplotlib.lines.Line2D at 0x7f7c2f765d68>"
            ]
          },
          "metadata": {
            "tags": []
          },
          "execution_count": 80
        },
        {
          "output_type": "display_data",
          "data": {
            "image/png": "[encoded data removed]",
            "text/plain": [
              "<Figure size 1080x1440 with 3 Axes>"
            ]
          },
          "metadata": {
            "tags": [],
            "needs_background": "light"
          }
        }
      ]
    },
    {
      "cell_type": "markdown",
      "metadata": {
        "id": "g54oUqLl9mjx",
        "colab_type": "text"
      },
      "source": [
        "dari hasil plot tersebut diperoleh bahwa cluster untuk setiap kondisi adalah 4.\n",
        "\n",
        "selanjutnya dicari cluster waktu terhadap gen dari hasil cluster yang telah didapatkan sebelumnya."
      ]
    },
    {
      "cell_type": "markdown",
      "metadata": {
        "id": "qOO-qGk9Ac_d",
        "colab_type": "text"
      },
      "source": [
        "Pengclusteran untuk kondisi 1"
      ]
    },
    {
      "cell_type": "code",
      "metadata": {
        "id": "xaf6S7K38qpW",
        "colab_type": "code",
        "colab": {}
      },
      "source": [
        "#kondisi 1\n",
        "# misalkan cluster optimal gen terhadap waktu adalah 4\n",
        "from sklearn.cluster import KMeans\n",
        "n = 5\n",
        "clus = KMeans(n_clusters=n,init='random')\n",
        "d = D[:,:,0].transpose()\n",
        "clus.fit(d)\n",
        "idx = clus.predict(d)\n",
        "\n",
        "d[idx==0]\n",
        "import matplotlib.pyplot as plt\n",
        "from sklearn.cluster import KMeans\n",
        "\n",
        "df1 = d[idx==0].transpose()\n",
        "df2 = d[idx==1].transpose()\n",
        "df3 = d[idx==2].transpose()\n",
        "df4 = d[idx==3].transpose()\n",
        "df5 = d[idx==4].transpose()\n",
        "df = [df1,df2,df3,df4,df5]\n",
        "\n",
        "\n",
        "wss_k1 = []\n",
        "K = range(1,10)\n",
        "for df in df:\n",
        "  wss = []\n",
        "  idx_cluster=[]\n",
        "  for k in K:\n",
        "    kmeanModel = KMeans(n_clusters=k)\n",
        "    kmeanModel.fit(df)\n",
        "    wss.append(kmeanModel.inertia_)\n",
        "  wss_k1.append(wss)\n",
        "\n"
      ],
      "execution_count": null,
      "outputs": []
    },
    {
      "cell_type": "code",
      "metadata": {
        "id": "i2ZQOBwconls",
        "colab_type": "code",
        "colab": {}
      },
      "source": [
        ""
      ],
      "execution_count": null,
      "outputs": []
    },
    {
      "cell_type": "code",
      "metadata": {
        "id": "WmU4I7KhpTpo",
        "colab_type": "code",
        "colab": {
          "base_uri": "https://localhost:8080/",
          "height": 1000
        },
        "outputId": "548a24dc-33eb-4c26-fa35-d6c47c7e134c"
      },
      "source": [
        "fig, ax = plt.subplots(5,figsize=(15,20))\n",
        "ax[0].plot(K,wss_k1[0])\n",
        "ax[0].set_title(\"kondisi 1 cluster 1\")\n",
        "ax[0].axvline(3,c='red')\n",
        "\n",
        "ax[1].plot(K,wss_k1[1])\n",
        "ax[1].set_title(\"kondisi 1 cluster 2\")\n",
        "ax[1].axvline(2,c='red')\n",
        "\n",
        "ax[2].plot(K,wss_k1[2])\n",
        "ax[2].set_title(\"kondisi 1 cluster 3\")\n",
        "ax[2].axvline(3,c='red')\n",
        "\n",
        "ax[3].plot(K,wss_k1[3])\n",
        "ax[3].set_title(\"kondisi 1 cluster 4\")\n",
        "ax[3].axvline(3,c='red')\n",
        "\n",
        "ax[4].plot(K,wss_k1[4])\n",
        "ax[4].set_title(\"kondisi 1 cluster 5\")\n",
        "ax[4].axvline(3,c='red')"
      ],
      "execution_count": null,
      "outputs": [
        {
          "output_type": "execute_result",
          "data": {
            "text/plain": [
              "<matplotlib.lines.Line2D at 0x7f7c2f5f1e80>"
            ]
          },
          "metadata": {
            "tags": []
          },
          "execution_count": 86
        },
        {
          "output_type": "display_data",
          "data": {
            "image/png": "[encoded data removed]",
            "text/plain": [
              "<Figure size 1080x1440 with 5 Axes>"
            ]
          },
          "metadata": {
            "tags": [],
            "needs_background": "light"
          }
        }
      ]
    },
    {
      "cell_type": "markdown",
      "metadata": {
        "id": "K46uvJHIAofW",
        "colab_type": "text"
      },
      "source": [
        "Pengclusteran untuk kondisi 2"
      ]
    },
    {
      "cell_type": "code",
      "metadata": {
        "id": "KiSViPGFA3gL",
        "colab_type": "code",
        "colab": {}
      },
      "source": [
        "#kondisi 2\n",
        "from sklearn.cluster import KMeans\n",
        "n = 5\n",
        "clus = KMeans(n_clusters=n,init='random')\n",
        "d = D[:,:,1].transpose()\n",
        "clus.fit(d)\n",
        "idx = clus.predict(d)\n",
        "\n",
        "d[idx==0]\n",
        "import matplotlib.pyplot as plt\n",
        "from sklearn.cluster import KMeans\n",
        "\n",
        "df1 = d[idx==0].transpose()\n",
        "df2 = d[idx==1].transpose()\n",
        "df3 = d[idx==2].transpose()\n",
        "df4 = d[idx==3].transpose()\n",
        "df5 = d[idx==4].transpose()\n",
        "df = [df1,df2,df3,df4,df5]\n",
        "\n",
        "\n",
        "wss_k2 = []\n",
        "K = range(1,10)\n",
        "for df in df:\n",
        "  wss = []\n",
        "  idx_cluster=[]\n",
        "  for k in K:\n",
        "    kmeanModel = KMeans(n_clusters=k)\n",
        "    kmeanModel.fit(df)\n",
        "    wss.append(kmeanModel.inertia_)\n",
        "  wss_k2.append(wss)\n"
      ],
      "execution_count": null,
      "outputs": []
    },
    {
      "cell_type": "code",
      "metadata": {
        "id": "6MjZ5V-aBAx2",
        "colab_type": "code",
        "colab": {
          "base_uri": "https://localhost:8080/",
          "height": 1000
        },
        "outputId": "209ca6bf-2f0d-480a-a1d0-65136375afeb"
      },
      "source": [
        "fig, ax = plt.subplots(5,figsize=(15,20))\n",
        "ax[0].plot(K,wss_k2[0])\n",
        "ax[0].set_title(\"kondisi 1 cluster 1\")\n",
        "ax[0].axvline(3,c='red')\n",
        "\n",
        "ax[1].plot(K,wss_k2[1])\n",
        "ax[1].set_title(\"kondisi 2 cluster 2\")\n",
        "ax[1].axvline(2,c='red')\n",
        "\n",
        "ax[2].plot(K,wss_k2[2])\n",
        "ax[2].set_title(\"kondisi 2 cluster 3\")\n",
        "ax[2].axvline(3,c='red')\n",
        "\n",
        "ax[3].plot(K,wss_k2[3])\n",
        "ax[3].set_title(\"kondisi 2 cluster 4\")\n",
        "ax[3].axvline(2,c='red')\n",
        "\n",
        "ax[4].plot(K,wss_k2[4])\n",
        "ax[4].set_title(\"kondisi 2 cluster 5\")\n",
        "ax[4].axvline(3,c='red')"
      ],
      "execution_count": null,
      "outputs": [
        {
          "output_type": "execute_result",
          "data": {
            "text/plain": [
              "<matplotlib.lines.Line2D at 0x7f7c2ecd0160>"
            ]
          },
          "metadata": {
            "tags": []
          },
          "execution_count": 93
        },
        {
          "output_type": "display_data",
          "data": {
            "image/png": "[encoded data removed]",
            "text/plain": [
              "<Figure size 1080x1440 with 5 Axes>"
            ]
          },
          "metadata": {
            "tags": [],
            "needs_background": "light"
          }
        }
      ]
    },
    {
      "cell_type": "markdown",
      "metadata": {
        "id": "vlsWz2aZAtha",
        "colab_type": "text"
      },
      "source": [
        "Pengclusteran untuk kondisi 3"
      ]
    },
    {
      "cell_type": "code",
      "metadata": {
        "id": "22Bq5lfoBCkk",
        "colab_type": "code",
        "colab": {}
      },
      "source": [
        "#kondisi 3\n",
        "from sklearn.cluster import KMeans\n",
        "n = 5\n",
        "clus = KMeans(n_clusters=n,init='random')\n",
        "d = D[:,:,2].transpose()\n",
        "clus.fit(d)\n",
        "ind = clus.predict(d)\n",
        "\n",
        "import matplotlib.pyplot as plt\n",
        "from sklearn.cluster import KMeans\n",
        "\n",
        "df1 = d[ind==0].transpose()\n",
        "df2 = d[ind==1].transpose()\n",
        "df3 = d[ind==2].transpose()\n",
        "df4 = d[ind==3].transpose()\n",
        "df5 = d[ind==4].transpose()\n",
        "df = [df1,df2,df3,df4,df5]\n",
        "\n",
        "\n",
        "wss_k3 = []\n",
        "K = range(1,10)\n",
        "for df in df:\n",
        "  wss = []\n",
        "  idx_cluster=[]\n",
        "  for k in K:\n",
        "    kmeanModel = KMeans(n_clusters=k)\n",
        "    kmeanModel.fit(df)\n",
        "    wss.append(kmeanModel.inertia_)\n",
        "  wss_k3.append(wss)\n"
      ],
      "execution_count": null,
      "outputs": []
    },
    {
      "cell_type": "code",
      "metadata": {
        "id": "KBrx1-FNvEqw",
        "colab_type": "code",
        "colab": {
          "base_uri": "https://localhost:8080/",
          "height": 1000
        },
        "outputId": "f98e27bb-f3d9-4b44-fd39-4fc6adb56545"
      },
      "source": [
        "fig, ax = plt.subplots(5,figsize=(15,20))\n",
        "ax[0].plot(K,wss_k3[0])\n",
        "ax[0].set_title(\"kondisi 3 cluster 1\")\n",
        "ax[0].axvline(2,c='red')\n",
        "\n",
        "ax[1].plot(K,wss_k3[1])\n",
        "ax[1].set_title(\"kondisi 3 cluster 2\")\n",
        "ax[1].axvline(2,c='red')\n",
        "\n",
        "ax[2].plot(K,wss_k3[2])\n",
        "ax[2].set_title(\"kondisi 3 cluster 3\")\n",
        "ax[2].axvline(2,c='red')\n",
        "\n",
        "ax[3].plot(K,wss_k3[3])\n",
        "ax[3].set_title(\"kondisi 3 cluster 4\")\n",
        "ax[3].axvline(2,c='red')\n",
        "\n",
        "ax[4].plot(K,wss_k3[4])\n",
        "ax[4].set_title(\"kondisi 3 cluster 5\")\n",
        "ax[4].axvline(2,c='red')"
      ],
      "execution_count": null,
      "outputs": [
        {
          "output_type": "execute_result",
          "data": {
            "text/plain": [
              "<matplotlib.lines.Line2D at 0x7f7c2e8ee668>"
            ]
          },
          "metadata": {
            "tags": []
          },
          "execution_count": 98
        },
        {
          "output_type": "display_data",
          "data": {
            "image/png": "[encoded data removed]",
            "text/plain": [
              "<Figure size 1080x1440 with 5 Axes>"
            ]
          },
          "metadata": {
            "tags": [],
            "needs_background": "light"
          }
        }
      ]
    },
    {
      "cell_type": "markdown",
      "metadata": {
        "id": "4lrF242vUo68",
        "colab_type": "text"
      },
      "source": [
        "**Kesimpulan**\n",
        "* kondisi 1 terdiri dari 4 cluster, hasil pengclusteran selanjutnya adalah 3, 2, 3, 3, 3\n",
        "* kondisi 2 terdiri dari 4 cluster, hasil pengclusteran selanjutnya 3, 2, 3, 2, 3\n",
        "* kondisi 3 terdiri dari 4 cluster, hasil pengclusteran selanjutnya 2, 2, 2, 2, 2\n"
      ]
    },
    {
      "cell_type": "code",
      "metadata": {
        "id": "qoCuBZEdUnT4",
        "colab_type": "code",
        "colab": {}
      },
      "source": [
        "from sklearn.cluster import KMeans\n",
        "n1=5\n",
        "n2 = [[3,2,3,3,3],[3,2,3,2,3],[2,2,2,2,2]] #banyak cluster waktu terhadap gen\n",
        "#km1 = KMeans(n_clusters=n, init='random') \n",
        "#km2 = KMeans(n_clusters=3, init='random') \n",
        "kumpulan_cluster = []\n",
        "for i in range(3):\n",
        "    d = D[:,:,i].transpose()\n",
        "    km1 = KMeans(n_clusters=n1, init='random')\n",
        "    km1.fit(d)\n",
        "    y = km1.predict(d)\n",
        "    for j in range(n1):\n",
        "        dd = d[y==j].transpose()\n",
        "        n = n2[i][j]\n",
        "        km2 = KMeans(n_clusters=n, init='random')\n",
        "        km2.fit(dd)\n",
        "        yy = km2.predict(dd)\n",
        "\n",
        "        for k in range(n2[i][j]):        \n",
        "          kumpulan_cluster.append(dd[yy==k])"
      ],
      "execution_count": null,
      "outputs": []
    },
    {
      "cell_type": "code",
      "metadata": {
        "id": "Ay5zRjl3Xxef",
        "colab_type": "code",
        "colab": {
          "base_uri": "https://localhost:8080/",
          "height": 348
        },
        "outputId": "f45f41c7-6b1f-4786-b93e-2d409d28c039"
      },
      "source": [
        "# penghitungan msr\n",
        "msr = []\n",
        "for cluster in kumpulan_cluster:\n",
        "    s = MSR(cluster)\n",
        "    msr.append(s)\n",
        "\n",
        "msr = np.array(msr)\n",
        "\n",
        "# 5 nilai MSR terendah sebagai delta\n",
        "print(\"nilai msr setiap cluster\")\n",
        "print(msr)\n",
        "print('\\n')\n",
        "print(\"msr diurutkan\")\n",
        "print(np.sort(msr))"
      ],
      "execution_count": null,
      "outputs": [
        {
          "output_type": "stream",
          "text": [
            "nilai msr setiap cluster\n",
            "[0.07658605 0.16832841 0.07645072 0.17336872 0.11267588 0.03717462\n",
            " 0.17424841 0.16364441 0.11946603 0.08307636 0.061476   0.01437444\n",
            " 0.01064043 0.00894919 0.18416053 0.05813307 0.13729242 0.24971699\n",
            " 0.13317436 0.18057884 0.10805352 0.03581754 0.07494461 0.17990979\n",
            " 0.00688228        nan 0.01404119 0.18744189 0.21502793 0.17566395\n",
            " 0.29489073 0.09208184 0.17295498 0.15963074 0.23905089 0.01357981\n",
            " 0.01558174]\n",
            "\n",
            "\n",
            "msr diurutkan\n",
            "[0.00688228 0.00894919 0.01064043 0.01357981 0.01404119 0.01437444\n",
            " 0.01558174 0.03581754 0.03717462 0.05813307 0.061476   0.07494461\n",
            " 0.07645072 0.07658605 0.08307636 0.09208184 0.10805352 0.11267588\n",
            " 0.11946603 0.13317436 0.13729242 0.15963074 0.16364441 0.16832841\n",
            " 0.17295498 0.17336872 0.17424841 0.17566395 0.17990979 0.18057884\n",
            " 0.18416053 0.18744189 0.21502793 0.23905089 0.24971699 0.29489073\n",
            "        nan]\n"
          ],
          "name": "stdout"
        }
      ]
    },
    {
      "cell_type": "markdown",
      "metadata": {
        "id": "GfLgNiTCWH3D",
        "colab_type": "text"
      },
      "source": [
        "Kodingan awal penentuan delta"
      ]
    },
    {
      "cell_type": "code",
      "metadata": {
        "id": "TRdhu8OSVkqH",
        "colab_type": "code",
        "colab": {}
      },
      "source": [
        "#pengclusteran:  (gen terhadap waktu) -> waktu terhadap gen \n",
        "from sklearn.cluster import KMeans\n",
        "n=5 #banyak cluster gen terhadap waktu\n",
        "km1 = KMeans(n_clusters=n, init='random') \n",
        "km2 = KMeans(n_clusters=3, init='random') \n",
        "m = []\n",
        "for k in range(3):\n",
        "    d = D[:,:,k].transpose()\n",
        "    km1.fit(d)\n",
        "    y = km1.predict(d)\n",
        "    for kk in range(n):\n",
        "        dd = d[y==kk].transpose()\n",
        "        km2.fit(dd)\n",
        "        yy = km2.predict(dd)\n",
        "        \n",
        "        m.append(dd[yy==0])\n",
        "        m.append(dd[yy==1])"
      ],
      "execution_count": null,
      "outputs": []
    },
    {
      "cell_type": "code",
      "metadata": {
        "id": "J-74WpzQVq5P",
        "colab_type": "code",
        "colab": {
          "base_uri": "https://localhost:8080/",
          "height": 127
        },
        "outputId": "e9d2c4db-4d65-4b77-9371-b2c131b0b94f"
      },
      "source": [
        "# penghitungan msr\n",
        "msr = []\n",
        "for i in m:\n",
        "    s = MSR(i)\n",
        "    msr.append(s)\n",
        "\n",
        "msr = np.array(msr)\n",
        "\n",
        "# 5 nilai MSR terendah sebagai delta\n",
        "np.sort(msr)"
      ],
      "execution_count": null,
      "outputs": [
        {
          "output_type": "execute_result",
          "data": {
            "text/plain": [
              "array([0.00688228, 0.00845386, 0.01064043, 0.01279137, 0.01288019,\n",
              "       0.01404119, 0.03581754, 0.04394749, 0.04741906, 0.05126447,\n",
              "       0.061476  , 0.06549761, 0.07494461, 0.07645072, 0.07954536,\n",
              "       0.07967833, 0.08695511, 0.10578362, 0.10722464, 0.10805352,\n",
              "       0.10909796, 0.11111198, 0.11267588, 0.11946603, 0.1242351 ,\n",
              "       0.13729242, 0.15421647, 0.16048942, 0.16832841, 0.17566395])"
            ]
          },
          "metadata": {
            "tags": []
          },
          "execution_count": 40
        }
      ]
    },
    {
      "cell_type": "code",
      "metadata": {
        "id": "2Fz2NgNn1Ym6",
        "colab_type": "code",
        "colab": {
          "base_uri": "https://localhost:8080/",
          "height": 237
        },
        "outputId": "c4123458-5e47-4d23-84f0-fd7490b800a6"
      },
      "source": [
        "msr"
      ],
      "execution_count": null,
      "outputs": [
        {
          "output_type": "execute_result",
          "data": {
            "text/plain": [
              "array([0.13929408, 0.22195881, 0.17428932, 0.18673448, 0.00753335,\n",
              "       0.01148946, 0.03501721, 0.14681656, 0.30286108, 0.12452054,\n",
              "       0.32638334, 0.51167967, 0.04096556, 0.06426487, 0.19687251,\n",
              "       0.13811094, 0.12904808, 0.11077592, 0.16244792, 0.1363068 ,\n",
              "       0.01034221, 0.00890701, 0.13057118, 0.20055162, 0.40273987,\n",
              "       0.20822881, 0.14855198, 0.12944925, 0.09103347, 0.03328562,\n",
              "       0.21539505, 0.11844264, 0.11317737, 0.275189  , 0.17693518,\n",
              "       0.13036239, 0.08380576, 0.10644921, 0.0843229 , 0.39799462,\n",
              "       0.42447716, 0.33992404, 0.08901869, 0.17492608, 0.30579757,\n",
              "       0.10495302, 0.14324067, 0.22048422, 0.0465842 , 0.08179728,\n",
              "       0.21210286, 0.25213509, 0.15862783, 0.21254678, 0.14907316,\n",
              "       0.13348031, 0.20420813, 0.13614376, 0.00976732, 0.01154837])"
            ]
          },
          "metadata": {
            "tags": []
          },
          "execution_count": 14
        }
      ]
    },
    {
      "cell_type": "code",
      "metadata": {
        "id": "JVJuaa8xV-KF",
        "colab_type": "code",
        "colab": {}
      },
      "source": [
        "np.sort(np.random.choice(msr,30))"
      ],
      "execution_count": null,
      "outputs": []
    },
    {
      "cell_type": "markdown",
      "metadata": {
        "id": "mwgQl3YlBUqK",
        "colab_type": "text"
      },
      "source": [
        "## Pengclusteran dengan Silhouette method"
      ]
    },
    {
      "cell_type": "code",
      "metadata": {
        "id": "vqxJZs7hB7a7",
        "colab_type": "code",
        "colab": {}
      },
      "source": [
        "import matplotlib.pyplot as plt\n",
        "from sklearn.cluster import KMeans\n",
        "from sklearn.metrics import silhouette_score\n",
        "\n",
        "df1 = np.transpose(D[:,:,0])\n",
        "df2 = np.transpose(D[:,:,1])\n",
        "df3 = np.transpose(D[:,:,2])\n",
        "df = [df1,df2,df3]\n",
        "\n",
        "\n",
        "sil_skor = []\n",
        "K = range(2,15)\n",
        "for df in df:\n",
        "  skor = []\n",
        "  for k in K:\n",
        "    kmeanModel = KMeans(n_clusters=k)\n",
        "    kmeanModel.fit(df)\n",
        "    ss = silhouette_score(df,kmeanModel.labels_)\n",
        "    skor.append(ss)\n",
        "  sil_skor.append(skor)"
      ],
      "execution_count": null,
      "outputs": []
    },
    {
      "cell_type": "code",
      "metadata": {
        "id": "7v2mFAoSHRb-",
        "colab_type": "code",
        "colab": {
          "base_uri": "https://localhost:8080/",
          "height": 504
        },
        "outputId": "ce1c9e9d-6c89-4a8f-9858-26de48f461cd"
      },
      "source": [
        "import matplotlib.pyplot as plt\n",
        "fig, ax = plt.subplots(1)\n",
        "ax.plot(range(2,15),sil_skor[0])\n",
        "sil_skor[2]"
      ],
      "execution_count": null,
      "outputs": [
        {
          "output_type": "execute_result",
          "data": {
            "text/plain": [
              "[0.7738006219476411,\n",
              " 0.7264785938858841,\n",
              " 0.6781616954189854,\n",
              " 0.6317347735573122,\n",
              " 0.5864610771012373,\n",
              " 0.5470052885246913,\n",
              " 0.5543279970477459,\n",
              " 0.5364493304450989,\n",
              " 0.5100319793482794,\n",
              " 0.43432142047576355,\n",
              " 0.4140052520202539,\n",
              " 0.4113272569638275,\n",
              " 0.37502694720107893]"
            ]
          },
          "metadata": {
            "tags": []
          },
          "execution_count": 31
        },
        {
          "output_type": "display_data",
          "data": {
            "image/png": "[encoded data removed]",
            "text/plain": [
              "<Figure size 432x288 with 1 Axes>"
            ]
          },
          "metadata": {
            "tags": [],
            "needs_background": "light"
          }
        }
      ]
    },
    {
      "cell_type": "code",
      "metadata": {
        "id": "Uqy6XZqrCtGO",
        "colab_type": "code",
        "colab": {
          "base_uri": "https://localhost:8080/",
          "height": 35
        },
        "outputId": "817e6687-814a-4d6f-f78f-4eee7050bbb5"
      },
      "source": [
        "from sklearn.cluster import KMeans\n",
        "from sklearn.metrics import silhouette_score\n",
        "kmean = KMeans(n_clusters=4)\n",
        "kmean.fit(D[:,:,0].transpose())\n",
        "silhouette_score(D[:,:,0].transpose(),kmean.labels_)"
      ],
      "execution_count": null,
      "outputs": [
        {
          "output_type": "execute_result",
          "data": {
            "text/plain": [
              "0.6747963029449555"
            ]
          },
          "metadata": {
            "tags": []
          },
          "execution_count": 12
        }
      ]
    },
    {
      "cell_type": "code",
      "metadata": {
        "id": "rNuXC3NMCDd8",
        "colab_type": "code",
        "colab": {}
      },
      "source": [
        "fig, ax = plt.subplots(3,figsize=(15,20))\n",
        "\n",
        "ax[0].plot(K,wsst[0])\n",
        "ax[0].set_title(\"kondisi 1\")\n",
        "ax[0].axvline(5,c='red')\n",
        "\n",
        "ax[1].plot(K,wsst[1])\n",
        "ax[1].set_title(\"kondisi 2\")\n",
        "ax[1].axvline(5,c='red')\n",
        "\n",
        "ax[2].plot(K,wsst[2])\n",
        "ax[2].set_title(\"kondisi 3\")\n",
        "ax[2].axvline(5,c='red')"
      ],
      "execution_count": null,
      "outputs": []
    },
    {
      "cell_type": "markdown",
      "metadata": {
        "id": "SNd68-93Rgjp",
        "colab_type": "text"
      },
      "source": [
        "# DeltaTrimax"
      ]
    },
    {
      "cell_type": "code",
      "metadata": {
        "id": "InSMGJ1kRjfI",
        "colab_type": "code",
        "colab": {}
      },
      "source": [
        "import numpy as np\n",
        "import sys\n",
        "import time\n",
        "\n",
        "class DeltaTrimax():\n",
        "    def __init__(self,D):\n",
        "        self.D = D.copy()\n",
        "        self.D_asli = D.copy()\n",
        "    \n",
        "    def hitung_MSR(self, gene, kondisi, waktu, g_add=False, k_add=False, w_add=False):\n",
        "        \n",
        "        \n",
        "        gene_idx = np.expand_dims(np.expand_dims(np.nonzero(gene)[0],axis=0),axis=2)\n",
        "        #\n",
        "        waktu_idx = np.expand_dims(np.expand_dims(np.nonzero(waktu)[0],axis=1),axis=1)\n",
        "        #\n",
        "        kondisi_idx = np.expand_dims(np.expand_dims(np.nonzero(kondisi)[0],axis=0),axis=0)\n",
        "        \n",
        "        \n",
        "        subarr = self.D[waktu_idx, gene_idx, kondisi_idx]\n",
        "        self.n_gene = subarr.shape[1]\n",
        "        self.n_kondisi = subarr.shape[2]\n",
        "        self.n_waktu = subarr.shape[0]\n",
        "        \n",
        "        \n",
        "        # hitung m_iJK (gene)\n",
        "        m_iJK = np.nanmean(np.nanmean(subarr,axis=2),axis=0)\n",
        "        m_iJK = np.expand_dims(np.expand_dims(m_iJK,axis=0),axis=2)\n",
        "        \n",
        "        # hitung m_IjK (kondisi)\n",
        "        m_IjK = np.nanmean(np.nanmean(subarr,axis=0),axis=0)\n",
        "        m_IjK = np.expand_dims(np.expand_dims(m_IjK,axis=0),axis=1)\n",
        "        \n",
        "        # hitung m_IJk (waktu)\n",
        "        m_IJk = np.nanmean(np.nanmean(subarr,axis=2),axis=1)\n",
        "        m_IJk = np.expand_dims(np.expand_dims(m_IJk,axis=1),axis=2)\n",
        "        \n",
        "        # hitung m_IJK\n",
        "        m_IJK = np.mean(subarr)\n",
        "        \n",
        "        # hitung MSR\n",
        "        residue = subarr - m_iJK - m_IjK - m_IJk + (2*m_IJK)\n",
        "        SR = np.square(residue)\n",
        "        self.MSR = np.mean(SR)\n",
        "        self.MSR_gene = np.nanmean(np.nanmean(SR,axis=2),axis=0)\n",
        "        self.MSR_kondisi = np.nanmean(np.nanmean(SR,axis=0),axis=0)\n",
        "        self.MSR_waktu = np.nanmean(np.nanmean(SR,axis=2),axis=1)\n",
        "        \n",
        "        #untuk node addition\n",
        "        #self.D_asli = self.D\n",
        "        \n",
        "        if g_add:\n",
        "            non_gene = np.expand_dims(np.expand_dims(np.nonzero(gene==0)[0],axis=0),axis=2)\n",
        "            \n",
        "            \n",
        "            # hitung m_iJK (untuk gene yang bukan tricluster dari data asli)\n",
        "            D_b = self.D.copy()\n",
        "            D_b[waktu_idx,non_gene, kondisi_idx] = self.D_asli[waktu_idx, non_gene, kondisi_idx]\n",
        "\n",
        "            subarr_b = D_b[waktu_idx, non_gene, kondisi_idx]\n",
        "\n",
        "            m_iJK_b = np.nanmean(np.nanmean(subarr_b,axis=2),axis=0)\n",
        "            m_iJK_b = np.expand_dims(np.expand_dims(m_iJK_b,axis=0),axis=2)\n",
        "            \n",
        "            r = subarr_b - m_iJK_b - m_IjK - m_IJk + (2*m_IJK)\n",
        "            sr_b = np.square(r)\n",
        "            self.MSR_gene_b = np.nanmean(np.nanmean(sr_b,axis=2),axis=0)\n",
        "            \n",
        "        \n",
        "        if k_add:\n",
        "            non_kondisi = np.expand_dims(np.expand_dims(np.nonzero(kondisi==0)[0],axis=0),axis=0)\n",
        "            \n",
        "            # hitung m_IjK (untuk kondisi yg bukan tricluster)\n",
        "            D_b = self.D.copy()\n",
        "            D_b[waktu_idx,gene_idx, non_kondisi] = self.D_asli[waktu_idx,gene_idx, non_kondisi]\n",
        "            subarr_b = D_b[waktu_idx,gene_idx, non_kondisi]\n",
        "\n",
        "            m_IjK_b = np.nanmean(np.nanmean(subarr_b,axis=0),axis=0)\n",
        "            m_IjK_b = np.expand_dims(np.expand_dims(m_IjK_b,axis=0),axis=1)\n",
        "            \n",
        "            r = subarr_b - m_iJK - m_IjK_b - m_IJk + (2*m_IJK)\n",
        "            sr_b = np.square(r)\n",
        "            self.MSR_kondisi_b = np.nanmean(np.nanmean(sr_b,axis=0),axis=0)\n",
        "        \n",
        "        if w_add:\n",
        "            non_waktu = np.expand_dims(np.expand_dims(np.nonzero(waktu==0)[0],axis=1),axis=1)\n",
        "            \n",
        "            # hitung m_IJk (untuk waktu yg bukan tricluster)\n",
        "            D_b = self.D.copy()\n",
        "            D_b[non_waktu, gene_idx, kondisi_idx] = self.D_asli[non_waktu, gene_idx, kondisi_idx]\n",
        "            subarr_b = D_b[non_waktu, gene_idx, kondisi_idx]\n",
        "\n",
        "            m_IJk_b = np.nanmean(np.nanmean(subarr_b,axis=2),axis=1)\n",
        "            m_IJk_b = np.expand_dims(np.expand_dims(m_IJk_b,axis=1),axis=2)\n",
        "\n",
        "            r = subarr_b - m_iJK - m_IjK - m_IJk_b + (2*m_IJK)\n",
        "            sr_b = np.square(r)\n",
        "            self.MSR_waktu_b = np.nanmean(np.nanmean(sr_b,axis=2),axis=1)\n",
        "       \n",
        "\n",
        "    def multiple_node_deletion(self, gene, kondisi, waktu):\n",
        "        self.hitung_MSR(gene, kondisi, waktu)\n",
        "        #i = 1\n",
        "        self.muldel = 1\n",
        "        while (self.MSR > self.delta):\n",
        "            #print(\"mnd ke\", i,\"--MSR\",self.MSR)\n",
        "            hapus = 0\n",
        "            \n",
        "            # hapus gene\n",
        "            if (self.n_gene > self.gene_cutoff):\n",
        "                gene_dihapus = self.MSR_gene > (self.MSR * self.lamda)\n",
        "                nonz_idx = gene.nonzero()[0]\n",
        "                if gene_dihapus.any():\n",
        "                    hapus = 1\n",
        "                gene.put(nonz_idx[gene_dihapus],0)\n",
        "                # hitung kembali msr\n",
        "                self.hitung_MSR(gene, kondisi, waktu)\n",
        "                \n",
        "            # hapus kondisi\n",
        "            if (self.n_kondisi > self.kondisi_cutoff):\n",
        "                kondisi_dihapus = self.MSR_kondisi > (self.MSR * self.lamda)\n",
        "                nonz_idx = kondisi.nonzero()[0]\n",
        "                if kondisi_dihapus.any():\n",
        "                    hapus = 1\n",
        "                kondisi.put(nonz_idx[kondisi_dihapus],0)\n",
        "                # hitung kembali msr\n",
        "                self.hitung_MSR(gene, kondisi, waktu)\n",
        "                \n",
        "            # hapus waktu\n",
        "            if (self.n_waktu > self.waktu_cutoff):\n",
        "                waktu_dihapus = self.MSR_waktu > (self.MSR * self.lamda)\n",
        "                nonz_idx = waktu.nonzero()[0]\n",
        "                if waktu_dihapus.any():\n",
        "                    hapus = 1\n",
        "                waktu.put(nonz_idx[waktu_dihapus],0)\n",
        "                # hitung kembali msr\n",
        "                self.hitung_MSR(gene, kondisi, waktu)\n",
        "            \n",
        "            # menghentikan iterasi\n",
        "            if not hapus:\n",
        "                break\n",
        "            sys.stdout.write('\\r multiple deletion {} - single deletion {} - node additon {}'.format(\n",
        "                self.muldel, self.singdel, self.nodeadd\n",
        "            ))\n",
        "            sys.stdout.flush()\n",
        "\n",
        "            #i += 1\n",
        "            self.muldel += 1\n",
        "\n",
        "            \n",
        "        #print(\"MSR akhir multiple node addition :\",self.MSR)\n",
        "        return gene, kondisi, waktu\n",
        "  \n",
        "    def single_node_deletion(self, gene, kondisi, waktu):\n",
        "        self.hitung_MSR(gene, kondisi, waktu)\n",
        "        #print(\"MSR awal snd\",self.MSR)\n",
        "        #i = 1\n",
        "        self.singdel = 1\n",
        "        while (self.MSR > self.delta):\n",
        "            #print(\"snd ke-\", i, \"---MSR\",self.MSR)\n",
        "            \n",
        "            gene_max = np.argmax(self.MSR_gene)\n",
        "            kondisi_max = np.argmax(self.MSR_kondisi)\n",
        "            waktu_max = np.argmax(self.MSR_waktu)\n",
        "            \n",
        "            if (self.MSR_gene[gene_max] > self.MSR_kondisi[kondisi_max]):\n",
        "                if (self.MSR_gene[gene_max] > self.MSR_waktu[waktu_max]):\n",
        "                    # Hapus Gene\n",
        "                    nonz_idx = gene.nonzero()[0]\n",
        "                    #print(\"menghapus gen ke-\",gene_max)\n",
        "                    gene.put(nonz_idx[gene_max],0)\n",
        "                else:\n",
        "                    # Hapus waktu\n",
        "                    nonz_idx = waktu.nonzero()[0]\n",
        "                    waktu.put(nonz_idx[waktu_max],0)\n",
        "                    #print(\"menghapus waktu ke-\",waktu_max)\n",
        "            else:\n",
        "                if (self.MSR_kondisi[kondisi_max] > self.MSR_waktu[waktu_max]):\n",
        "                    # Hapus Kondisi\n",
        "                    nonz_idx = kondisi.nonzero()[0]\n",
        "                    kondisi.put(nonz_idx[kondisi_max],0)\n",
        "                    #print(\"menghapus kondisi ke-\",kondisi_max)\n",
        "                else:\n",
        "                    # Hapus Waktu\n",
        "                    nonz_idx = waktu.nonzero()[0]\n",
        "                    waktu.put(nonz_idx[waktu_max],0)\n",
        "                    #print(\"menghapus waktu ke-\",waktu_max)\n",
        "            \n",
        "            sys.stdout.write('\\r multiple deletion {} - single deletion {} - node additon {}'.format(\n",
        "                self.muldel, self.singdel, self.nodeadd\n",
        "            ))\n",
        "            sys.stdout.flush()\n",
        "            \n",
        "            #i+=1\n",
        "            self.singdel += 1\n",
        "            self.hitung_MSR(gene, kondisi, waktu)\n",
        "\n",
        "\n",
        "        #print(\"MSR akhir single node deletion :\", self.MSR)\n",
        "        return gene, kondisi, waktu\n",
        "                    \n",
        "    def node_addition(self, gene, kondisi, waktu):\n",
        "        self.hitung_MSR(gene, kondisi, waktu)\n",
        "        #print(\"MSR awal node addition :\",self.MSR)\n",
        "        #i = 1\n",
        "        self.nodeadd = 1\n",
        "        while True:\n",
        "            #print(\"node addition ke-\",i)\n",
        "            \n",
        "            self.hitung_MSR(gene, kondisi, waktu)\n",
        "            \n",
        "            #penambaha gen\n",
        "            self.hitung_MSR(gene, kondisi, waktu, g_add=True)\n",
        "            no_gene_idx = np.nonzero(gene==0)[0]\n",
        "            gene_to_add = self.MSR_gene_b < self.MSR\n",
        "            if gene_to_add.any():\n",
        "              gene.put(no_gene_idx[gene_to_add],1)\n",
        "\n",
        "              g_idx = np.expand_dims(np.expand_dims(no_gene_idx[gene_to_add],axis=0),axis=2)\n",
        "              k_idx = np.expand_dims(np.expand_dims(np.nonzero(kondisi)[0],axis=0),axis=0)\n",
        "              w_idx = np.expand_dims(np.expand_dims(np.nonzero(waktu)[0],axis=1),axis=2)\n",
        "\n",
        "              self.D[w_idx, g_idx, k_idx] = self.D_asli[w_idx, g_idx, k_idx]\n",
        "             \n",
        "            self.hitung_MSR(gene, kondisi, waktu)\n",
        "             \n",
        "            #penambahan kondisi\n",
        "            self.hitung_MSR(gene, kondisi, waktu, k_add =True)\n",
        "            no_kondisi = np.nonzero(kondisi==0)[0]\n",
        "            kondisi_to_add = self.MSR_kondisi_b < self.MSR\n",
        "            if kondisi_to_add.any():\n",
        "              kondisi.put(no_kondisi[kondisi_to_add],1)\n",
        "\n",
        "              g_idx = np.expand_dims(np.expand_dims(np.nonzero(gene)[0],axis=0),axis=2)\n",
        "              k_idx = np.expand_dims(np.expand_dims(no_kondisi[kondisi_to_add],axis=0),axis=0)\n",
        "              w_idx = np.expand_dims(np.expand_dims(np.nonzero(waktu)[0],axis=1),axis=2)\n",
        "\n",
        "              self.D[w_idx, g_idx, k_idx] = self.D_asli[w_idx, g_idx, k_idx]\n",
        "             \n",
        "            self.hitung_MSR(gene, kondisi, waktu)\n",
        "             \n",
        "            #penambaha waktu\n",
        "            self.hitung_MSR(gene, kondisi, waktu, w_add=True)\n",
        "            no_waktu = np.nonzero(waktu==0)[0]\n",
        "            waktu_to_add = self.MSR_waktu_b < self.MSR\n",
        "            if waktu_to_add.any():\n",
        "              waktu.put(no_waktu[waktu_to_add],1)\n",
        "\n",
        "              g_idx = np.expand_dims(np.expand_dims(np.nonzero(gene)[0],axis=0),axis=2)\n",
        "              k_idx = np.expand_dims(np.expand_dims(np.nonzero(kondisi)[0],axis=0),axis=0)\n",
        "              w_idx = np.expand_dims(np.expand_dims(no_waktu[waktu_to_add],axis=1),axis=2)\n",
        "\n",
        "              self.D[w_idx, g_idx, k_idx] = self.D_asli[w_idx, g_idx, k_idx]\n",
        "             \n",
        "            self.hitung_MSR(gene, kondisi, waktu)\n",
        "\n",
        "            if not gene_to_add.any() and not kondisi_to_add.any() and not waktu_to_add.any():\n",
        "                break\n",
        "            \n",
        "            sys.stdout.write('\\r multiple deletion {} - single deletion {} - node additon {}'.format(\n",
        "                self.muldel, self.singdel, self.nodeadd\n",
        "            ))\n",
        "            sys.stdout.flush()\n",
        "\n",
        "            #i+=1\n",
        "            self.nodeadd +=1\n",
        "        #print(\"MSR akhir node addition :\",self.MSR)\n",
        "        return gene, kondisi, waktu\n",
        "    \n",
        "    \n",
        "    def mask(self, gene, kondisi, waktu, minval, maxval):\n",
        "        g = np.expand_dims(np.expand_dims(gene.nonzero()[0],axis=0),axis=2)\n",
        "        k = np.expand_dims(np.expand_dims(kondisi.nonzero()[0],axis=0),axis=0)\n",
        "        w = np.expand_dims(np.expand_dims(waktu.nonzero()[0],axis=1),axis=2)\n",
        "        \n",
        "        shape = np.count_nonzero(waktu), np.count_nonzero(gene), np.count_nonzero(kondisi)\n",
        "        mask_val = np.random.uniform(self.minval, self.maxval, shape)\n",
        "        self.D[w,g,k] = mask_val\n",
        "    \n",
        "    def fit(self, delta, lamda, n_triclusters=0):\n",
        "\n",
        "        awal = time.time()\n",
        "        \n",
        "        n_waktu, n_gene, n_kondisi = self.D.shape\n",
        "        \n",
        "        self.delta = delta\n",
        "        self.lamda = lamda\n",
        "        \n",
        "        # treshold untuk multiple node deletion\n",
        "        self.gene_cutoff, self.kondisi_cutoff, self.waktu_cutoff = 50,50,50\n",
        "        #nilai untuk masking\n",
        "        self.minval = np.min(self.D)\n",
        "        self.maxval = np.max(self.D)\n",
        "        \n",
        "        hasil_gen = []\n",
        "        hasil_kondisi = []\n",
        "        hasil_waktu = []\n",
        "        \n",
        "        msr = []\n",
        "\n",
        "        i = 1\n",
        "        \n",
        "        while True:\n",
        "            self.muldel = 0\n",
        "            self.singdel =0\n",
        "            self.nodeadd = 0\n",
        "\n",
        "            print(\"Tricluster \",i)\n",
        "            waktu = np.ones(n_waktu, dtype=np.bool)\n",
        "            gene = np.ones(n_gene, dtype=np.bool)\n",
        "            kondisi = np.ones(n_kondisi, dtype=np.bool)\n",
        "            \n",
        "            # Multiple Node Deletion\n",
        "            gene, kondisi, waktu = self.multiple_node_deletion(gene, kondisi, waktu)\n",
        "            \n",
        "            # Single Node Deletion\n",
        "            gene, kondisi, waktu = self.single_node_deletion(gene, kondisi, waktu)\n",
        "            \n",
        "            # Node Addition\n",
        "            gene, kondisi, waktu = self.node_addition(gene, kondisi, waktu)\n",
        "            \n",
        "            #print(\"jumlah gen akhir\", gene.sum())\n",
        "            \n",
        "\n",
        "            if (gene.sum()==1) or (kondisi.sum()==1) or (waktu.sum()==1):\n",
        "                akhir = ((time.time()-awal)/60)\n",
        "                print(\"\\n Waktu Komputasi : {} menit\".format(akhir))\n",
        "                break\n",
        "            \n",
        "            print(\"\\n------------- MSR: \",self.MSR)\n",
        "\n",
        "            hasil_gen.append(gene)\n",
        "            hasil_kondisi.append(kondisi)\n",
        "            hasil_waktu.append(waktu)\n",
        "\n",
        "            msr.append(self.MSR)\n",
        "\n",
        "            if (n_triclusters == i):\n",
        "                break\n",
        "    \n",
        "    \n",
        "            # mask\n",
        "            self.mask(gene, kondisi, waktu, self.minval, self.maxval)\n",
        "            \n",
        "            i+=1\n",
        "            \n",
        "        return hasil_gen, hasil_kondisi, hasil_waktu, msr\n",
        "\n"
      ],
      "execution_count": null,
      "outputs": []
    },
    {
      "cell_type": "code",
      "metadata": {
        "id": "M1gaIkNtR6BI",
        "colab_type": "code",
        "colab": {}
      },
      "source": [
        "a = DeltaTrimax(D)\n",
        "g1,k1,w1, msr1 = a.fit(0.0068,1.15,n_triclusters=0)"
      ],
      "execution_count": null,
      "outputs": []
    },
    {
      "cell_type": "code",
      "metadata": {
        "id": "zfxqufyoe_sF",
        "colab_type": "code",
        "colab": {}
      },
      "source": [
        "g2,k2,w2, msr2 = a.fit(0.0089,1.15,n_triclusters=0)"
      ],
      "execution_count": null,
      "outputs": []
    },
    {
      "cell_type": "code",
      "metadata": {
        "id": "RsKa0sZMfHrr",
        "colab_type": "code",
        "colab": {}
      },
      "source": [
        "g3,k3,w3, msr3 = a.fit(0.0106,1.15,n_triclusters=0)"
      ],
      "execution_count": null,
      "outputs": []
    },
    {
      "cell_type": "code",
      "metadata": {
        "id": "LAq8iyJ1fSLo",
        "colab_type": "code",
        "colab": {}
      },
      "source": [
        "g4,k4,w4, msr4 = a.fit(0.0136,1.15,n_triclusters=0)"
      ],
      "execution_count": null,
      "outputs": []
    },
    {
      "cell_type": "code",
      "metadata": {
        "id": "tblOduHMfZKW",
        "colab_type": "code",
        "colab": {}
      },
      "source": [
        "g5,k5,w5, msr5 = a.fit(0.0140,1.15,n_triclusters=0)"
      ],
      "execution_count": null,
      "outputs": []
    },
    {
      "cell_type": "code",
      "metadata": {
        "id": "OqGEn8OXfez1",
        "colab_type": "code",
        "colab": {}
      },
      "source": [
        "g6,k6,w6, msr6 = a.fit(0.0068,1.2,n_triclusters=0)"
      ],
      "execution_count": null,
      "outputs": []
    },
    {
      "cell_type": "code",
      "metadata": {
        "id": "RZuFrEHBfpK1",
        "colab_type": "code",
        "colab": {}
      },
      "source": [
        "g7,k7,w7, msr7 = a.fit(0.0089,1.2,n_triclusters=0)"
      ],
      "execution_count": null,
      "outputs": []
    },
    {
      "cell_type": "code",
      "metadata": {
        "id": "qsjnWI9gfuSz",
        "colab_type": "code",
        "colab": {}
      },
      "source": [
        "g8,k8,w8, msr8 = a.fit(0.0106,1.2,n_triclusters=0)"
      ],
      "execution_count": null,
      "outputs": []
    },
    {
      "cell_type": "code",
      "metadata": {
        "id": "Ov1Rllhvfy17",
        "colab_type": "code",
        "colab": {}
      },
      "source": [
        "g9,k9,w9, msr9 = a.fit(0.0136,1.2,n_triclusters=0)"
      ],
      "execution_count": null,
      "outputs": []
    },
    {
      "cell_type": "code",
      "metadata": {
        "id": "m3RjyziEf4Gc",
        "colab_type": "code",
        "colab": {}
      },
      "source": [
        "g10,k10,w10, msr10 = a.fit(0.0140,1.2,n_triclusters=0)"
      ],
      "execution_count": null,
      "outputs": []
    },
    {
      "cell_type": "code",
      "metadata": {
        "id": "m18qaV_Df-zz",
        "colab_type": "code",
        "colab": {}
      },
      "source": [
        "g11,k11,w11, msr11 = a.fit(0.0068,1.25,n_triclusters=0)"
      ],
      "execution_count": null,
      "outputs": []
    },
    {
      "cell_type": "code",
      "metadata": {
        "id": "uyq_JtYUgH2g",
        "colab_type": "code",
        "colab": {}
      },
      "source": [
        "g12,k12,w12, msr12 = a.fit(0.0089,1.25,n_triclusters=0)"
      ],
      "execution_count": null,
      "outputs": []
    },
    {
      "cell_type": "code",
      "metadata": {
        "id": "k5Bey9IqgMeV",
        "colab_type": "code",
        "colab": {}
      },
      "source": [
        "g13,k13,w13, msr13 = a.fit(0.0106,1.25,n_triclusters=0)"
      ],
      "execution_count": null,
      "outputs": []
    },
    {
      "cell_type": "code",
      "metadata": {
        "id": "_spc2yBygRtk",
        "colab_type": "code",
        "colab": {}
      },
      "source": [
        "g14,k14,w14, msr14 = a.fit(0.0136,1.25,n_triclusters=0)"
      ],
      "execution_count": null,
      "outputs": []
    },
    {
      "cell_type": "code",
      "metadata": {
        "id": "uMZzcdVxgX_g",
        "colab_type": "code",
        "colab": {}
      },
      "source": [
        "g15,k15,w15, msr15 = a.fit(0.0140,1.25,n_triclusters=0)"
      ],
      "execution_count": null,
      "outputs": []
    },
    {
      "cell_type": "markdown",
      "metadata": {
        "id": "VnvEUv1BOg7G",
        "colab_type": "text"
      },
      "source": [
        "#Analisis hasil simulasi\n"
      ]
    },
    {
      "cell_type": "markdown",
      "metadata": {
        "id": "5xBp-GfqOoGA",
        "colab_type": "text"
      },
      "source": [
        "Import data"
      ]
    },
    {
      "cell_type": "code",
      "metadata": {
        "id": "6zZ-EKGUOnMJ",
        "colab_type": "code",
        "colab": {
          "base_uri": "https://localhost:8080/",
          "height": 164
        },
        "outputId": "c5acf750-2076-4e6d-ad55-11b8705848b6"
      },
      "source": [
        "!git clone https://github.com/novalsaputra/outputskripsi"
      ],
      "execution_count": null,
      "outputs": [
        {
          "output_type": "stream",
          "text": [
            "Cloning into 'outputskripsi'...\n",
            "remote: Enumerating objects: 8, done.\u001b[K\n",
            "remote: Counting objects: 100% (8/8), done.\u001b[K\n",
            "remote: Compressing objects: 100% (8/8), done.\u001b[K\n",
            "remote: Total 534 (delta 0), reused 3 (delta 0), pack-reused 526\u001b[K\n",
            "Receiving objects: 100% (534/534), 112.08 MiB | 17.60 MiB/s, done.\n",
            "Resolving deltas: 100% (272/272), done.\n",
            "Checking out files: 100% (80/80), done.\n"
          ],
          "name": "stdout"
        }
      ]
    },
    {
      "cell_type": "code",
      "metadata": {
        "id": "auFJerg8PYSI",
        "colab_type": "code",
        "colab": {}
      },
      "source": [
        "import numpy as np\n",
        "#simulasi 1\n",
        "g1 = np.loadtxt('outputskripsi/simulasi_1/gen.txt'); g1 = g1.astype(bool)\n",
        "k1 = np.loadtxt('outputskripsi/simulasi_1/kondisi.txt'); k1 =k1.astype(bool) \n",
        "w1 = np.loadtxt('outputskripsi/simulasi_1/waktu.txt'); w1 = w1.astype(bool)\n",
        "msr1 = np.loadtxt('outputskripsi/simulasi_1/msr.txt')\n",
        " \n",
        "#simulasi 2\n",
        "g2 = np.loadtxt('outputskripsi/simulasi_2/gen.txt'); g2=g2.astype(bool)\n",
        "k2 = np.loadtxt('outputskripsi/simulasi_2/kondisi.txt'); k2=k2.astype(bool)\n",
        "w2 = np.loadtxt('outputskripsi/simulasi_2/waktu.txt'); w2=w2.astype(bool)\n",
        "msr2 = np.loadtxt('outputskripsi/simulasi_2/msr.txt')\n",
        " \n",
        "#simulasi 3\n",
        "g3 = np.loadtxt('outputskripsi/simulasi_3/gen.txt'); g3=g3.astype(bool)\n",
        "k3 = np.loadtxt('outputskripsi/simulasi_3/kondisi.txt'); k3=k3.astype(bool)\n",
        "w3 = np.loadtxt('outputskripsi/simulasi_3/waktu.txt'); w3=w3.astype(bool)\n",
        "msr3 = np.loadtxt('outputskripsi/simulasi_3/msr.txt')\n",
        " \n",
        "#simulasi 4\n",
        "g4 = np.loadtxt('outputskripsi/simulasi_4/gen.txt'); g4=g4.astype(bool)\n",
        "k4 = np.loadtxt('outputskripsi/simulasi_4/kondisi.txt'); k4=k4.astype(bool)\n",
        "w4 = np.loadtxt('outputskripsi/simulasi_4/waktu.txt'); w4=w4.astype(bool)\n",
        "msr4 = np.loadtxt('outputskripsi/simulasi_4/msr.txt')\n",
        " \n",
        "#simulasi 5\n",
        "g5 = np.loadtxt('outputskripsi/simulasi_5/gen.txt'); g5=g5.astype(bool)\n",
        "k5 = np.loadtxt('outputskripsi/simulasi_5/kondisi.txt'); k5=k5.astype(bool)\n",
        "w5 = np.loadtxt('outputskripsi/simulasi_5/waktu.txt'); w5=w5.astype(bool)\n",
        "msr5 = np.loadtxt('outputskripsi/simulasi_5/msr.txt')\n",
        " \n",
        "#simulasi 6\n",
        "g6 = np.loadtxt('outputskripsi/simulasi_6/gen6.txt'); g6=g6.astype(bool)\n",
        "k6 = np.loadtxt('outputskripsi/simulasi_6/kondisi6.txt'); k6=k6.astype(bool)\n",
        "w6 = np.loadtxt('outputskripsi/simulasi_6/waktu6.txt'); w6=w6.astype(bool)\n",
        "msr6 = np.loadtxt('outputskripsi/simulasi_6/msr6.txt')\n",
        " \n",
        "#simulasi 7\n",
        "g7 = np.loadtxt('outputskripsi/simulasi_7/gen7.txt'); g7=g7.astype(bool)\n",
        "k7 = np.loadtxt('outputskripsi/simulasi_7/kondisi7.txt'); k7=k7.astype(bool)\n",
        "w7 = np.loadtxt('outputskripsi/simulasi_7/waktu7.txt'); w7=w7.astype(bool)\n",
        "msr7 = np.loadtxt('outputskripsi/simulasi_7/msr7.txt')\n",
        " \n",
        "#simulasi 8\n",
        "g8 = np.loadtxt('outputskripsi/simulasi_8/gen8.txt'); g8=g8.astype(bool)\n",
        "k8 = np.loadtxt('outputskripsi/simulasi_8/kondisi8.txt'); k8=k8.astype(bool)\n",
        "w8 = np.loadtxt('outputskripsi/simulasi_8/waktu8.txt'); w8=w8.astype(bool)\n",
        "msr8 = np.loadtxt('outputskripsi/simulasi_8/msr8.txt')\n",
        " \n",
        "#simulasi 9\n",
        "g9 = np.loadtxt('outputskripsi/simulasi_9/gen9.txt'); g9=g9.astype(bool)\n",
        "k9 = np.loadtxt('outputskripsi/simulasi_9/kondisi9.txt'); k9=k9.astype(bool)\n",
        "w9 = np.loadtxt('outputskripsi/simulasi_9/waktu9.txt'); w9=w9.astype(bool)\n",
        "msr9 = np.loadtxt('outputskripsi/simulasi_9/msr9.txt')\n",
        " \n",
        "#simulasi 10\n",
        "g10 = np.loadtxt('outputskripsi/simulasi_10/gen10.txt'); g10=g10.astype(bool)\n",
        "k10= np.loadtxt('outputskripsi/simulasi_10/kondisi10.txt'); k10=k10.astype(bool)\n",
        "w10 = np.loadtxt('outputskripsi/simulasi_10/waktu10.txt'); w10=w10.astype(bool)\n",
        "msr10 = np.loadtxt('outputskripsi/simulasi_10/msr10.txt')\n",
        " \n",
        "#simulasi 11\n",
        "g11 = np.loadtxt('outputskripsi/simulasi_11/gen11.txt'); g11=g11.astype(bool)\n",
        "k11 = np.loadtxt('outputskripsi/simulasi_11/kondisi11.txt'); k11=k11.astype(bool)\n",
        "w11= np.loadtxt('outputskripsi/simulasi_11/waktu11.txt'); w11=w11.astype(bool)\n",
        "msr11 = np.loadtxt('outputskripsi/simulasi_11/msr11.txt')\n",
        " \n",
        "#simulasi 12\n",
        "g12 = np.loadtxt('outputskripsi/simulasi_12/gen12.txt'); g12=g12.astype(bool)\n",
        "k12 = np.loadtxt('outputskripsi/simulasi_12/kondisi12.txt'); k12=k12.astype(bool)\n",
        "w12 = np.loadtxt('outputskripsi/simulasi_12/waktu12.txt'); w12=w12.astype(bool)\n",
        "msr12 = np.loadtxt('outputskripsi/simulasi_12/msr12.txt')\n",
        " \n",
        "#simulasi 13\n",
        "g13 = np.loadtxt('outputskripsi/simulasi_13/gen13.txt'); g13=g13.astype(bool)\n",
        "k13= np.loadtxt('outputskripsi/simulasi_13/kondisi13.txt'); k13=k13.astype(bool)\n",
        "w13= np.loadtxt('outputskripsi/simulasi_13/waktu13.txt'); w13=w13.astype(bool)\n",
        "msr13 = np.loadtxt('outputskripsi/simulasi_13/msr13.txt')\n",
        " \n",
        "#simulasi 14\n",
        "g14 = np.loadtxt('outputskripsi/simulasi_14/gen14.txt'); g14=g14.astype(bool)\n",
        "k14= np.loadtxt('outputskripsi/simulasi_14/kondisi14.txt'); k14=k14.astype(bool)\n",
        "w14 = np.loadtxt('outputskripsi/simulasi_14/waktu14.txt'); w14=w14.astype(bool)\n",
        "msr14 = np.loadtxt('outputskripsi/simulasi_14/msr14.txt')\n",
        " \n",
        "#simulasi 15\n",
        "g15 = np.loadtxt('outputskripsi/simulasi_15/gen15.txt'); g15=g15.astype(bool)\n",
        "k15= np.loadtxt('outputskripsi/simulasi_15/kondisi15.txt'); k15=k15.astype(bool)\n",
        "w15 = np.loadtxt('outputskripsi/simulasi_15/waktu15.txt'); w15=w15.astype(bool)\n",
        "msr15 = np.loadtxt('outputskripsi/simulasi_15/msr15.txt')"
      ],
      "execution_count": null,
      "outputs": []
    },
    {
      "cell_type": "markdown",
      "metadata": {
        "id": "zpg-EsArRdQw",
        "colab_type": "text"
      },
      "source": [
        "kualitas setiap simulasi"
      ]
    },
    {
      "cell_type": "code",
      "metadata": {
        "id": "OAYMCmLaRGT8",
        "colab_type": "code",
        "colab": {}
      },
      "source": [
        "# Tricluster Quality Index pada masing-masing delta\n",
        " \n",
        "def TQI(m,i,msr):\n",
        "  x,y,z = m.shape\n",
        "  v = x*y*z\n",
        "  td = msr[i]/v\n",
        "  return td\n",
        " \n",
        "Q1 = []\n",
        "for i in range(len(msr1)):\n",
        "  m = D[w1[i]][:,g1[i]][:,:,k1[i]]\n",
        "  Q1.append(TQI(m,i,msr1))\n",
        "Q1 = np.array(Q1)\n",
        "\n",
        "Q2 = []\n",
        "for i in range(len(msr2)):\n",
        "  m = D[w2[i]][:,g2[i]][:,:,k2[i]]\n",
        "  Q2.append(TQI(m,i,msr2))\n",
        "Q2 = np.array(Q2)\n",
        " \n",
        "Q3 = []\n",
        "for i in range(len(msr3)):\n",
        "  m = D[w3[i]][:,g3[i]][:,:,k3[i]]\n",
        "  Q3.append(TQI(m,i,msr3))\n",
        "Q3 = np.array(Q3)\n",
        "\n",
        "Q4 = []\n",
        "for i in range(len(msr4)):\n",
        "  m = D[w4[i]][:,g4[i]][:,:,k4[i]]\n",
        "  Q4.append(TQI(m,i,msr4))\n",
        "Q4 = np.array(Q4)\n",
        "\n",
        "Q5 = []\n",
        "for i in range(len(msr5)):\n",
        "  m = D[w5[i]][:,g5[i]][:,:,k5[i]]\n",
        "  Q5.append(TQI(m,i,msr5))\n",
        "Q5 = np.array(Q5)\n",
        "\n",
        "Q6 = []\n",
        "for i in range(len(msr6)):\n",
        "  m = D[w6[i]][:,g6[i]][:,:,k6[i]]\n",
        "  Q6.append(TQI(m,i,msr6))\n",
        "Q6 = np.array(Q6)\n",
        "\n",
        "Q7 = []\n",
        "for i in range(len(msr7)):\n",
        "  m = D[w7[i]][:,g7[i]][:,:,k7[i]]\n",
        "  Q7.append(TQI(m,i,msr7))\n",
        "Q7 = np.array(Q7)\n",
        "\n",
        "Q8 = []\n",
        "for i in range(len(msr8)):\n",
        "  m = D[w8[i]][:,g8[i]][:,:,k8[i]]\n",
        "  Q8.append(TQI(m,i,msr8))\n",
        "Q8 = np.array(Q8)\n",
        "\n",
        "Q9 = []\n",
        "for i in range(len(msr9)):\n",
        "  m = D[w9[i]][:,g9[i]][:,:,k9[i]]\n",
        "  Q9.append(TQI(m,i,msr9))\n",
        "Q9 = np.array(Q9)\n",
        "\n",
        "Q10 = []\n",
        "for i in range(len(msr10)):\n",
        "  m = D[w10[i]][:,g10[i]][:,:,k10[i]]\n",
        "  Q10.append(TQI(m,i,msr10))\n",
        "Q10 = np.array(Q10)\n",
        "\n",
        "Q11 = []\n",
        "for i in range(len(msr11)):\n",
        "  m = D[w11[i]][:,g11[i]][:,:,k11[i]]\n",
        "  Q11.append(TQI(m,i,msr11))\n",
        "Q11 = np.array(Q11)\n",
        "\n",
        "Q12 = []\n",
        "for i in range(len(msr12)):\n",
        "  m = D[w12[i]][:,g12[i]][:,:,k12[i]]\n",
        "  Q12.append(TQI(m,i,msr12))\n",
        "Q12 = np.array(Q12)\n",
        "\n",
        "Q13 = []\n",
        "for i in range(len(msr13)):\n",
        "  m = D[w13[i]][:,g13[i]][:,:,k13[i]]\n",
        "  Q13.append(TQI(m,i,msr13))\n",
        "Q13 = np.array(Q13)\n",
        "\n",
        "Q14 = []\n",
        "for i in range(len(msr14)):\n",
        "  m = D[w14[i]][:,g14[i]][:,:,k14[i]]\n",
        "  Q14.append(TQI(m,i,msr14))\n",
        "Q14 = np.array(Q14)\n",
        "\n",
        "Q15 = []\n",
        "for i in range(len(msr15)):\n",
        "  m = D[w15[i]][:,g15[i]][:,:,k15[i]]\n",
        "  Q15.append(TQI(m,i,msr15))\n",
        "Q15 = np.array(Q15)"
      ],
      "execution_count": null,
      "outputs": []
    },
    {
      "cell_type": "code",
      "metadata": {
        "id": "UeYQKvdsSKGg",
        "colab_type": "code",
        "colab": {
          "base_uri": "https://localhost:8080/",
          "height": 329
        },
        "outputId": "753aad7f-037f-40b2-cb37-3373d1127c44"
      },
      "source": [
        "print(\"rata-rata TQI pada setiap simulasi \\n\")\n",
        "print(\"mean TQI 1 :\",np.mean(Q1))\n",
        "print(\"mean TQI 2 :\",np.mean(Q2))\n",
        "print(\"mean TQI 3 :\",np.mean(Q3))\n",
        "print(\"mean TQI 4 :\",np.mean(Q4))\n",
        "print(\"mean TQI 5 :\",np.mean(Q5))\n",
        "print(\"mean TQI 6 :\",np.mean(Q6))\n",
        "print(\"mean TQI 7 :\",np.mean(Q7))\n",
        "print(\"mean TQI 8 :\",np.mean(Q8))\n",
        "print(\"mean TQI 9 :\",np.mean(Q9))\n",
        "print(\"mean TQI 10 :\",np.mean(Q10))\n",
        "print(\"mean TQI 11:\",np.mean(Q11))\n",
        "print(\"mean TQI 12 :\",np.mean(Q12))\n",
        "print(\"mean TQI 13 :\",np.mean(Q13))\n",
        "print(\"mean TQI 14 :\",np.mean(Q14))\n",
        "print(\"mean TQI 15 :\",np.mean(Q15))"
      ],
      "execution_count": null,
      "outputs": [
        {
          "output_type": "stream",
          "text": [
            "rata-rata TQI pada setiap simulasi \n",
            "\n",
            "mean TQI 1 : 7.435066964013834e-08\n",
            "mean TQI 2 : 8.356789805736808e-07\n",
            "mean TQI 3 : 5.218082159545898e-07\n",
            "mean TQI 4 : 2.1354868997089955e-06\n",
            "mean TQI 5 : 1.6361485108191928e-06\n",
            "mean TQI 6 : 9.302003749876992e-08\n",
            "mean TQI 7 : 3.943209149151225e-07\n",
            "mean TQI 8 : 1.5025227794570498e-06\n",
            "mean TQI 9 : 3.7008686720620467e-06\n",
            "mean TQI 10 : 2.7097017762553615e-06\n",
            "mean TQI 11: 2.4227449178792566e-07\n",
            "mean TQI 12 : 1.6834143793800965e-06\n",
            "mean TQI 13 : 2.414394293445198e-06\n",
            "mean TQI 14 : 1.2943146871867215e-06\n",
            "mean TQI 15 : 2.955824440150546e-06\n"
          ],
          "name": "stdout"
        }
      ]
    },
    {
      "cell_type": "markdown",
      "metadata": {
        "id": "C6zcy78qXj1f",
        "colab_type": "text"
      },
      "source": [
        "dari hasil tersebut TQI terendah terdapat pada simulasi 6 dengan TQI=9.302003749876992e-0."
      ]
    },
    {
      "cell_type": "code",
      "metadata": {
        "id": "uQzLwa8fj8DR",
        "colab_type": "code",
        "colab": {}
      },
      "source": [
        "tqi = np.array([Q1[:150],Q2[:150],Q3[:150],Q4[:150],Q5[:150],Q6[:150],Q7[:150],Q8[:150],Q9[:150],Q10[:150],\n",
        "                Q11[:150],Q12[:150],Q13[:150],Q14[:150],Q15[:150]])\n",
        "tqi = tqi.transpose()\n",
        "np.savetxt(\"tqi.txt\",tqi)"
      ],
      "execution_count": null,
      "outputs": []
    },
    {
      "cell_type": "code",
      "metadata": {
        "id": "qdcgnTKdQyP9",
        "colab_type": "code",
        "colab": {}
      },
      "source": [
        "#waktu komputasi (menit)\n",
        "s1= 162.6403007864952\n",
        "s2 = 48.183705401420596\n",
        "s3 = 16.615092106660207\n",
        "s4 = 10.160582137107848\n",
        "s5 = 9.485145537058512\n",
        "s6 = 102.84527037938436\n",
        "s7 = 31.104416811466216\n",
        "s8 = 16.02732979853948\n",
        "s9 =  10.056907824675243\n",
        "s10 = 11.385007850329082\n",
        "s11 =276.97829783360163\n",
        "s12 = 65.30329531828562\n",
        "s13 = 27.97074830532074\n",
        "s14 = 12.036254402001699\n",
        "s15 = 15.430982303619384\n"
      ],
      "execution_count": null,
      "outputs": []
    },
    {
      "cell_type": "markdown",
      "metadata": {
        "id": "g_hMV00pYmVj",
        "colab_type": "text"
      },
      "source": [
        "## grafik perbandingan simulasi"
      ]
    },
    {
      "cell_type": "code",
      "metadata": {
        "id": "7n3BwSuOT93i",
        "colab_type": "code",
        "colab": {
          "base_uri": "https://localhost:8080/",
          "height": 110
        },
        "outputId": "1ec65662-c180-4095-c329-290ed9ab4f90"
      },
      "source": [
        "#aktifkan R\n",
        "%load_ext rpy2.ipython"
      ],
      "execution_count": null,
      "outputs": [
        {
          "output_type": "stream",
          "text": [
            "/usr/local/lib/python3.6/dist-packages/rpy2/robjects/pandas2ri.py:14: FutureWarning: pandas.core.index is deprecated and will be removed in a future version.  The public classes are available in the top-level namespace.\n",
            "  from pandas.core.index import Index as PandasIndex\n",
            "/usr/local/lib/python3.6/dist-packages/rpy2/robjects/pandas2ri.py:34: UserWarning: pandas >= 1.0 is not supported.\n",
            "  warnings.warn('pandas >= 1.0 is not supported.')\n"
          ],
          "name": "stderr"
        }
      ]
    },
    {
      "cell_type": "code",
      "metadata": {
        "id": "OoWObgW5ztrt",
        "colab_type": "code",
        "colab": {
          "base_uri": "https://localhost:8080/",
          "height": 293
        },
        "outputId": "85dbe4ed-79f9-41e5-eb46-351539f4024d"
      },
      "source": [
        "%%R\n",
        "version"
      ],
      "execution_count": null,
      "outputs": [
        {
          "output_type": "stream",
          "text": [
            "               _                           \n",
            "platform       x86_64-pc-linux-gnu         \n",
            "arch           x86_64                      \n",
            "os             linux-gnu                   \n",
            "system         x86_64, linux-gnu           \n",
            "status                                     \n",
            "major          3                           \n",
            "minor          6.3                         \n",
            "year           2020                        \n",
            "month          02                          \n",
            "day            29                          \n",
            "svn rev        77875                       \n",
            "language       R                           \n",
            "version.string R version 3.6.3 (2020-02-29)\n",
            "nickname       Holding the Windsock        \n"
          ],
          "name": "stdout"
        }
      ]
    },
    {
      "cell_type": "code",
      "metadata": {
        "id": "ib6mFauV0L7T",
        "colab_type": "code",
        "colab": {
          "base_uri": "https://localhost:8080/",
          "height": 35
        },
        "outputId": "23a0141a-be07-4b31-a4f9-8357368d4bc1"
      },
      "source": [
        "import sys\n",
        "sys.version"
      ],
      "execution_count": null,
      "outputs": [
        {
          "output_type": "execute_result",
          "data": {
            "text/plain": [
              "'3.6.9 (default, Apr 18 2020, 01:56:04) \\n[GCC 8.4.0]'"
            ]
          },
          "metadata": {
            "tags": []
          },
          "execution_count": 3
        }
      ]
    },
    {
      "cell_type": "code",
      "metadata": {
        "id": "eLRJ8qjrYXo8",
        "colab_type": "code",
        "colab": {
          "base_uri": "https://localhost:8080/",
          "height": 311
        },
        "outputId": "25efc7e6-7598-4d52-f945-68255e4a9a77"
      },
      "source": [
        "%%R\n",
        "delta =rep(c(0.0068,0.0089,0.0106,0.0136,0.0140),each=3)\n",
        "lambda=rep(c(1.15,1.2,1.25),5)\n",
        "tqi =c(9.30E-08,    7.44E-08,   2.42E-07,\n",
        "       3.94E-07,    8.36E-07,   1.68E-06,\n",
        "       1.50E-06,    5.22E-07,   2.41E-06,\n",
        "       3.70E-06,    2.14E-06,   1.29E-06,\n",
        "       2.71E-06,    1.64E-06,   2.96E-06\n",
        "  )\n",
        "waktu = c(102.8452704,  162.6403008,    276.9782978,\n",
        "          31.10441681,  48.1837054, 65.30329532,\n",
        "          16.0273298,   16.61509211,    27.97074831,\n",
        "          10.05690782,  10.16058214,    12.0362544,\n",
        "          11.38500785,  9.485145537,    15.4309823\n",
        "          )\n",
        "tabel = data.frame(cbind(delta,lambda,tqi,waktu))\n",
        "tabel"
      ],
      "execution_count": null,
      "outputs": [
        {
          "output_type": "stream",
          "text": [
            "    delta lambda      tqi      waktu\n",
            "1  0.0068   1.15 9.30e-08 102.845270\n",
            "2  0.0068   1.20 7.44e-08 162.640301\n",
            "3  0.0068   1.25 2.42e-07 276.978298\n",
            "4  0.0089   1.15 3.94e-07  31.104417\n",
            "5  0.0089   1.20 8.36e-07  48.183705\n",
            "6  0.0089   1.25 1.68e-06  65.303295\n",
            "7  0.0106   1.15 1.50e-06  16.027330\n",
            "8  0.0106   1.20 5.22e-07  16.615092\n",
            "9  0.0106   1.25 2.41e-06  27.970748\n",
            "10 0.0136   1.15 3.70e-06  10.056908\n",
            "11 0.0136   1.20 2.14e-06  10.160582\n",
            "12 0.0136   1.25 1.29e-06  12.036254\n",
            "13 0.0140   1.15 2.71e-06  11.385008\n",
            "14 0.0140   1.20 1.64e-06   9.485146\n",
            "15 0.0140   1.25 2.96e-06  15.430982\n"
          ],
          "name": "stdout"
        }
      ]
    },
    {
      "cell_type": "code",
      "metadata": {
        "id": "y7tuEvF4YfEC",
        "colab_type": "code",
        "colab": {
          "base_uri": "https://localhost:8080/",
          "height": 497
        },
        "outputId": "b1c36db4-62d8-4c15-8ef4-005ec9d8f6d2"
      },
      "source": [
        "%%R\n",
        "library(dplyr)\n",
        "library(ggplot2)\n",
        "\n",
        "tabel %>% group_by(delta) %>% \n",
        "  ggplot(aes(x=lambda,y=log(tqi), color=factor(delta))) + geom_line(size=1.2) +\n",
        "  geom_point(color='black')+\n",
        "  labs(x=expression(lambda), y=expression(Log(bar(TQI))))+\n",
        "  scale_color_discrete(expression(delta))"
      ],
      "execution_count": null,
      "outputs": [
        {
          "output_type": "display_data",
          "data": {
            "image/png": "[encoded data removed]"
          },
          "metadata": {
            "tags": []
          }
        }
      ]
    },
    {
      "cell_type": "code",
      "metadata": {
        "id": "4EbIJvV5ukrF",
        "colab_type": "code",
        "colab": {
          "base_uri": "https://localhost:8080/",
          "height": 497
        },
        "outputId": "c7ec45f7-41f9-4f03-e2f0-bdb9ce8b8272"
      },
      "source": [
        "%%R\n",
        "tabel %>% group_by(lambda) %>% \n",
        "  ggplot(aes(x=delta,y=log(tqi), color=factor(lambda))) + geom_line(size=1.2) +\n",
        "  geom_point(color='black')+\n",
        "  labs(x=expression(delta), y=expression(bar(TQI)))+\n",
        "  scale_color_discrete(expression(lambda))"
      ],
      "execution_count": null,
      "outputs": [
        {
          "output_type": "display_data",
          "data": {
            "image/png": "[encoded data removed]"
          },
          "metadata": {
            "tags": []
          }
        }
      ]
    },
    {
      "cell_type": "code",
      "metadata": {
        "id": "z-d21WF6JtcM",
        "colab_type": "code",
        "colab": {
          "base_uri": "https://localhost:8080/",
          "height": 497
        },
        "outputId": "625dc77a-63a2-47d1-8487-e9aab251a193"
      },
      "source": [
        "%%R\n",
        "library(ggplot2)\n",
        "ggplot(tabel,aes(fill=factor(lambda),y=(tqi*1000000),x=factor(delta)))+\n",
        "  geom_bar(position=\"dodge\",stat=\"identity\")+\n",
        "  labs(x=expression(delta), y=expression(bar(TQI)))+\n",
        "  scale_color_discrete(expression(lambda))"
      ],
      "execution_count": null,
      "outputs": [
        {
          "output_type": "display_data",
          "data": {
            "image/png": "[encoded data removed]"
          },
          "metadata": {
            "tags": []
          }
        }
      ]
    },
    {
      "cell_type": "code",
      "metadata": {
        "id": "cx8S4jIcltML",
        "colab_type": "code",
        "colab": {
          "base_uri": "https://localhost:8080/",
          "height": 403
        },
        "outputId": "d2451f40-a2e8-45c9-db0e-57fa5cc88ecc"
      },
      "source": [
        "%%R\n",
        "q <- read.table('tqi.txt')\n",
        "no <- 1:range(150)\n",
        "q <- cbind(no,q)\n",
        "head(q)"
      ],
      "execution_count": null,
      "outputs": [
        {
          "output_type": "stream",
          "text": [
            "  no           V1           V2           V3           V4           V5\n",
            "1  1 2.758676e-08 1.256185e-08 1.071787e-08 1.005856e-08 1.005856e-08\n",
            "2  2 4.702129e-08 2.158728e-08 1.557668e-08 3.168323e-08 3.168323e-08\n",
            "3  3 4.703697e-08 2.114424e-08 1.786111e-08 1.676603e-08 1.652599e-08\n",
            "4  4 4.645023e-08 2.205885e-08 1.692478e-08 5.013745e-08 4.772290e-08\n",
            "5  5 4.994016e-08 2.345947e-08 1.668832e-08 1.766510e-08 1.731224e-08\n",
            "6  6 5.729025e-08 2.294563e-08 1.712775e-08 4.621069e-08 3.254526e-08\n",
            "            V6           V7           V8           V9          V10          V11\n",
            "1 2.795784e-08 1.384233e-08 1.109800e-08 1.000743e-08 1.000743e-08 2.758676e-08\n",
            "2 4.500896e-08 2.023194e-08 1.535754e-08 3.349509e-08 3.349509e-08 4.702129e-08\n",
            "3 4.711321e-08 2.087260e-08 1.621852e-08 5.931725e-08 5.931725e-08 4.703697e-08\n",
            "4 5.024463e-08 2.198445e-08 1.605851e-08 3.849688e-08 4.188610e-08 4.645023e-08\n",
            "5 5.054604e-08 2.230954e-08 1.650012e-08 5.588790e-08 5.205077e-08 4.994016e-08\n",
            "6 5.642337e-08 2.456202e-08 1.699385e-08 4.745458e-08 3.743937e-08 5.729025e-08\n",
            "           V12          V13          V14          V15\n",
            "1 1.291176e-08 1.045174e-08 1.011543e-08 1.011543e-08\n",
            "2 2.073779e-08 1.721496e-08 4.125466e-08 1.595119e-06\n",
            "3 2.136243e-08 1.728273e-08 1.960569e-08 1.701901e-08\n",
            "4 2.328182e-08 1.835153e-08 4.870690e-08 4.755181e-08\n",
            "5 2.319731e-08 1.859936e-08 1.554375e-08 1.736549e-08\n",
            "6 2.409766e-08 1.993342e-08 3.259900e-08 3.030510e-08\n"
          ],
          "name": "stdout"
        }
      ]
    },
    {
      "cell_type": "code",
      "metadata": {
        "id": "t9R3O5JSJmld",
        "colab_type": "code",
        "colab": {}
      },
      "source": [
        ""
      ],
      "execution_count": null,
      "outputs": []
    },
    {
      "cell_type": "code",
      "metadata": {
        "id": "E1SuSQblpxve",
        "colab_type": "code",
        "colab": {
          "base_uri": "https://localhost:8080/",
          "height": 237
        },
        "outputId": "af8d9690-6177-44d9-83e9-91e009ce90e0"
      },
      "source": [
        "%%R\n",
        "head(q)[1:3,]"
      ],
      "execution_count": null,
      "outputs": [
        {
          "output_type": "stream",
          "text": [
            "  no           V1           V2           V3           V4           V5\n",
            "1  1 2.758676e-08 1.256185e-08 1.071787e-08 1.005856e-08 1.005856e-08\n",
            "2  2 4.702129e-08 2.158728e-08 1.557668e-08 3.168323e-08 3.168323e-08\n",
            "3  3 4.703697e-08 2.114424e-08 1.786111e-08 1.676603e-08 1.652599e-08\n",
            "            V6           V7           V8           V9          V10          V11\n",
            "1 2.795784e-08 1.384233e-08 1.109800e-08 1.000743e-08 1.000743e-08 2.758676e-08\n",
            "2 4.500896e-08 2.023194e-08 1.535754e-08 3.349509e-08 3.349509e-08 4.702129e-08\n",
            "3 4.711321e-08 2.087260e-08 1.621852e-08 5.931725e-08 5.931725e-08 4.703697e-08\n",
            "           V12          V13          V14          V15\n",
            "1 1.291176e-08 1.045174e-08 1.011543e-08 1.011543e-08\n",
            "2 2.073779e-08 1.721496e-08 4.125466e-08 1.595119e-06\n",
            "3 2.136243e-08 1.728273e-08 1.960569e-08 1.701901e-08\n"
          ],
          "name": "stdout"
        }
      ]
    },
    {
      "cell_type": "code",
      "metadata": {
        "id": "cIZG7UEWo9Kn",
        "colab_type": "code",
        "colab": {
          "base_uri": "https://localhost:8080/",
          "height": 497
        },
        "outputId": "e64f2307-c7d2-41cd-d684-394ae899557e"
      },
      "source": [
        "%%R\n",
        "library(ggplot2)\n",
        "ggplot(q[1:100,],aes(x=no)) +\n",
        "#geom_line(aes(y=V1)) +\n",
        "#geom_line(aes(y=V2)) +\n",
        "#geom_line(aes(y=V3)) +\n",
        "geom_line(aes(y=V4))\n",
        "#geom_line(aes(y=V5))\n",
        "#geom_line(aes(y=V6),col='red')\n",
        "#geom_line(aes(y=V7)) +\n",
        "#geom_line(aes(y=V8)) +\n",
        "#geom_line(aes(y=V9)) +\n",
        "#geom_line(aes(y=V10)) +\n",
        "#geom_line(aes(y=V11)) +\n",
        "#geom_line(aes(y=V12)) +\n",
        "#geom_line(aes(y=V13)) +\n",
        "#geom_line(aes(y=V14)) +\n",
        "#geom_line(aes(y=V15))\n"
      ],
      "execution_count": null,
      "outputs": [
        {
          "output_type": "display_data",
          "data": {
            "image/png": "[encoded data removed]"
          },
          "metadata": {
            "tags": []
          }
        }
      ]
    },
    {
      "cell_type": "markdown",
      "metadata": {
        "id": "_1w_iocyZplz",
        "colab_type": "text"
      },
      "source": [
        "Pervandingan Waktu Komputasi"
      ]
    },
    {
      "cell_type": "code",
      "metadata": {
        "id": "nLF0m91UZEqC",
        "colab_type": "code",
        "colab": {
          "base_uri": "https://localhost:8080/",
          "height": 497
        },
        "outputId": "595045c4-817a-4dbc-c873-78c35c6d00c7"
      },
      "source": [
        "%%R\n",
        "tabel %>% group_by(delta) %>% \n",
        "  ggplot(aes(x=lambda,y=waktu, color=factor(delta))) + geom_line(size=1.2) +\n",
        "  geom_point(color='black')+\n",
        "  labs(x=expression(lambda), y='Waktu Komputasi (menit)')+\n",
        "  scale_color_discrete(expression(delta))\n"
      ],
      "execution_count": null,
      "outputs": [
        {
          "output_type": "display_data",
          "data": {
            "image/png": "[encoded data removed]"
          },
          "metadata": {
            "tags": []
          }
        }
      ]
    },
    {
      "cell_type": "code",
      "metadata": {
        "id": "ZEWEA83jbrRa",
        "colab_type": "code",
        "colab": {
          "base_uri": "https://localhost:8080/",
          "height": 497
        },
        "outputId": "35783028-ac3b-4f31-83e0-10cb862a72e5"
      },
      "source": [
        "%%R\n",
        "tabel %>% group_by(lambda) %>% \n",
        "  ggplot(aes(x=delta,y=waktu, color=factor(lambda))) + geom_line(size=1.2) +\n",
        "  geom_point(color='black')+\n",
        "  labs(x=expression(delta), y='Waktu Komputasi (menit)')+\n",
        "  scale_color_discrete(expression(lambda))"
      ],
      "execution_count": null,
      "outputs": [
        {
          "output_type": "display_data",
          "data": {
            "image/png": "[encoded data removed]"
          },
          "metadata": {
            "tags": []
          }
        }
      ]
    },
    {
      "cell_type": "code",
      "metadata": {
        "id": "hQnRrqYZc-4Q",
        "colab_type": "code",
        "colab": {
          "base_uri": "https://localhost:8080/",
          "height": 35
        },
        "outputId": "c09e6178-218c-44b5-d623-11831e5a0e8f"
      },
      "source": [
        "#banyaknya \n",
        "np.count_nonzero(k6[:,0])"
      ],
      "execution_count": null,
      "outputs": [
        {
          "output_type": "execute_result",
          "data": {
            "text/plain": [
              "272"
            ]
          },
          "metadata": {
            "tags": []
          },
          "execution_count": 47
        }
      ]
    },
    {
      "cell_type": "code",
      "metadata": {
        "id": "unDbOFpkd3ha",
        "colab_type": "code",
        "colab": {
          "base_uri": "https://localhost:8080/",
          "height": 35
        },
        "outputId": "00bc6cb9-d30e-4809-d738-d436cd33afd0"
      },
      "source": [
        "np.count_nonzero(np.array([False,True,True,False]))"
      ],
      "execution_count": null,
      "outputs": [
        {
          "output_type": "execute_result",
          "data": {
            "text/plain": [
              "2"
            ]
          },
          "metadata": {
            "tags": []
          },
          "execution_count": 50
        }
      ]
    },
    {
      "cell_type": "code",
      "metadata": {
        "id": "Ncd7t2Yf50kP",
        "colab_type": "code",
        "colab": {
          "base_uri": "https://localhost:8080/",
          "height": 283
        },
        "outputId": "1eac157f-3a0d-47c8-c463-38d49fce725b"
      },
      "source": [
        "import numpy as np\n",
        "import matplotlib.pyplot as plt\n",
        "\n",
        "tqi = np.array([4.7865e-07, 4.067e-07,2.272, 1.32, 1.08])\n",
        "dt = np.array([0.0068, 0.0089, 0.0106, 0.0136, 0.014])\n",
        "\n",
        "fig, ax = plt.subplots(1)\n",
        "ax.plot(dt,tqi)"
      ],
      "execution_count": null,
      "outputs": [
        {
          "output_type": "execute_result",
          "data": {
            "text/plain": [
              "[<matplotlib.lines.Line2D at 0x7f14298bc400>]"
            ]
          },
          "metadata": {
            "tags": []
          },
          "execution_count": 3
        },
        {
          "output_type": "display_data",
          "data": {
            "image/png": "[encoded data removed]",
            "text/plain": [
              "<Figure size 432x288 with 1 Axes>"
            ]
          },
          "metadata": {
            "tags": [],
            "needs_background": "light"
          }
        }
      ]
    },
    {
      "cell_type": "code",
      "metadata": {
        "id": "VHIUpDjO7W7G",
        "colab_type": "code",
        "colab": {
          "base_uri": "https://localhost:8080/",
          "height": 1000
        },
        "outputId": "8020bd4d-6a59-4f67-dafa-c8fb84c6000c"
      },
      "source": [
        "dir(ax)"
      ],
      "execution_count": null,
      "outputs": [
        {
          "output_type": "execute_result",
          "data": {
            "text/plain": [
              "['__class__',\n",
              " '__delattr__',\n",
              " '__dict__',\n",
              " '__dir__',\n",
              " '__doc__',\n",
              " '__eq__',\n",
              " '__format__',\n",
              " '__ge__',\n",
              " '__getattribute__',\n",
              " '__getstate__',\n",
              " '__gt__',\n",
              " '__hash__',\n",
              " '__init__',\n",
              " '__init_subclass__',\n",
              " '__le__',\n",
              " '__lt__',\n",
              " '__module__',\n",
              " '__ne__',\n",
              " '__new__',\n",
              " '__reduce__',\n",
              " '__reduce_ex__',\n",
              " '__repr__',\n",
              " '__setattr__',\n",
              " '__setstate__',\n",
              " '__sizeof__',\n",
              " '__str__',\n",
              " '__subclasshook__',\n",
              " '__weakref__',\n",
              " '_add_text',\n",
              " '_adjustable',\n",
              " '_agg_filter',\n",
              " '_alpha',\n",
              " '_anchor',\n",
              " '_animated',\n",
              " '_aspect',\n",
              " '_autoscaleXon',\n",
              " '_autoscaleYon',\n",
              " '_autotitlepos',\n",
              " '_axes',\n",
              " '_axes_class',\n",
              " '_axes_locator',\n",
              " '_axisbelow',\n",
              " '_clipon',\n",
              " '_clippath',\n",
              " '_contains',\n",
              " '_convert_dx',\n",
              " '_current_image',\n",
              " '_default_contains',\n",
              " '_facecolor',\n",
              " '_frameon',\n",
              " '_gci',\n",
              " '_gen_axes_patch',\n",
              " '_gen_axes_spines',\n",
              " '_get_axis_list',\n",
              " '_get_axis_map',\n",
              " '_get_clipping_extent_bbox',\n",
              " '_get_lines',\n",
              " '_get_patches_for_fill',\n",
              " '_get_view',\n",
              " '_gid',\n",
              " '_gridOn',\n",
              " '_in_layout',\n",
              " '_init_axis',\n",
              " '_label',\n",
              " '_layoutbox',\n",
              " '_left_title',\n",
              " '_make_twin_axes',\n",
              " '_mouseover',\n",
              " '_mouseover_set',\n",
              " '_navigate',\n",
              " '_navigate_mode',\n",
              " '_oid',\n",
              " '_on_units_changed',\n",
              " '_originalPosition',\n",
              " '_parse_scatter_color_args',\n",
              " '_path_effects',\n",
              " '_pcolorargs',\n",
              " '_picker',\n",
              " '_position',\n",
              " '_poslayoutbox',\n",
              " '_process_unit_info',\n",
              " '_prop_order',\n",
              " '_propobservers',\n",
              " '_quiver_units',\n",
              " '_rasterization_zorder',\n",
              " '_rasterized',\n",
              " '_remove_legend',\n",
              " '_remove_method',\n",
              " '_request_autoscale_view',\n",
              " '_right_title',\n",
              " '_sci',\n",
              " '_set_artist_props',\n",
              " '_set_gc_clip',\n",
              " '_set_lim_and_transforms',\n",
              " '_set_position',\n",
              " '_set_title_offset_trans',\n",
              " '_set_view',\n",
              " '_set_view_from_bbox',\n",
              " '_shared_x_axes',\n",
              " '_shared_y_axes',\n",
              " '_sharex',\n",
              " '_sharey',\n",
              " '_sketch',\n",
              " '_snap',\n",
              " '_stale',\n",
              " '_stale_viewlim_x',\n",
              " '_stale_viewlim_y',\n",
              " '_sticky_edges',\n",
              " '_subplotspec',\n",
              " '_tight',\n",
              " '_transform',\n",
              " '_transformSet',\n",
              " '_twinned_axes',\n",
              " '_unstale_viewLim',\n",
              " '_update_image_limits',\n",
              " '_update_line_limits',\n",
              " '_update_patch_limits',\n",
              " '_update_title_position',\n",
              " '_update_transScale',\n",
              " '_url',\n",
              " '_use_sticky_edges',\n",
              " '_validate_converted_limits',\n",
              " '_viewLim',\n",
              " '_visible',\n",
              " '_xaxis_transform',\n",
              " '_xcid',\n",
              " '_xmargin',\n",
              " '_yaxis_transform',\n",
              " '_ycid',\n",
              " '_ymargin',\n",
              " 'acorr',\n",
              " 'add_artist',\n",
              " 'add_callback',\n",
              " 'add_child_axes',\n",
              " 'add_collection',\n",
              " 'add_container',\n",
              " 'add_image',\n",
              " 'add_line',\n",
              " 'add_patch',\n",
              " 'add_table',\n",
              " 'aname',\n",
              " 'angle_spectrum',\n",
              " 'annotate',\n",
              " 'apply_aspect',\n",
              " 'arrow',\n",
              " 'artists',\n",
              " 'autoscale',\n",
              " 'autoscale_view',\n",
              " 'axes',\n",
              " 'axhline',\n",
              " 'axhspan',\n",
              " 'axis',\n",
              " 'axison',\n",
              " 'axvline',\n",
              " 'axvspan',\n",
              " 'bar',\n",
              " 'barbs',\n",
              " 'barh',\n",
              " 'bbox',\n",
              " 'boxplot',\n",
              " 'broken_barh',\n",
              " 'bxp',\n",
              " 'callbacks',\n",
              " 'can_pan',\n",
              " 'can_zoom',\n",
              " 'change_geometry',\n",
              " 'child_axes',\n",
              " 'cla',\n",
              " 'clabel',\n",
              " 'clear',\n",
              " 'clipbox',\n",
              " 'cohere',\n",
              " 'colNum',\n",
              " 'collections',\n",
              " 'containers',\n",
              " 'contains',\n",
              " 'contains_point',\n",
              " 'contour',\n",
              " 'contourf',\n",
              " 'convert_xunits',\n",
              " 'convert_yunits',\n",
              " 'csd',\n",
              " 'dataLim',\n",
              " 'drag_pan',\n",
              " 'draw',\n",
              " 'draw_artist',\n",
              " 'end_pan',\n",
              " 'errorbar',\n",
              " 'eventplot',\n",
              " 'eventson',\n",
              " 'figbox',\n",
              " 'figure',\n",
              " 'fill',\n",
              " 'fill_between',\n",
              " 'fill_betweenx',\n",
              " 'findobj',\n",
              " 'fmt_xdata',\n",
              " 'fmt_ydata',\n",
              " 'format_coord',\n",
              " 'format_cursor_data',\n",
              " 'format_xdata',\n",
              " 'format_ydata',\n",
              " 'get_adjustable',\n",
              " 'get_agg_filter',\n",
              " 'get_alpha',\n",
              " 'get_anchor',\n",
              " 'get_animated',\n",
              " 'get_aspect',\n",
              " 'get_autoscale_on',\n",
              " 'get_autoscalex_on',\n",
              " 'get_autoscaley_on',\n",
              " 'get_axes_locator',\n",
              " 'get_axisbelow',\n",
              " 'get_children',\n",
              " 'get_clip_box',\n",
              " 'get_clip_on',\n",
              " 'get_clip_path',\n",
              " 'get_contains',\n",
              " 'get_cursor_data',\n",
              " 'get_data_ratio',\n",
              " 'get_data_ratio_log',\n",
              " 'get_default_bbox_extra_artists',\n",
              " 'get_facecolor',\n",
              " 'get_fc',\n",
              " 'get_figure',\n",
              " 'get_frame_on',\n",
              " 'get_geometry',\n",
              " 'get_gid',\n",
              " 'get_gridspec',\n",
              " 'get_images',\n",
              " 'get_in_layout',\n",
              " 'get_label',\n",
              " 'get_legend',\n",
              " 'get_legend_handles_labels',\n",
              " 'get_lines',\n",
              " 'get_navigate',\n",
              " 'get_navigate_mode',\n",
              " 'get_path_effects',\n",
              " 'get_picker',\n",
              " 'get_position',\n",
              " 'get_rasterization_zorder',\n",
              " 'get_rasterized',\n",
              " 'get_renderer_cache',\n",
              " 'get_shared_x_axes',\n",
              " 'get_shared_y_axes',\n",
              " 'get_sketch_params',\n",
              " 'get_snap',\n",
              " 'get_subplotspec',\n",
              " 'get_tightbbox',\n",
              " 'get_title',\n",
              " 'get_transform',\n",
              " 'get_transformed_clip_path_and_affine',\n",
              " 'get_url',\n",
              " 'get_visible',\n",
              " 'get_window_extent',\n",
              " 'get_xaxis',\n",
              " 'get_xaxis_text1_transform',\n",
              " 'get_xaxis_text2_transform',\n",
              " 'get_xaxis_transform',\n",
              " 'get_xbound',\n",
              " 'get_xgridlines',\n",
              " 'get_xlabel',\n",
              " 'get_xlim',\n",
              " 'get_xmajorticklabels',\n",
              " 'get_xminorticklabels',\n",
              " 'get_xscale',\n",
              " 'get_xticklabels',\n",
              " 'get_xticklines',\n",
              " 'get_xticks',\n",
              " 'get_yaxis',\n",
              " 'get_yaxis_text1_transform',\n",
              " 'get_yaxis_text2_transform',\n",
              " 'get_yaxis_transform',\n",
              " 'get_ybound',\n",
              " 'get_ygridlines',\n",
              " 'get_ylabel',\n",
              " 'get_ylim',\n",
              " 'get_ymajorticklabels',\n",
              " 'get_yminorticklabels',\n",
              " 'get_yscale',\n",
              " 'get_yticklabels',\n",
              " 'get_yticklines',\n",
              " 'get_yticks',\n",
              " 'get_zorder',\n",
              " 'grid',\n",
              " 'has_data',\n",
              " 'have_units',\n",
              " 'hexbin',\n",
              " 'hist',\n",
              " 'hist2d',\n",
              " 'hlines',\n",
              " 'ignore_existing_data_limits',\n",
              " 'images',\n",
              " 'imshow',\n",
              " 'in_axes',\n",
              " 'indicate_inset',\n",
              " 'indicate_inset_zoom',\n",
              " 'inset_axes',\n",
              " 'invert_xaxis',\n",
              " 'invert_yaxis',\n",
              " 'is_first_col',\n",
              " 'is_first_row',\n",
              " 'is_last_col',\n",
              " 'is_last_row',\n",
              " 'is_transform_set',\n",
              " 'label_outer',\n",
              " 'legend',\n",
              " 'legend_',\n",
              " 'lines',\n",
              " 'locator_params',\n",
              " 'loglog',\n",
              " 'magnitude_spectrum',\n",
              " 'margins',\n",
              " 'matshow',\n",
              " 'minorticks_off',\n",
              " 'minorticks_on',\n",
              " 'mouseover',\n",
              " 'name',\n",
              " 'numCols',\n",
              " 'numRows',\n",
              " 'patch',\n",
              " 'patches',\n",
              " 'pchanged',\n",
              " 'pcolor',\n",
              " 'pcolorfast',\n",
              " 'pcolormesh',\n",
              " 'phase_spectrum',\n",
              " 'pick',\n",
              " 'pickable',\n",
              " 'pie',\n",
              " 'plot',\n",
              " 'plot_date',\n",
              " 'properties',\n",
              " 'psd',\n",
              " 'quiver',\n",
              " 'quiverkey',\n",
              " 'redraw_in_frame',\n",
              " 'relim',\n",
              " 'remove',\n",
              " 'remove_callback',\n",
              " 'reset_position',\n",
              " 'rowNum',\n",
              " 'scatter',\n",
              " 'secondary_xaxis',\n",
              " 'secondary_yaxis',\n",
              " 'semilogx',\n",
              " 'semilogy',\n",
              " 'set',\n",
              " 'set_adjustable',\n",
              " 'set_agg_filter',\n",
              " 'set_alpha',\n",
              " 'set_anchor',\n",
              " 'set_animated',\n",
              " 'set_aspect',\n",
              " 'set_autoscale_on',\n",
              " 'set_autoscalex_on',\n",
              " 'set_autoscaley_on',\n",
              " 'set_axes_locator',\n",
              " 'set_axis_off',\n",
              " 'set_axis_on',\n",
              " 'set_axisbelow',\n",
              " 'set_clip_box',\n",
              " 'set_clip_on',\n",
              " 'set_clip_path',\n",
              " 'set_contains',\n",
              " 'set_facecolor',\n",
              " 'set_fc',\n",
              " 'set_figure',\n",
              " 'set_frame_on',\n",
              " 'set_gid',\n",
              " 'set_in_layout',\n",
              " 'set_label',\n",
              " 'set_navigate',\n",
              " 'set_navigate_mode',\n",
              " 'set_path_effects',\n",
              " 'set_picker',\n",
              " 'set_position',\n",
              " 'set_prop_cycle',\n",
              " 'set_rasterization_zorder',\n",
              " 'set_rasterized',\n",
              " 'set_sketch_params',\n",
              " 'set_snap',\n",
              " 'set_subplotspec',\n",
              " 'set_title',\n",
              " 'set_transform',\n",
              " 'set_url',\n",
              " 'set_visible',\n",
              " 'set_xbound',\n",
              " 'set_xlabel',\n",
              " 'set_xlim',\n",
              " 'set_xmargin',\n",
              " 'set_xscale',\n",
              " 'set_xticklabels',\n",
              " 'set_xticks',\n",
              " 'set_ybound',\n",
              " 'set_ylabel',\n",
              " 'set_ylim',\n",
              " 'set_ymargin',\n",
              " 'set_yscale',\n",
              " 'set_yticklabels',\n",
              " 'set_yticks',\n",
              " 'set_zorder',\n",
              " 'specgram',\n",
              " 'spines',\n",
              " 'spy',\n",
              " 'stackplot',\n",
              " 'stale',\n",
              " 'stale_callback',\n",
              " 'start_pan',\n",
              " 'stem',\n",
              " 'step',\n",
              " 'sticky_edges',\n",
              " 'streamplot',\n",
              " 'table',\n",
              " 'tables',\n",
              " 'text',\n",
              " 'texts',\n",
              " 'tick_params',\n",
              " 'ticklabel_format',\n",
              " 'title',\n",
              " 'titleOffsetTrans',\n",
              " 'transAxes',\n",
              " 'transData',\n",
              " 'transLimits',\n",
              " 'transScale',\n",
              " 'tricontour',\n",
              " 'tricontourf',\n",
              " 'tripcolor',\n",
              " 'triplot',\n",
              " 'twinx',\n",
              " 'twiny',\n",
              " 'update',\n",
              " 'update_datalim',\n",
              " 'update_datalim_bounds',\n",
              " 'update_from',\n",
              " 'update_params',\n",
              " 'use_sticky_edges',\n",
              " 'viewLim',\n",
              " 'violin',\n",
              " 'violinplot',\n",
              " 'vlines',\n",
              " 'xaxis',\n",
              " 'xaxis_date',\n",
              " 'xaxis_inverted',\n",
              " 'xcorr',\n",
              " 'yaxis',\n",
              " 'yaxis_date',\n",
              " 'yaxis_inverted',\n",
              " 'zorder']"
            ]
          },
          "metadata": {
            "tags": []
          },
          "execution_count": 4
        }
      ]
    },
    {
      "cell_type": "markdown",
      "metadata": {
        "id": "4S5vB8ixrYnz",
        "colab_type": "text"
      },
      "source": [
        "## Analisis Simulasi 6"
      ]
    },
    {
      "cell_type": "code",
      "metadata": {
        "id": "hFeEBanMrtxt",
        "colab_type": "code",
        "colab": {
          "base_uri": "https://localhost:8080/",
          "height": 35
        },
        "outputId": "8f3588bb-e19e-4557-b9c0-bca28a049a03"
      },
      "source": [
        "np.where(Q6==np.sort(Q6)[0])"
      ],
      "execution_count": null,
      "outputs": [
        {
          "output_type": "execute_result",
          "data": {
            "text/plain": [
              "(array([0]),)"
            ]
          },
          "metadata": {
            "tags": []
          },
          "execution_count": 63
        }
      ]
    },
    {
      "cell_type": "code",
      "metadata": {
        "colab_type": "code",
        "id": "eOY_1aOOSZzn",
        "colab": {
          "base_uri": "https://localhost:8080/",
          "height": 384
        },
        "outputId": "37a2839a-7410-4126-81fb-35ebfce57218"
      },
      "source": [
        "#simulasi terbaik adalah pada simulasi 6\n",
        "# 10 tricluster dengan TQI terkecil pada simulasi 6\n",
        "for i in range(20):\n",
        "  x = np.sort(Q6)[i]\n",
        "  y = np.where(Q6 == x)\n",
        "  y = y[0][0]\n",
        "  yy = y+1\n",
        "  print(\"tricluster {} -- TQI :{} -- ukuran :{} x {} x {}\".format(yy,x,\n",
        "                                                              np.count_nonzero(g6[y]),\n",
        "                                                              np.count_nonzero(k6[y]),\n",
        "                                                              np.count_nonzero(w6[y])))"
      ],
      "execution_count": null,
      "outputs": [
        {
          "output_type": "stream",
          "text": [
            "tricluster 1 -- TQI :2.795784361571486e-08 -- ukuran :6735 x 3 x 12\n",
            "tricluster 2 -- TQI :4.500895720246865e-08 -- ukuran :4384 x 3 x 10\n",
            "tricluster 132 -- TQI :4.582531066778177e-08 -- ukuran :7783 x 2 x 7\n",
            "tricluster 9 -- TQI :4.661072815336987e-08 -- ukuran :4562 x 3 x 9\n",
            "tricluster 33 -- TQI :4.669400741668283e-08 -- ukuran :5817 x 2 x 10\n",
            "tricluster 147 -- TQI :4.697065748754705e-08 -- ukuran :7567 x 2 x 7\n",
            "tricluster 3 -- TQI :4.711321057194935e-08 -- ukuran :4169 x 3 x 10\n",
            "tricluster 302 -- TQI :4.7172339946930034e-08 -- ukuran :11027 x 2 x 4\n",
            "tricluster 30 -- TQI :4.758154056172541e-08 -- ukuran :5509 x 3 x 7\n",
            "tricluster 177 -- TQI :4.801244392629391e-08 -- ukuran :9395 x 2 x 5\n",
            "tricluster 159 -- TQI :4.8920013743298475e-08 -- ukuran :8257 x 2 x 6\n",
            "tricluster 25 -- TQI :4.8999073633915614e-08 -- ukuran :4761 x 3 x 8\n",
            "tricluster 15 -- TQI :4.9011878269864124e-08 -- ukuran :4751 x 3 x 8\n",
            "tricluster 200 -- TQI :4.911235763069853e-08 -- ukuran :8020 x 2 x 6\n",
            "tricluster 75 -- TQI :4.9511050773659005e-08 -- ukuran :6522 x 2 x 8\n",
            "tricluster 8 -- TQI :4.968535430260357e-08 -- ukuran :4298 x 3 x 9\n",
            "tricluster 84 -- TQI :4.99877463429922e-08 -- ukuran :7146 x 2 x 7\n",
            "tricluster 4 -- TQI :5.024462844011397e-08 -- ukuran :3911 x 3 x 10\n",
            "tricluster 92 -- TQI :5.0300812530075066e-08 -- ukuran :6755 x 3 x 5\n",
            "tricluster 50 -- TQI :5.049484660553666e-08 -- ukuran :5050 x 3 x 7\n"
          ],
          "name": "stdout"
        }
      ]
    },
    {
      "cell_type": "code",
      "metadata": {
        "id": "CEh0-ff9eqdo",
        "colab_type": "code",
        "colab": {}
      },
      "source": [
        ""
      ],
      "execution_count": null,
      "outputs": []
    },
    {
      "cell_type": "code",
      "metadata": {
        "id": "-NHu0BpPUeMu",
        "colab_type": "code",
        "colab": {
          "base_uri": "https://localhost:8080/",
          "height": 293
        },
        "outputId": "ce693913-d644-45c7-9797-94ec12449c59"
      },
      "source": [
        "cluster_waktu = [0,1,131,8,32,146,2,301,29,176,158,24,14,199,74]\n",
        "for i in cluster_waktu:\n",
        "  print('tricluster {} : {}'.format(i+1,np.nonzero(k6[i])))"
      ],
      "execution_count": null,
      "outputs": [
        {
          "output_type": "stream",
          "text": [
            "tricluster 1 : (array([0, 1, 2]),)\n",
            "tricluster 2 : (array([0, 1, 2]),)\n",
            "tricluster 132 : (array([0, 1]),)\n",
            "tricluster 9 : (array([0, 1, 2]),)\n",
            "tricluster 33 : (array([1, 2]),)\n",
            "tricluster 147 : (array([0, 1]),)\n",
            "tricluster 3 : (array([0, 1, 2]),)\n",
            "tricluster 302 : (array([1, 2]),)\n",
            "tricluster 30 : (array([0, 1, 2]),)\n",
            "tricluster 177 : (array([0, 1]),)\n",
            "tricluster 159 : (array([0, 1]),)\n",
            "tricluster 25 : (array([0, 1, 2]),)\n",
            "tricluster 15 : (array([0, 1, 2]),)\n",
            "tricluster 200 : (array([1, 2]),)\n",
            "tricluster 75 : (array([0, 1]),)\n"
          ],
          "name": "stdout"
        }
      ]
    },
    {
      "cell_type": "code",
      "metadata": {
        "id": "qRB8LSmow4D9",
        "colab_type": "code",
        "colab": {
          "base_uri": "https://localhost:8080/",
          "height": 293
        },
        "outputId": "eebc08db-3774-46cc-f5c3-9dffa42a76af"
      },
      "source": [
        "#np.intersect1d(np.nonzero(g6[6]),np.nonzero(g6[200]))\n",
        "cluster_waktu = [0,1,131,8,32,146,2,301,29,176,158,24,14,199,74]\n",
        "for i in cluster_waktu:\n",
        "  print('tricluster {} : {}'.format(i,np.nonzero(w6[i])))\n"
      ],
      "execution_count": null,
      "outputs": [
        {
          "output_type": "stream",
          "text": [
            "tricluster 0 : (array([ 0,  1,  2,  3,  4,  5,  6,  7,  8,  9, 10, 11]),)\n",
            "tricluster 1 : (array([0, 1, 2, 3, 4, 5, 6, 7, 8, 9]),)\n",
            "tricluster 131 : (array([ 1,  3,  5,  6,  7,  9, 11]),)\n",
            "tricluster 8 : (array([ 1,  2,  3,  4,  5,  6,  8,  9, 11]),)\n",
            "tricluster 32 : (array([ 0,  1,  2,  3,  4,  5,  6,  8,  9, 11]),)\n",
            "tricluster 146 : (array([1, 2, 3, 5, 6, 7, 8]),)\n",
            "tricluster 2 : (array([ 1,  3,  4,  5,  6,  7,  8,  9, 10, 11]),)\n",
            "tricluster 301 : (array([1, 5, 6, 8]),)\n",
            "tricluster 29 : (array([0, 3, 5, 6, 7, 8, 9]),)\n",
            "tricluster 176 : (array([0, 2, 3, 5, 7]),)\n",
            "tricluster 158 : (array([ 3,  4,  5,  6,  7, 10]),)\n",
            "tricluster 24 : (array([ 0,  1,  3,  4,  5,  6,  8, 10]),)\n",
            "tricluster 14 : (array([ 0,  1,  3,  4,  6,  8,  9, 11]),)\n",
            "tricluster 199 : (array([ 1,  4,  5,  6,  9, 11]),)\n",
            "tricluster 74 : (array([ 0,  1,  3,  6,  7,  8,  9, 10]),)\n"
          ],
          "name": "stdout"
        }
      ]
    },
    {
      "cell_type": "code",
      "metadata": {
        "id": "XaQI4UDD0QLG",
        "colab_type": "code",
        "colab": {
          "base_uri": "https://localhost:8080/",
          "height": 237
        },
        "outputId": "e86fe50e-8490-431c-e489-60b4de75df82"
      },
      "source": [
        "for i in range(12):\n",
        "  print(\"waktu {} : {} --- {}\".format(i,np.count_nonzero(w6[:,i]),np.count_nonzero(w6[:,i])/302))"
      ],
      "execution_count": null,
      "outputs": [
        {
          "output_type": "stream",
          "text": [
            "waktu 0 : 128 --- 0.423841059602649\n",
            "waktu 1 : 166 --- 0.5496688741721855\n",
            "waktu 2 : 122 --- 0.40397350993377484\n",
            "waktu 3 : 157 --- 0.5198675496688742\n",
            "waktu 4 : 148 --- 0.4900662251655629\n",
            "waktu 5 : 131 --- 0.4337748344370861\n",
            "waktu 6 : 170 --- 0.5629139072847682\n",
            "waktu 7 : 140 --- 0.46357615894039733\n",
            "waktu 8 : 154 --- 0.5099337748344371\n",
            "waktu 9 : 139 --- 0.4602649006622517\n",
            "waktu 10 : 123 --- 0.40728476821192056\n",
            "waktu 11 : 118 --- 0.39072847682119205\n"
          ],
          "name": "stdout"
        }
      ]
    },
    {
      "cell_type": "code",
      "metadata": {
        "id": "iH4kYEF0xY7P",
        "colab_type": "code",
        "colab": {
          "base_uri": "https://localhost:8080/",
          "height": 35
        },
        "outputId": "55752cc9-d082-4379-d4de-73fd97246b72"
      },
      "source": [
        "w6.shape"
      ],
      "execution_count": null,
      "outputs": [
        {
          "output_type": "execute_result",
          "data": {
            "text/plain": [
              "(302, 12)"
            ]
          },
          "metadata": {
            "tags": []
          },
          "execution_count": 57
        }
      ]
    },
    {
      "cell_type": "code",
      "metadata": {
        "id": "F-ryR41TT2xm",
        "colab_type": "code",
        "colab": {
          "base_uri": "https://localhost:8080/",
          "height": 127
        },
        "outputId": "ebfb5e91-9d8f-48aa-f4c7-51b9973d6579"
      },
      "source": [
        "# Jumlah Gen\n",
        "n = D.shape[1]\n",
        " \n",
        "i_sm_1 = np.array([])\n",
        "for i in range(len(g1)):\n",
        "  x = np.nonzero(g1[i])[0]\n",
        "  i_sm_1 = np.union1d(i_sm_1,x)\n",
        "sm_1 = i_sm_1.shape[0]/n \n",
        "print(\"gen yang dapat di temukan tricluster simulasi 1 :\", sm_1)\n",
        " \n",
        "i_sm_2 = np.array([])\n",
        "for i in range(len(g2)):\n",
        "  x = np.nonzero(g2[i])[0]\n",
        "  i_sm_2 = np.union1d(i_sm_2,x)\n",
        "sm_2 = i_sm_2.shape[0]/n\n",
        "print(\"gen yang dapat di temukan tricluster simulasi 2 :\", sm_2)\n",
        " \n",
        "i_sm_3 = np.array([])\n",
        "for i in range(len(g3)):\n",
        "  x = np.nonzero(g3[i])[0]\n",
        "  i_sm_3 = np.union1d(i_sm_3,x)\n",
        "sm_3 = i_sm_3.shape[0]/n\n",
        "print(\"gen yang dapat di temukan tricluster simulasi 3 :\", sm_3)\n",
        " \n",
        "i_sm_4 = np.array([])\n",
        "for i in range(len(g4)):\n",
        "  x = np.nonzero(g4[i])[0]\n",
        "  i_sm_4 = np.union1d(i_sm_4,x)\n",
        "sm_4 = i_sm_4.shape[0]/n\n",
        "print(\"gen yang dapat di temukan tricluster simulasi 4 :\", sm_4)\n",
        " \n",
        "i_sm_5 = np.array([])\n",
        "for i in range(len(g5)):\n",
        "  x = np.nonzero(g5[i])[0]\n",
        "  i_sm_5 = np.union1d(i_sm_5,x)\n",
        "sm_5 = i_sm_5.shape[0]/n\n",
        "print(\"gen yang dapat di temukan tricluster simulasi 5 :\", sm_5)\n",
        " \n",
        "i_sm_6 = np.array([])\n",
        "for i in range(len(g6)):\n",
        "  x = np.nonzero(g6[i])[0]\n",
        "  i_sm_6 = np.union1d(i_sm_6,x)\n",
        "sm_6 = i_sm_6.shape[0]/n\n",
        "print(\"gen yang dapat di temukan tricluster simulasi 6 :\", sm_6)"
      ],
      "execution_count": null,
      "outputs": [
        {
          "output_type": "stream",
          "text": [
            "gen yang dapat di temukan tricluster simulasi 1 : 0.6620699547158986\n",
            "gen yang dapat di temukan tricluster simulasi 2 : 0.8381042149048215\n",
            "gen yang dapat di temukan tricluster simulasi 3 : 0.7898080036063356\n",
            "gen yang dapat di temukan tricluster simulasi 4 : 0.8782042087576584\n",
            "gen yang dapat di temukan tricluster simulasi 5 : 0.8719545929553512\n",
            "gen yang dapat di temukan tricluster simulasi 6 : 0.7298321824478003\n"
          ],
          "name": "stdout"
        }
      ]
    },
    {
      "cell_type": "code",
      "metadata": {
        "id": "pvt5rVwZvAyi",
        "colab_type": "code",
        "colab": {
          "base_uri": "https://localhost:8080/",
          "height": 1000
        },
        "outputId": "9999f4cf-f5ee-40c6-8bfe-a295c5573b57"
      },
      "source": [
        "for i in range(len(g6)):\n",
        "  print(\"Tricluster ke {}:  gene X kondisi X waktu = {} X {} X {}\".format(i+1,\n",
        "                                                                          np.count_nonzero(g6[i]),\n",
        "                                                                          np.count_nonzero(k6[i]),\n",
        "                                                                          np.count_nonzero(w6[i])))"
      ],
      "execution_count": null,
      "outputs": [
        {
          "output_type": "stream",
          "text": [
            "Tricluster ke 1:  gene X kondisi X waktu = 6735 X 3 X 12\n",
            "Tricluster ke 2:  gene X kondisi X waktu = 4384 X 3 X 10\n",
            "Tricluster ke 3:  gene X kondisi X waktu = 4169 X 3 X 10\n",
            "Tricluster ke 4:  gene X kondisi X waktu = 3911 X 3 X 10\n",
            "Tricluster ke 5:  gene X kondisi X waktu = 3891 X 3 X 10\n",
            "Tricluster ke 6:  gene X kondisi X waktu = 3467 X 3 X 10\n",
            "Tricluster ke 7:  gene X kondisi X waktu = 3393 X 3 X 10\n",
            "Tricluster ke 8:  gene X kondisi X waktu = 4298 X 3 X 9\n",
            "Tricluster ke 9:  gene X kondisi X waktu = 4562 X 3 X 9\n",
            "Tricluster ke 10:  gene X kondisi X waktu = 4578 X 3 X 8\n",
            "Tricluster ke 11:  gene X kondisi X waktu = 4572 X 3 X 8\n",
            "Tricluster ke 12:  gene X kondisi X waktu = 3070 X 3 X 9\n",
            "Tricluster ke 13:  gene X kondisi X waktu = 3804 X 3 X 8\n",
            "Tricluster ke 14:  gene X kondisi X waktu = 4441 X 3 X 8\n",
            "Tricluster ke 15:  gene X kondisi X waktu = 4751 X 3 X 8\n",
            "Tricluster ke 16:  gene X kondisi X waktu = 3848 X 3 X 8\n",
            "Tricluster ke 17:  gene X kondisi X waktu = 2665 X 3 X 9\n",
            "Tricluster ke 18:  gene X kondisi X waktu = 4282 X 3 X 8\n",
            "Tricluster ke 19:  gene X kondisi X waktu = 3825 X 3 X 8\n",
            "Tricluster ke 20:  gene X kondisi X waktu = 3363 X 3 X 9\n",
            "Tricluster ke 21:  gene X kondisi X waktu = 4128 X 3 X 8\n",
            "Tricluster ke 22:  gene X kondisi X waktu = 3893 X 3 X 8\n",
            "Tricluster ke 23:  gene X kondisi X waktu = 4444 X 3 X 8\n",
            "Tricluster ke 24:  gene X kondisi X waktu = 3885 X 3 X 8\n",
            "Tricluster ke 25:  gene X kondisi X waktu = 4761 X 3 X 8\n",
            "Tricluster ke 26:  gene X kondisi X waktu = 4951 X 2 X 10\n",
            "Tricluster ke 27:  gene X kondisi X waktu = 2307 X 3 X 8\n",
            "Tricluster ke 28:  gene X kondisi X waktu = 3992 X 3 X 7\n",
            "Tricluster ke 29:  gene X kondisi X waktu = 4444 X 3 X 8\n",
            "Tricluster ke 30:  gene X kondisi X waktu = 5509 X 3 X 7\n",
            "Tricluster ke 31:  gene X kondisi X waktu = 5008 X 3 X 7\n",
            "Tricluster ke 32:  gene X kondisi X waktu = 3663 X 3 X 8\n",
            "Tricluster ke 33:  gene X kondisi X waktu = 5817 X 2 X 10\n",
            "Tricluster ke 34:  gene X kondisi X waktu = 2653 X 3 X 9\n",
            "Tricluster ke 35:  gene X kondisi X waktu = 1844 X 3 X 8\n",
            "Tricluster ke 36:  gene X kondisi X waktu = 4618 X 3 X 7\n",
            "Tricluster ke 37:  gene X kondisi X waktu = 5056 X 3 X 7\n",
            "Tricluster ke 38:  gene X kondisi X waktu = 4575 X 3 X 7\n",
            "Tricluster ke 39:  gene X kondisi X waktu = 3764 X 3 X 7\n",
            "Tricluster ke 40:  gene X kondisi X waktu = 4203 X 3 X 7\n",
            "Tricluster ke 41:  gene X kondisi X waktu = 3565 X 3 X 7\n",
            "Tricluster ke 42:  gene X kondisi X waktu = 4655 X 3 X 7\n",
            "Tricluster ke 43:  gene X kondisi X waktu = 4653 X 2 X 8\n",
            "Tricluster ke 44:  gene X kondisi X waktu = 2805 X 3 X 7\n",
            "Tricluster ke 45:  gene X kondisi X waktu = 3686 X 3 X 7\n",
            "Tricluster ke 46:  gene X kondisi X waktu = 3146 X 3 X 7\n",
            "Tricluster ke 47:  gene X kondisi X waktu = 4700 X 3 X 7\n",
            "Tricluster ke 48:  gene X kondisi X waktu = 3519 X 3 X 7\n",
            "Tricluster ke 49:  gene X kondisi X waktu = 4300 X 3 X 6\n",
            "Tricluster ke 50:  gene X kondisi X waktu = 5050 X 3 X 7\n",
            "Tricluster ke 51:  gene X kondisi X waktu = 3377 X 3 X 7\n",
            "Tricluster ke 52:  gene X kondisi X waktu = 3514 X 3 X 7\n",
            "Tricluster ke 53:  gene X kondisi X waktu = 2947 X 3 X 7\n",
            "Tricluster ke 54:  gene X kondisi X waktu = 3987 X 3 X 6\n",
            "Tricluster ke 55:  gene X kondisi X waktu = 3825 X 3 X 7\n",
            "Tricluster ke 56:  gene X kondisi X waktu = 3649 X 3 X 6\n",
            "Tricluster ke 57:  gene X kondisi X waktu = 3733 X 3 X 7\n",
            "Tricluster ke 58:  gene X kondisi X waktu = 5282 X 3 X 6\n",
            "Tricluster ke 59:  gene X kondisi X waktu = 2247 X 3 X 8\n",
            "Tricluster ke 60:  gene X kondisi X waktu = 4145 X 3 X 6\n",
            "Tricluster ke 61:  gene X kondisi X waktu = 5166 X 3 X 6\n",
            "Tricluster ke 62:  gene X kondisi X waktu = 6059 X 2 X 8\n",
            "Tricluster ke 63:  gene X kondisi X waktu = 4990 X 3 X 6\n",
            "Tricluster ke 64:  gene X kondisi X waktu = 3328 X 3 X 7\n",
            "Tricluster ke 65:  gene X kondisi X waktu = 4862 X 2 X 7\n",
            "Tricluster ke 66:  gene X kondisi X waktu = 4389 X 3 X 7\n",
            "Tricluster ke 67:  gene X kondisi X waktu = 4644 X 3 X 7\n",
            "Tricluster ke 68:  gene X kondisi X waktu = 5757 X 3 X 6\n",
            "Tricluster ke 69:  gene X kondisi X waktu = 6015 X 2 X 8\n",
            "Tricluster ke 70:  gene X kondisi X waktu = 3998 X 3 X 6\n",
            "Tricluster ke 71:  gene X kondisi X waktu = 4103 X 3 X 6\n",
            "Tricluster ke 72:  gene X kondisi X waktu = 5407 X 2 X 7\n",
            "Tricluster ke 73:  gene X kondisi X waktu = 4298 X 2 X 8\n",
            "Tricluster ke 74:  gene X kondisi X waktu = 5300 X 2 X 7\n",
            "Tricluster ke 75:  gene X kondisi X waktu = 6522 X 2 X 8\n",
            "Tricluster ke 76:  gene X kondisi X waktu = 4059 X 3 X 6\n",
            "Tricluster ke 77:  gene X kondisi X waktu = 3982 X 3 X 7\n",
            "Tricluster ke 78:  gene X kondisi X waktu = 2409 X 3 X 7\n",
            "Tricluster ke 79:  gene X kondisi X waktu = 5367 X 3 X 6\n",
            "Tricluster ke 80:  gene X kondisi X waktu = 3592 X 3 X 6\n",
            "Tricluster ke 81:  gene X kondisi X waktu = 3583 X 3 X 6\n",
            "Tricluster ke 82:  gene X kondisi X waktu = 5872 X 2 X 7\n",
            "Tricluster ke 83:  gene X kondisi X waktu = 3096 X 3 X 6\n",
            "Tricluster ke 84:  gene X kondisi X waktu = 7146 X 2 X 7\n",
            "Tricluster ke 85:  gene X kondisi X waktu = 3904 X 3 X 6\n",
            "Tricluster ke 86:  gene X kondisi X waktu = 4334 X 2 X 9\n",
            "Tricluster ke 87:  gene X kondisi X waktu = 4355 X 3 X 6\n",
            "Tricluster ke 88:  gene X kondisi X waktu = 4090 X 3 X 6\n",
            "Tricluster ke 89:  gene X kondisi X waktu = 4641 X 3 X 6\n",
            "Tricluster ke 90:  gene X kondisi X waktu = 4579 X 2 X 8\n",
            "Tricluster ke 91:  gene X kondisi X waktu = 3985 X 3 X 6\n",
            "Tricluster ke 92:  gene X kondisi X waktu = 6755 X 3 X 5\n",
            "Tricluster ke 93:  gene X kondisi X waktu = 5939 X 3 X 5\n",
            "Tricluster ke 94:  gene X kondisi X waktu = 5590 X 3 X 5\n",
            "Tricluster ke 95:  gene X kondisi X waktu = 3237 X 3 X 6\n",
            "Tricluster ke 96:  gene X kondisi X waktu = 5444 X 2 X 8\n",
            "Tricluster ke 97:  gene X kondisi X waktu = 4769 X 2 X 7\n",
            "Tricluster ke 98:  gene X kondisi X waktu = 5640 X 2 X 8\n",
            "Tricluster ke 99:  gene X kondisi X waktu = 3573 X 3 X 6\n",
            "Tricluster ke 100:  gene X kondisi X waktu = 4220 X 3 X 6\n",
            "Tricluster ke 101:  gene X kondisi X waktu = 4925 X 3 X 6\n",
            "Tricluster ke 102:  gene X kondisi X waktu = 5630 X 3 X 5\n",
            "Tricluster ke 103:  gene X kondisi X waktu = 5094 X 3 X 6\n",
            "Tricluster ke 104:  gene X kondisi X waktu = 3278 X 3 X 6\n",
            "Tricluster ke 105:  gene X kondisi X waktu = 4688 X 2 X 6\n",
            "Tricluster ke 106:  gene X kondisi X waktu = 4762 X 3 X 5\n",
            "Tricluster ke 107:  gene X kondisi X waktu = 3463 X 3 X 6\n",
            "Tricluster ke 108:  gene X kondisi X waktu = 4825 X 3 X 6\n",
            "Tricluster ke 109:  gene X kondisi X waktu = 4616 X 3 X 6\n",
            "Tricluster ke 110:  gene X kondisi X waktu = 6143 X 2 X 6\n",
            "Tricluster ke 111:  gene X kondisi X waktu = 5242 X 3 X 6\n",
            "Tricluster ke 112:  gene X kondisi X waktu = 5912 X 3 X 5\n",
            "Tricluster ke 113:  gene X kondisi X waktu = 7974 X 2 X 6\n",
            "Tricluster ke 114:  gene X kondisi X waktu = 4379 X 3 X 6\n",
            "Tricluster ke 115:  gene X kondisi X waktu = 5389 X 3 X 6\n",
            "Tricluster ke 116:  gene X kondisi X waktu = 3675 X 3 X 6\n",
            "Tricluster ke 117:  gene X kondisi X waktu = 4649 X 3 X 6\n",
            "Tricluster ke 118:  gene X kondisi X waktu = 4163 X 2 X 6\n",
            "Tricluster ke 119:  gene X kondisi X waktu = 5925 X 3 X 5\n",
            "Tricluster ke 120:  gene X kondisi X waktu = 2014 X 3 X 5\n",
            "Tricluster ke 121:  gene X kondisi X waktu = 4316 X 2 X 6\n",
            "Tricluster ke 122:  gene X kondisi X waktu = 6535 X 3 X 5\n",
            "Tricluster ke 123:  gene X kondisi X waktu = 4583 X 2 X 5\n",
            "Tricluster ke 124:  gene X kondisi X waktu = 3046 X 3 X 5\n",
            "Tricluster ke 125:  gene X kondisi X waktu = 3239 X 3 X 6\n",
            "Tricluster ke 126:  gene X kondisi X waktu = 3185 X 3 X 6\n",
            "Tricluster ke 127:  gene X kondisi X waktu = 2955 X 3 X 6\n",
            "Tricluster ke 128:  gene X kondisi X waktu = 5452 X 3 X 5\n",
            "Tricluster ke 129:  gene X kondisi X waktu = 6213 X 3 X 5\n",
            "Tricluster ke 130:  gene X kondisi X waktu = 7534 X 2 X 6\n",
            "Tricluster ke 131:  gene X kondisi X waktu = 3215 X 3 X 5\n",
            "Tricluster ke 132:  gene X kondisi X waktu = 7783 X 2 X 7\n",
            "Tricluster ke 133:  gene X kondisi X waktu = 4798 X 2 X 6\n",
            "Tricluster ke 134:  gene X kondisi X waktu = 5090 X 2 X 6\n",
            "Tricluster ke 135:  gene X kondisi X waktu = 5748 X 3 X 5\n",
            "Tricluster ke 136:  gene X kondisi X waktu = 5395 X 3 X 5\n",
            "Tricluster ke 137:  gene X kondisi X waktu = 6439 X 2 X 7\n",
            "Tricluster ke 138:  gene X kondisi X waktu = 5060 X 3 X 5\n",
            "Tricluster ke 139:  gene X kondisi X waktu = 5171 X 2 X 6\n",
            "Tricluster ke 140:  gene X kondisi X waktu = 5822 X 2 X 6\n",
            "Tricluster ke 141:  gene X kondisi X waktu = 3076 X 3 X 6\n",
            "Tricluster ke 142:  gene X kondisi X waktu = 4846 X 3 X 5\n",
            "Tricluster ke 143:  gene X kondisi X waktu = 2264 X 3 X 5\n",
            "Tricluster ke 144:  gene X kondisi X waktu = 5519 X 3 X 5\n",
            "Tricluster ke 145:  gene X kondisi X waktu = 5419 X 3 X 5\n",
            "Tricluster ke 146:  gene X kondisi X waktu = 5263 X 3 X 5\n",
            "Tricluster ke 147:  gene X kondisi X waktu = 7567 X 2 X 7\n",
            "Tricluster ke 148:  gene X kondisi X waktu = 7582 X 2 X 5\n",
            "Tricluster ke 149:  gene X kondisi X waktu = 3517 X 2 X 7\n",
            "Tricluster ke 150:  gene X kondisi X waktu = 4782 X 2 X 6\n",
            "Tricluster ke 151:  gene X kondisi X waktu = 3218 X 3 X 5\n",
            "Tricluster ke 152:  gene X kondisi X waktu = 4746 X 3 X 4\n",
            "Tricluster ke 153:  gene X kondisi X waktu = 3515 X 3 X 5\n",
            "Tricluster ke 154:  gene X kondisi X waktu = 3202 X 3 X 5\n",
            "Tricluster ke 155:  gene X kondisi X waktu = 2943 X 3 X 5\n",
            "Tricluster ke 156:  gene X kondisi X waktu = 6992 X 2 X 6\n",
            "Tricluster ke 157:  gene X kondisi X waktu = 5458 X 2 X 6\n",
            "Tricluster ke 158:  gene X kondisi X waktu = 5262 X 3 X 4\n",
            "Tricluster ke 159:  gene X kondisi X waktu = 8257 X 2 X 6\n",
            "Tricluster ke 160:  gene X kondisi X waktu = 1762 X 2 X 7\n",
            "Tricluster ke 161:  gene X kondisi X waktu = 4964 X 3 X 5\n",
            "Tricluster ke 162:  gene X kondisi X waktu = 6137 X 3 X 4\n",
            "Tricluster ke 163:  gene X kondisi X waktu = 3897 X 3 X 5\n",
            "Tricluster ke 164:  gene X kondisi X waktu = 3753 X 2 X 8\n",
            "Tricluster ke 165:  gene X kondisi X waktu = 3730 X 2 X 6\n",
            "Tricluster ke 166:  gene X kondisi X waktu = 4073 X 3 X 5\n",
            "Tricluster ke 167:  gene X kondisi X waktu = 4347 X 3 X 5\n",
            "Tricluster ke 168:  gene X kondisi X waktu = 2660 X 3 X 5\n",
            "Tricluster ke 169:  gene X kondisi X waktu = 5191 X 3 X 4\n",
            "Tricluster ke 170:  gene X kondisi X waktu = 6512 X 3 X 4\n",
            "Tricluster ke 171:  gene X kondisi X waktu = 3763 X 3 X 4\n",
            "Tricluster ke 172:  gene X kondisi X waktu = 7675 X 2 X 6\n",
            "Tricluster ke 173:  gene X kondisi X waktu = 2535 X 3 X 6\n",
            "Tricluster ke 174:  gene X kondisi X waktu = 4950 X 3 X 4\n",
            "Tricluster ke 175:  gene X kondisi X waktu = 2620 X 3 X 4\n",
            "Tricluster ke 176:  gene X kondisi X waktu = 6308 X 2 X 5\n",
            "Tricluster ke 177:  gene X kondisi X waktu = 9395 X 2 X 5\n",
            "Tricluster ke 178:  gene X kondisi X waktu = 4876 X 3 X 4\n",
            "Tricluster ke 179:  gene X kondisi X waktu = 4675 X 3 X 4\n",
            "Tricluster ke 180:  gene X kondisi X waktu = 6200 X 3 X 4\n",
            "Tricluster ke 181:  gene X kondisi X waktu = 6991 X 2 X 6\n",
            "Tricluster ke 182:  gene X kondisi X waktu = 6245 X 2 X 5\n",
            "Tricluster ke 183:  gene X kondisi X waktu = 4135 X 3 X 4\n",
            "Tricluster ke 184:  gene X kondisi X waktu = 5129 X 3 X 5\n",
            "Tricluster ke 185:  gene X kondisi X waktu = 4453 X 3 X 5\n",
            "Tricluster ke 186:  gene X kondisi X waktu = 3509 X 3 X 5\n",
            "Tricluster ke 187:  gene X kondisi X waktu = 2378 X 3 X 4\n",
            "Tricluster ke 188:  gene X kondisi X waktu = 3605 X 3 X 5\n",
            "Tricluster ke 189:  gene X kondisi X waktu = 6112 X 2 X 6\n",
            "Tricluster ke 190:  gene X kondisi X waktu = 3391 X 3 X 4\n",
            "Tricluster ke 191:  gene X kondisi X waktu = 6937 X 3 X 4\n",
            "Tricluster ke 192:  gene X kondisi X waktu = 3964 X 2 X 5\n",
            "Tricluster ke 193:  gene X kondisi X waktu = 6263 X 3 X 4\n",
            "Tricluster ke 194:  gene X kondisi X waktu = 8227 X 2 X 5\n",
            "Tricluster ke 195:  gene X kondisi X waktu = 1171 X 3 X 5\n",
            "Tricluster ke 196:  gene X kondisi X waktu = 5046 X 3 X 4\n",
            "Tricluster ke 197:  gene X kondisi X waktu = 2142 X 3 X 4\n",
            "Tricluster ke 198:  gene X kondisi X waktu = 7811 X 2 X 5\n",
            "Tricluster ke 199:  gene X kondisi X waktu = 2808 X 3 X 4\n",
            "Tricluster ke 200:  gene X kondisi X waktu = 8020 X 2 X 6\n",
            "Tricluster ke 201:  gene X kondisi X waktu = 2016 X 3 X 5\n",
            "Tricluster ke 202:  gene X kondisi X waktu = 3857 X 2 X 6\n",
            "Tricluster ke 203:  gene X kondisi X waktu = 1418 X 3 X 4\n",
            "Tricluster ke 204:  gene X kondisi X waktu = 2406 X 3 X 4\n",
            "Tricluster ke 205:  gene X kondisi X waktu = 2922 X 2 X 6\n",
            "Tricluster ke 206:  gene X kondisi X waktu = 4170 X 3 X 3\n",
            "Tricluster ke 207:  gene X kondisi X waktu = 6977 X 2 X 5\n",
            "Tricluster ke 208:  gene X kondisi X waktu = 2050 X 3 X 5\n",
            "Tricluster ke 209:  gene X kondisi X waktu = 5524 X 3 X 4\n",
            "Tricluster ke 210:  gene X kondisi X waktu = 2403 X 3 X 4\n",
            "Tricluster ke 211:  gene X kondisi X waktu = 1068 X 3 X 5\n",
            "Tricluster ke 212:  gene X kondisi X waktu = 3322 X 3 X 4\n",
            "Tricluster ke 213:  gene X kondisi X waktu = 5743 X 2 X 6\n",
            "Tricluster ke 214:  gene X kondisi X waktu = 5286 X 3 X 4\n",
            "Tricluster ke 215:  gene X kondisi X waktu = 2096 X 2 X 6\n",
            "Tricluster ke 216:  gene X kondisi X waktu = 5837 X 3 X 3\n",
            "Tricluster ke 217:  gene X kondisi X waktu = 1335 X 3 X 5\n",
            "Tricluster ke 218:  gene X kondisi X waktu = 6885 X 2 X 5\n",
            "Tricluster ke 219:  gene X kondisi X waktu = 6198 X 2 X 5\n",
            "Tricluster ke 220:  gene X kondisi X waktu = 3698 X 2 X 6\n",
            "Tricluster ke 221:  gene X kondisi X waktu = 5593 X 3 X 3\n",
            "Tricluster ke 222:  gene X kondisi X waktu = 2836 X 2 X 5\n",
            "Tricluster ke 223:  gene X kondisi X waktu = 5380 X 3 X 3\n",
            "Tricluster ke 224:  gene X kondisi X waktu = 7970 X 3 X 3\n",
            "Tricluster ke 225:  gene X kondisi X waktu = 5422 X 3 X 3\n",
            "Tricluster ke 226:  gene X kondisi X waktu = 2038 X 3 X 4\n",
            "Tricluster ke 227:  gene X kondisi X waktu = 2623 X 2 X 5\n",
            "Tricluster ke 228:  gene X kondisi X waktu = 8320 X 3 X 3\n",
            "Tricluster ke 229:  gene X kondisi X waktu = 1274 X 3 X 4\n",
            "Tricluster ke 230:  gene X kondisi X waktu = 5764 X 2 X 5\n",
            "Tricluster ke 231:  gene X kondisi X waktu = 1244 X 3 X 4\n",
            "Tricluster ke 232:  gene X kondisi X waktu = 6881 X 3 X 3\n",
            "Tricluster ke 233:  gene X kondisi X waktu = 5062 X 3 X 3\n",
            "Tricluster ke 234:  gene X kondisi X waktu = 2968 X 3 X 5\n",
            "Tricluster ke 235:  gene X kondisi X waktu = 5093 X 3 X 5\n",
            "Tricluster ke 236:  gene X kondisi X waktu = 4881 X 3 X 3\n",
            "Tricluster ke 237:  gene X kondisi X waktu = 2340 X 2 X 5\n",
            "Tricluster ke 238:  gene X kondisi X waktu = 6031 X 2 X 5\n",
            "Tricluster ke 239:  gene X kondisi X waktu = 4641 X 2 X 5\n",
            "Tricluster ke 240:  gene X kondisi X waktu = 4600 X 3 X 4\n",
            "Tricluster ke 241:  gene X kondisi X waktu = 3035 X 2 X 5\n",
            "Tricluster ke 242:  gene X kondisi X waktu = 2740 X 2 X 5\n",
            "Tricluster ke 243:  gene X kondisi X waktu = 8275 X 2 X 5\n",
            "Tricluster ke 244:  gene X kondisi X waktu = 2789 X 3 X 3\n",
            "Tricluster ke 245:  gene X kondisi X waktu = 7653 X 2 X 4\n",
            "Tricluster ke 246:  gene X kondisi X waktu = 5516 X 3 X 3\n",
            "Tricluster ke 247:  gene X kondisi X waktu = 1315 X 2 X 6\n",
            "Tricluster ke 248:  gene X kondisi X waktu = 4080 X 2 X 5\n",
            "Tricluster ke 249:  gene X kondisi X waktu = 1226 X 3 X 5\n",
            "Tricluster ke 250:  gene X kondisi X waktu = 2070 X 2 X 4\n",
            "Tricluster ke 251:  gene X kondisi X waktu = 3519 X 3 X 3\n",
            "Tricluster ke 252:  gene X kondisi X waktu = 7753 X 2 X 5\n",
            "Tricluster ke 253:  gene X kondisi X waktu = 1334 X 3 X 4\n",
            "Tricluster ke 254:  gene X kondisi X waktu = 928 X 3 X 5\n",
            "Tricluster ke 255:  gene X kondisi X waktu = 3704 X 2 X 6\n",
            "Tricluster ke 256:  gene X kondisi X waktu = 4829 X 2 X 5\n",
            "Tricluster ke 257:  gene X kondisi X waktu = 1603 X 3 X 4\n",
            "Tricluster ke 258:  gene X kondisi X waktu = 3399 X 2 X 5\n",
            "Tricluster ke 259:  gene X kondisi X waktu = 2430 X 2 X 4\n",
            "Tricluster ke 260:  gene X kondisi X waktu = 1035 X 3 X 5\n",
            "Tricluster ke 261:  gene X kondisi X waktu = 5148 X 2 X 4\n",
            "Tricluster ke 262:  gene X kondisi X waktu = 1774 X 3 X 4\n",
            "Tricluster ke 263:  gene X kondisi X waktu = 2532 X 3 X 4\n",
            "Tricluster ke 264:  gene X kondisi X waktu = 8531 X 3 X 3\n",
            "Tricluster ke 265:  gene X kondisi X waktu = 5181 X 3 X 3\n",
            "Tricluster ke 266:  gene X kondisi X waktu = 1345 X 3 X 4\n",
            "Tricluster ke 267:  gene X kondisi X waktu = 4389 X 3 X 4\n",
            "Tricluster ke 268:  gene X kondisi X waktu = 1858 X 3 X 3\n",
            "Tricluster ke 269:  gene X kondisi X waktu = 1363 X 3 X 4\n",
            "Tricluster ke 270:  gene X kondisi X waktu = 3930 X 3 X 3\n",
            "Tricluster ke 271:  gene X kondisi X waktu = 896 X 3 X 4\n",
            "Tricluster ke 272:  gene X kondisi X waktu = 5660 X 2 X 3\n",
            "Tricluster ke 273:  gene X kondisi X waktu = 1455 X 2 X 5\n",
            "Tricluster ke 274:  gene X kondisi X waktu = 8830 X 3 X 3\n",
            "Tricluster ke 275:  gene X kondisi X waktu = 9172 X 3 X 3\n",
            "Tricluster ke 276:  gene X kondisi X waktu = 5347 X 3 X 4\n",
            "Tricluster ke 277:  gene X kondisi X waktu = 1582 X 2 X 4\n",
            "Tricluster ke 278:  gene X kondisi X waktu = 2497 X 2 X 5\n",
            "Tricluster ke 279:  gene X kondisi X waktu = 5868 X 3 X 3\n",
            "Tricluster ke 280:  gene X kondisi X waktu = 6330 X 2 X 4\n",
            "Tricluster ke 281:  gene X kondisi X waktu = 2651 X 3 X 3\n",
            "Tricluster ke 282:  gene X kondisi X waktu = 704 X 3 X 6\n",
            "Tricluster ke 283:  gene X kondisi X waktu = 1331 X 2 X 4\n",
            "Tricluster ke 284:  gene X kondisi X waktu = 6089 X 3 X 3\n",
            "Tricluster ke 285:  gene X kondisi X waktu = 2160 X 2 X 4\n",
            "Tricluster ke 286:  gene X kondisi X waktu = 7686 X 2 X 4\n",
            "Tricluster ke 287:  gene X kondisi X waktu = 2333 X 2 X 4\n",
            "Tricluster ke 288:  gene X kondisi X waktu = 947 X 3 X 4\n",
            "Tricluster ke 289:  gene X kondisi X waktu = 8204 X 2 X 4\n",
            "Tricluster ke 290:  gene X kondisi X waktu = 3653 X 3 X 3\n",
            "Tricluster ke 291:  gene X kondisi X waktu = 5881 X 2 X 4\n",
            "Tricluster ke 292:  gene X kondisi X waktu = 8784 X 2 X 4\n",
            "Tricluster ke 293:  gene X kondisi X waktu = 1246 X 2 X 4\n",
            "Tricluster ke 294:  gene X kondisi X waktu = 813 X 3 X 5\n",
            "Tricluster ke 295:  gene X kondisi X waktu = 2629 X 3 X 3\n",
            "Tricluster ke 296:  gene X kondisi X waktu = 2039 X 3 X 3\n",
            "Tricluster ke 297:  gene X kondisi X waktu = 9524 X 2 X 4\n",
            "Tricluster ke 298:  gene X kondisi X waktu = 2104 X 2 X 4\n",
            "Tricluster ke 299:  gene X kondisi X waktu = 2567 X 2 X 3\n",
            "Tricluster ke 300:  gene X kondisi X waktu = 4233 X 2 X 5\n",
            "Tricluster ke 301:  gene X kondisi X waktu = 6760 X 2 X 5\n",
            "Tricluster ke 302:  gene X kondisi X waktu = 11027 X 2 X 4\n"
          ],
          "name": "stdout"
        }
      ]
    },
    {
      "cell_type": "code",
      "metadata": {
        "id": "Ux9eC-6g2ecN",
        "colab_type": "code",
        "colab": {
          "base_uri": "https://localhost:8080/",
          "height": 348
        },
        "outputId": "1666ccba-2e41-4289-de7d-7303f9369305"
      },
      "source": [
        "print(\"banyaknya Tricluster tercover pada setiap kondisi\")\n",
        "for i in range(3):\n",
        "  print(\"kondisi {} : {}\".format(i+1, np.count_nonzero(k6[:,i])))\n",
        "\n",
        "print(\"\\nbanyaknya Tricluster tercover pada setiap waktu\")\n",
        "for i in range(12):\n",
        "  print(\"waktu {} : {}\".format(i+1, np.count_nonzero(w6[:,i])))"
      ],
      "execution_count": null,
      "outputs": [
        {
          "output_type": "stream",
          "text": [
            "banyaknya Tricluster tercover pada setiap kondisi\n",
            "kondisi 1 : 272\n",
            "kondisi 2 : 276\n",
            "kondisi 3 : 262\n",
            "\n",
            "banyaknya Tricluster tercover pada setiap waktu\n",
            "waktu 1 : 128\n",
            "waktu 2 : 166\n",
            "waktu 3 : 122\n",
            "waktu 4 : 157\n",
            "waktu 5 : 148\n",
            "waktu 6 : 131\n",
            "waktu 7 : 170\n",
            "waktu 8 : 140\n",
            "waktu 9 : 154\n",
            "waktu 10 : 139\n",
            "waktu 11 : 123\n",
            "waktu 12 : 118\n"
          ],
          "name": "stdout"
        }
      ]
    },
    {
      "cell_type": "code",
      "metadata": {
        "id": "1bW5_kreDDTt",
        "colab_type": "code",
        "colab": {
          "base_uri": "https://localhost:8080/",
          "height": 1000
        },
        "outputId": "4fddb4f9-dd62-48fe-d23d-72af6344b9dd"
      },
      "source": [
        "for i in range(len(g15)):\n",
        "  print(\"{}\\{}\\{}X{}X{}\".format(i+1, np.log10(Q15[i]),\n",
        "                                                                          np.count_nonzero(g15[i]),\n",
        "                                                                          np.count_nonzero(k15[i]),\n",
        "                                                                          np.count_nonzero(w15[i])))"
      ],
      "execution_count": null,
      "outputs": [
        {
          "output_type": "stream",
          "text": [
            "1\\-7.995015546779205\\32402X3X12\n",
            "2\\-5.797207010053816\\227X3X12\n",
            "3\\-7.769065596987977\\25044X3X7\n",
            "4\\-7.322832928080532\\6904X3X7\n",
            "5\\-7.760312907503188\\23403X3X7\n",
            "6\\-7.518484245203914\\11352X3X7\n",
            "7\\-7.195642541165691\\4804X3X7\n",
            "8\\-7.445658026294031\\11615X3X6\n",
            "9\\-7.259278363244768\\5688X3X7\n",
            "10\\-7.525169952400148\\13736X3X6\n",
            "11\\-7.393845285508505\\9319X3X6\n",
            "12\\-7.311265754073249\\7795X3X6\n",
            "13\\-7.560496548816879\\15230X3X6\n",
            "14\\-7.317913901529365\\9602X2X7\n",
            "15\\-7.31487154787436\\7805X3X6\n",
            "16\\-7.587075696960369\\24782X2X6\n",
            "17\\-7.604051719919063\\21599X3X5\n",
            "18\\-5.4538783601189635\\173X3X6\n",
            "19\\-7.316273618917239\\8235X3X6\n",
            "20\\-7.359677552254418\\12853X2X6\n",
            "21\\-7.6902319064172975\\23004X3X6\n",
            "22\\-7.137276607121885\\4010X3X7\n",
            "23\\-7.201855832698827\\5641X3X6\n",
            "24\\-7.326084653451464\\9034X3X5\n",
            "25\\-7.4458725667513495\\11071X3X6\n",
            "26\\-7.149102532921809\\5641X3X5\n",
            "27\\-7.605772751598157\\18151X3X6\n",
            "28\\-7.634298626057378\\22733X3X5\n",
            "29\\-7.537237111523134\\21797X3X4\n",
            "30\\-7.575144498498632\\19865X3X5\n",
            "31\\-7.1644832624210135\\5054X3X6\n",
            "32\\-7.5094059141477185\\15284X3X5\n",
            "33\\-7.602808202345228\\25065X2X6\n",
            "34\\-7.211315082163164\\8004X2X6\n",
            "35\\-5.0749528341297\\67X3X7\n",
            "36\\-7.148293453722869\\4679X3X6\n",
            "37\\-7.096888708324314\\4229X3X6\n",
            "38\\-7.482589935274069\\15168X3X5\n",
            "39\\-7.320092730411596\\9086X3X5\n",
            "40\\-7.284232896609505\\9713X2X6\n",
            "41\\-5.965311009534848\\504X3X6\n",
            "42\\-7.541364763919853\\17576X3X5\n",
            "43\\-7.20856452357831\\7062X3X5\n",
            "44\\-7.448895319021142\\16470X3X4\n",
            "45\\-5.4770038973903254\\198X3X5\n",
            "46\\-7.59355327103009\\20291X3X5\n",
            "47\\-7.244913230709023\\9602X3X4\n",
            "48\\-7.605648712407058\\25872X3X4\n",
            "49\\-7.082289926218501\\4637X3X5\n",
            "50\\-7.1860667223807555\\6392X2X7\n",
            "51\\-7.249316727189624\\9416X3X4\n",
            "52\\-7.523197350019411\\16421X3X5\n",
            "53\\-7.369982393745707\\13591X3X4\n",
            "54\\-7.388320491951323\\13850X3X4\n",
            "55\\-7.2498259723959295\\7742X3X5\n",
            "56\\-7.458815379671033\\17163X3X4\n",
            "57\\-7.403626390610789\\14446X3X4\n",
            "58\\-7.087309960120365\\5609X3X4\n",
            "59\\-7.55680435185409\\18239X3X5\n",
            "60\\-5.716068267654724\\350X3X5\n",
            "61\\-7.027441046331677\\3951X3X5\n",
            "62\\-7.5524069079520295\\24726X2X5\n",
            "63\\-7.107527871775338\\5906X2X6\n",
            "64\\-7.361712999571324\\12841X3X4\n",
            "65\\-5.56621353593662\\243X3X5\n",
            "66\\-5.262686865469181\\128X3X5\n",
            "67\\-7.197839614419827\\9761X2X5\n",
            "68\\-7.215076186578163\\9870X2X5\n",
            "69\\-5.518388551865061\\264X3X4\n",
            "70\\-7.354098330470592\\12250X3X4\n",
            "71\\-7.112138587929751\\6373X3X4\n",
            "72\\-7.258245367145266\\11656X2X5\n",
            "73\\-7.131459534713961\\5268X3X5\n",
            "74\\-7.177387492232911\\7768X3X4\n",
            "75\\-7.203714510236651\\10643X2X5\n",
            "76\\-4.942279183789977\\56X3X6\n",
            "77\\-7.144947728667168\\5203X3X5\n",
            "78\\-7.035631331052486\\3908X3X5\n",
            "79\\-7.364260411697414\\14159X2X5\n",
            "80\\-5.775834673459073\\485X2X6\n",
            "81\\-5.251189169733966\\132X2X7\n",
            "82\\-6.987850905138093\\3210X3X5\n",
            "83\\-7.452462702245154\\15931X2X6\n",
            "84\\-7.3181464207786\\11904X3X4\n",
            "85\\-7.468316029920008\\23714X3X3\n",
            "86\\-5.614455667811603\\350X3X4\n",
            "87\\-5.38912508082198\\209X3X4\n",
            "88\\-5.268100772014666\\146X3X4\n",
            "89\\-7.178828567522447\\7274X2X6\n",
            "90\\-7.390006034896802\\17689X3X3\n",
            "91\\-5.206078603119559\\106X3X5\n",
            "92\\-7.276942951243399\\13941X2X4\n",
            "93\\-5.732676247388278\\493X2X5\n",
            "94\\-6.99963395213857\\4039X2X6\n",
            "95\\-7.293055016194088\\10627X3X4\n",
            "96\\-7.351446707085164\\13368X2X5\n",
            "97\\-4.791000603287596\\52X2X6\n",
            "98\\-7.19760492475197\\6270X3X5\n",
            "99\\-7.097838774337296\\6806X2X5\n",
            "100\\-7.089818469739699\\7854X2X4\n",
            "101\\-7.317524279168885\\10879X3X4\n",
            "102\\-6.03876836461951\\832X3X4\n",
            "103\\-7.073530507022899\\6768X3X3\n",
            "104\\-6.992861873772988\\4310X3X4\n",
            "105\\-7.146122835630617\\6802X2X6\n",
            "106\\-7.08048183524287\\6178X3X4\n",
            "107\\-5.537188294679911\\286X2X5\n",
            "108\\-5.223774994979063\\160X3X3\n",
            "109\\-7.361676090873627\\18339X2X4\n",
            "110\\-7.391370465273917\\17736X2X4\n",
            "111\\-7.1488097902511285\\6525X2X6\n",
            "112\\-7.1530078706078175\\7889X2X5\n",
            "113\\-5.625854113064937\\322X3X4\n",
            "114\\-7.488765564590924\\20282X2X5\n",
            "115\\-7.195138227614026\\10453X3X3\n",
            "116\\-7.217746084550541\\11304X2X4\n",
            "117\\-4.9549912128266325\\84X3X4\n",
            "118\\-7.22835872981583\\11866X2X4\n",
            "119\\-7.437444226189271\\21632X3X3\n",
            "120\\-4.943140774460178\\64X3X4\n",
            "121\\-7.105137548216361\\8459X3X3\n",
            "122\\-4.96504540047982\\60X3X5\n",
            "123\\-7.419164339132056\\20367X3X3\n",
            "124\\-7.121819771152699\\8110X2X5\n",
            "125\\-5.33885278427403\\214X2X5\n",
            "126\\-5.441746555892957\\230X3X4\n",
            "127\\-4.905171240323297\\66X3X3\n",
            "128\\-7.305646751398292\\12575X2X5\n",
            "129\\-4.687573813255927\\37X3X5\n",
            "130\\-7.242493954879131\\9242X3X4\n",
            "131\\-7.041451889783264\\6010X3X3\n",
            "132\\-5.52421072049032\\339X3X3\n",
            "133\\-4.788792516733875\\55X3X4\n",
            "134\\-7.258622173082344\\7639X3X5\n",
            "135\\-6.953705105148871\\3485X3X4\n",
            "136\\-7.366266315121404\\22740X2X3\n",
            "137\\-5.5208505800471555\\264X2X6\n",
            "138\\-7.162063243334806\\6972X3X4\n",
            "139\\-7.230477283424462\\10974X3X3\n",
            "140\\-5.448383390957753\\299X2X4\n",
            "141\\-5.4344906403857465\\256X2X5\n",
            "142\\-7.048770021496118\\7182X2X4\n",
            "143\\-6.880553579488268\\4640X2X4\n",
            "144\\-7.368737454744816\\13990X2X5\n",
            "145\\-6.925031207680734\\4624X2X4\n",
            "146\\-7.24306971052595\\12149X2X4\n",
            "147\\-7.347757921407158\\16973X3X3\n",
            "148\\-6.872367659438954\\2954X2X5\n",
            "149\\-5.399175980267434\\262X3X3\n",
            "150\\-5.370758718331789\\239X2X4\n",
            "151\\-7.243584454822339\\7033X3X5\n",
            "152\\-7.324033481856602\\14569X3X3\n",
            "153\\-5.580296760002545\\379X3X3\n",
            "154\\-5.609641919042346\\410X3X3\n",
            "155\\-7.053077536375634\\6481X3X3\n",
            "156\\-6.938696871901252\\4739X3X3\n",
            "157\\-7.057183683759412\\7844X2X4\n",
            "158\\-7.040460609012528\\8617X2X3\n",
            "159\\-7.457273001386796\\22541X3X3\n",
            "160\\-7.067151371003433\\8427X2X4\n",
            "161\\-7.086228004653423\\6240X2X5\n",
            "162\\-7.149835346715118\\8617X3X3\n",
            "163\\-7.50071280648146\\22130X2X5\n",
            "164\\-5.009688351600141\\109X3X3\n",
            "165\\-6.961879390763755\\8021X3X2\n",
            "166\\-4.8915183399050255\\53X3X5\n",
            "167\\-5.258770198619617\\140X2X6\n",
            "168\\-5.300910203169593\\167X2X4\n",
            "169\\-7.0532788396950865\\8710X2X3\n",
            "170\\-5.2863175247320555\\197X3X3\n",
            "171\\-5.718626222539714\\579X2X4\n",
            "172\\-7.018352840490422\\4491X3X4\n",
            "173\\-5.315305540619164\\237X2X4\n",
            "174\\-7.175992029322081\\10107X3X3\n",
            "175\\-6.875628022402376\\4689X2X4\n",
            "176\\-7.01730925356539\\6163X3X3\n",
            "177\\-6.981438129036336\\4934X3X3\n",
            "178\\-7.1516615922298605\\9512X2X4\n",
            "179\\-7.216374237749908\\11387X2X5\n",
            "180\\-6.892592764875602\\3005X3X4\n",
            "181\\-7.139760729110446\\7632X3X3\n",
            "182\\-4.164643878294618\\16X3X4\n",
            "183\\-5.260178679558708\\173X3X3\n",
            "184\\-7.100645902270194\\5730X3X4\n",
            "185\\-7.5111098243982735\\24969X3X3\n",
            "186\\-5.213065330908716\\173X3X3\n",
            "187\\-5.449828249297041\\249X2X5\n",
            "188\\-7.039437707047087\\5856X3X3\n",
            "189\\-7.3706747880254735\\18413X2X4\n",
            "190\\-5.294880977928704\\210X2X4\n",
            "191\\-5.21774282317664\\177X3X3\n",
            "192\\-7.152944272420959\\9336X2X4\n",
            "193\\-4.7531747317197865\\53X2X4\n",
            "194\\-5.1536905956362045\\142X3X3\n",
            "195\\-6.749983554538306\\1898X3X4\n",
            "196\\-7.221956243986776\\13206X2X3\n",
            "197\\-7.280602448954345\\14001X2X4\n",
            "198\\-7.026556645370164\\5757X2X5\n",
            "199\\-5.268273343594455\\189X2X5\n",
            "200\\-5.499531739812335\\307X3X3\n",
            "201\\-7.14940011529043\\6829X3X4\n",
            "202\\-7.202535150951586\\9610X3X3\n",
            "203\\-7.027400680398771\\5712X3X3\n",
            "204\\-7.01235449760098\\7055X2X3\n",
            "205\\-4.9339357301642774\\72X3X4\n",
            "206\\-4.7480247169303595\\66X3X3\n",
            "207\\-7.515388218798835\\27988X2X4\n",
            "208\\-4.949583777082227\\105X2X4\n",
            "209\\-7.064108492619671\\6808X2X4\n",
            "210\\-3.772926654293271\\5X3X5\n",
            "211\\-7.412044407558922\\19674X2X4\n",
            "212\\-7.117571734354759\\6784X2X5\n",
            "213\\-6.9287016941536725\\4029X3X3\n",
            "214\\-7.351386575768433\\17257X2X4\n",
            "215\\-5.054426395531492\\118X2X4\n",
            "216\\-4.317815779547902\\14X3X5\n",
            "217\\-5.661269529269511\\453X2X4\n",
            "218\\-5.415378334141413\\256X2X4\n",
            "219\\-6.957359609897053\\5340X2X4\n",
            "220\\-6.700464833529311\\1854X3X3\n",
            "221\\-7.067611108268243\\7068X2X4\n",
            "222\\-7.281950350489178\\14092X2X4\n",
            "223\\-5.677760275591183\\554X2X4\n",
            "224\\-4.90575895651819\\91X2X4\n",
            "225\\-4.963690347053143\\97X2X4\n",
            "226\\-6.985734020751447\\4386X2X5\n",
            "227\\-6.716728013238116\\1739X3X4\n",
            "228\\-7.114545710586402\\9625X2X4\n",
            "229\\-7.338565495218536\\20654X2X3\n",
            "230\\-7.022615061681561\\6426X2X4\n",
            "231\\-7.249356225138172\\12684X3X3\n",
            "232\\-6.982401128146842\\6004X2X4\n",
            "233\\-7.392924877695396\\19775X2X4\n",
            "234\\-7.313774104748333\\17228X2X4\n",
            "235\\-6.7017633532169665\\1620X3X4\n",
            "236\\-6.920110596655991\\4227X3X3\n",
            "237\\-5.489759219858862\\342X2X3\n"
          ],
          "name": "stdout"
        }
      ]
    },
    {
      "cell_type": "markdown",
      "metadata": {
        "id": "VYryAIi0f3zP",
        "colab_type": "text"
      },
      "source": [
        "## Simulasi 1"
      ]
    },
    {
      "cell_type": "code",
      "metadata": {
        "id": "eiJ_4a-nf8a2",
        "colab_type": "code",
        "colab": {
          "base_uri": "https://localhost:8080/",
          "height": 201
        },
        "outputId": "6aed7e68-ffdf-4ab6-a885-3adb1f80ecf7"
      },
      "source": [
        "#simulasi terbaik adalah pada simulasi 1\n",
        "# 10 tricluster dengan TQI terkecil pada simulasi 6\n",
        "for i in range(10):\n",
        "  x = np.sort(Q1)[i]\n",
        "  y = np.where(Q1 == x)\n",
        "  y = y[0][0]\n",
        "  yy = y+1\n",
        "  print(\"tricluster {} -- TQI :{} -- ukuran :{} x {} x {}\".format(yy,x,\n",
        "                                                              np.count_nonzero(g1[y]),\n",
        "                                                              np.count_nonzero(k1[y]),\n",
        "                                                              np.count_nonzero(w1[y])))"
      ],
      "execution_count": null,
      "outputs": [
        {
          "output_type": "stream",
          "text": [
            "tricluster 1 -- TQI :2.7586763915153866e-08 -- ukuran :6847 x 3 x 12\n",
            "tricluster 116 -- TQI :4.623131913636454e-08 -- ukuran :7463 x 3 x 5\n",
            "tricluster 4 -- TQI :4.6450226184393754e-08 -- ukuran :4670 x 3 x 9\n",
            "tricluster 8 -- TQI :4.6747469812916686e-08 -- ukuran :4578 x 3 x 9\n",
            "tricluster 84 -- TQI :4.69014952144051e-08 -- ukuran :6272 x 3 x 6\n",
            "tricluster 2 -- TQI :4.702129383788111e-08 -- ukuran :4165 x 3 x 10\n",
            "tricluster 3 -- TQI :4.703697348984933e-08 -- ukuran :4177 x 3 x 10\n",
            "tricluster 45 -- TQI :4.715826812756792e-08 -- ukuran :5492 x 3 x 7\n",
            "tricluster 13 -- TQI :4.739426147144677e-08 -- ukuran :4911 x 3 x 8\n",
            "tricluster 9 -- TQI :4.761581846458363e-08 -- ukuran :4927 x 3 x 8\n"
          ],
          "name": "stdout"
        }
      ]
    },
    {
      "cell_type": "code",
      "metadata": {
        "id": "EmnLTZ5Lf_5q",
        "colab_type": "code",
        "colab": {
          "base_uri": "https://localhost:8080/",
          "height": 201
        },
        "outputId": "a685de68-c0f3-4767-c9bd-b4d87f72d3bf"
      },
      "source": [
        "no_tric = [1,116,4,8,84,2,3,45,13,9]\n",
        "for i in no_tric:\n",
        "  x = i-1\n",
        "  print('tricluster {} : {}'.format(i,np.nonzero(w1[x])))"
      ],
      "execution_count": null,
      "outputs": [
        {
          "output_type": "stream",
          "text": [
            "tricluster 1 : (array([ 0,  1,  2,  3,  4,  5,  6,  7,  8,  9, 10, 11]),)\n",
            "tricluster 116 : (array([ 3,  6,  7,  8, 10]),)\n",
            "tricluster 4 : (array([ 0,  1,  2,  3,  6,  7,  8,  9, 10]),)\n",
            "tricluster 8 : (array([ 0,  1,  3,  4,  5,  6,  7,  8, 10]),)\n",
            "tricluster 84 : (array([3, 4, 6, 7, 8, 9]),)\n",
            "tricluster 2 : (array([0, 1, 2, 3, 4, 5, 6, 7, 8, 9]),)\n",
            "tricluster 3 : (array([ 1,  3,  4,  5,  6,  7,  8,  9, 10, 11]),)\n",
            "tricluster 45 : (array([1, 2, 3, 4, 6, 7, 8]),)\n",
            "tricluster 13 : (array([ 1,  3,  4,  6,  7,  8,  9, 11]),)\n",
            "tricluster 9 : (array([ 1,  2,  3,  4,  6,  8,  9, 10]),)\n"
          ],
          "name": "stdout"
        }
      ]
    },
    {
      "cell_type": "code",
      "metadata": {
        "id": "EF88WTRwgqig",
        "colab_type": "code",
        "colab": {
          "base_uri": "https://localhost:8080/",
          "height": 1000
        },
        "outputId": "f07f990f-71a5-4054-e39e-9cf91ed2b2cf"
      },
      "source": [
        "for i in range(len(g1)):\n",
        "  print(\"{}\\{}\\{}X{}X{}\".format(i+1, np.log10(Q1[i]),\n",
        "                                                                          np.count_nonzero(g1[i]),\n",
        "                                                                          np.count_nonzero(k1[i]),\n",
        "                                                                          np.count_nonzero(w1[i])))"
      ],
      "execution_count": null,
      "outputs": [
        {
          "output_type": "stream",
          "text": [
            "1\\-7.559299241754231\\6847X3X12\n",
            "2\\-7.327705425000074\\4165X3X10\n",
            "3\\-7.327560629936663\\4177X3X10\n",
            "4\\-7.333012166914797\\4670X3X9\n",
            "5\\-7.301550073789692\\3938X3X10\n",
            "6\\-7.241919310802342\\3776X3X9\n",
            "7\\-7.272274826222486\\3979X3X9\n",
            "8\\-7.330241890160987\\4578X3X9\n",
            "9\\-7.322248746215779\\4927X3X8\n",
            "10\\-7.247444456746185\\3723X3X9\n",
            "11\\-7.242152574758228\\4094X3X8\n",
            "12\\-7.297839178904175\\4636X3X8\n",
            "13\\-7.324274239806044\\4911X3X8\n",
            "14\\-7.300331050229065\\4690X3X8\n",
            "15\\-7.270033902300948\\3922X3X9\n",
            "16\\-7.291272265370089\\4158X3X9\n",
            "17\\-7.2451754490021845\\4139X3X8\n",
            "18\\-7.2796363099569055\\4399X3X8\n",
            "19\\-7.140277111980646\\3069X3X8\n",
            "20\\-7.2530930154606015\\4149X3X8\n",
            "21\\-7.275930577270723\\4392X3X8\n",
            "22\\-7.2441887194433905\\4108X3X8\n",
            "23\\-7.229113506329697\\3961X3X8\n",
            "24\\-7.1058447400824125\\2562X3X9\n",
            "25\\-7.2284915906813465\\4275X3X7\n",
            "26\\-7.05119789543269\\2267X3X9\n",
            "27\\-7.116995906924403\\2662X3X9\n",
            "28\\-7.134413069496941\\3047X3X8\n",
            "29\\-7.178559018179178\\3400X3X8\n",
            "30\\-7.123073603213672\\3015X3X8\n",
            "31\\-7.150403367337338\\3162X3X8\n",
            "32\\-7.226661528122076\\3901X3X8\n",
            "33\\-7.007697290993128\\2184X3X8\n",
            "34\\-7.255237729551286\\4693X3X7\n",
            "35\\-7.2280035510500396\\4144X2X11\n",
            "36\\-7.175355048990476\\3811X3X7\n",
            "37\\-7.211411049542639\\3751X3X8\n",
            "38\\-7.040355096491533\\2416X3X8\n",
            "39\\-7.197854000501815\\3933X3X7\n",
            "40\\-7.114736577800388\\3254X3X7\n",
            "41\\-7.064830280664171\\2918X3X7\n",
            "42\\-7.241784554670826\\4402X3X7\n",
            "43\\-7.167094120179591\\3782X3X7\n",
            "44\\-7.281552757529028\\5192X2X10\n",
            "45\\-7.32644215261112\\5492X3X7\n",
            "46\\-7.155394464443516\\3261X3X8\n",
            "47\\-7.163164131758739\\4136X3X6\n",
            "48\\-7.15564796664861\\3228X3X8\n",
            "49\\-7.119638296491335\\2917X3X8\n",
            "50\\-7.206314296795151\\4142X3X7\n",
            "51\\-7.179830070511793\\3425X3X8\n",
            "52\\-7.260946739396909\\5888X2X8\n",
            "53\\-7.18323818025714\\5213X2X7\n",
            "54\\-7.269163490377146\\4833X3X7\n",
            "55\\-7.260713898065923\\4230X3X8\n",
            "56\\-7.191390573730882\\3932X3X7\n",
            "57\\-7.311651618042292\\5335X3X7\n",
            "58\\-7.102362467367955\\3190X3X7\n",
            "59\\-7.2237811151310565\\4230X3X7\n",
            "60\\-7.0152023055514725\\2538X3X7\n",
            "61\\-7.145080663688601\\3061X3X8\n",
            "62\\-7.121597158091195\\3701X3X6\n",
            "63\\-7.2529772423927685\\5685X2X8\n",
            "64\\-7.133795140918017\\3872X3X6\n",
            "65\\-7.183072299067667\\3823X3X7\n",
            "66\\-7.138428905329799\\3425X3X7\n",
            "67\\-7.2088053177211595\\4483X3X6\n",
            "68\\-7.094354279449825\\3414X3X6\n",
            "69\\-7.271799253298523\\5463X3X6\n",
            "70\\-7.273612457137724\\6615X2X7\n",
            "71\\-7.176655527883112\\4323X3X6\n",
            "72\\-7.229206814157206\\4347X3X7\n",
            "73\\-7.165520533572529\\3621X3X7\n",
            "74\\-7.149420627225558\\4565X2X7\n",
            "75\\-7.166545076358196\\3716X3X7\n",
            "76\\-7.191225514125688\\5141X3X5\n",
            "77\\-7.164176973642298\\4158X3X6\n",
            "78\\-7.080593705176352\\3326X3X6\n",
            "79\\-7.252688866260992\\6532X2X7\n",
            "80\\-7.219487979969101\\4864X3X6\n",
            "81\\-7.297522716904727\\6400X2X8\n",
            "82\\-7.224458664801662\\4941X3X6\n",
            "83\\-7.230037308207317\\5972X2X7\n",
            "84\\-7.328813311804864\\6272X3X6\n",
            "85\\-7.223330889442176\\6047X2X7\n",
            "86\\-7.237354861719884\\5036X3X6\n",
            "87\\-7.086957675017009\\3364X3X6\n",
            "88\\-7.1387335870368664\\4383X3X5\n",
            "89\\-7.269702435090508\\5767X2X8\n",
            "90\\-7.1892267453238485\\4505X3X6\n",
            "91\\-7.204168411937346\\4548X3X6\n",
            "92\\-7.107494307530657\\3188X3X7\n",
            "93\\-7.127925422250516\\4270X3X5\n",
            "94\\-7.210122121371446\\5404X3X5\n",
            "95\\-7.208214822706596\\4669X3X6\n",
            "96\\-7.253190523355688\\6126X3X5\n",
            "97\\-7.038080216025122\\3364X2X8\n",
            "98\\-7.098169006272002\\3913X3X5\n",
            "99\\-6.990544329386748\\2599X3X6\n",
            "100\\-7.141020656247381\\3960X3X6\n",
            "101\\-7.234309861277991\\5700X3X5\n",
            "102\\-7.212182271268329\\4747X3X6\n",
            "103\\-7.250033944760868\\6046X2X7\n",
            "104\\-7.168749192143384\\4794X3X5\n",
            "105\\-7.116611694640154\\3678X3X6\n",
            "106\\-7.172061701723601\\4348X3X6\n",
            "107\\-7.0557269744816935\\3455X2X8\n",
            "108\\-6.779131610037371\\1741X3X5\n",
            "109\\-7.271252038879476\\6551X2X7\n",
            "110\\-7.141184599574005\\3964X3X6\n",
            "111\\-7.236793640961664\\5961X3X5\n",
            "112\\-7.097947417890812\\3485X3X6\n",
            "113\\-7.224019325052746\\5531X3X5\n",
            "114\\-7.043223191309782\\3034X3X6\n",
            "115\\-7.203339604968172\\4605X3X6\n",
            "116\\-7.335063714490306\\7463X3X5\n",
            "117\\-7.1923684228802935\\5338X3X5\n",
            "118\\-7.078806062880928\\3263X3X6\n",
            "119\\-7.274895190950352\\7533X2X6\n",
            "120\\-7.001549083916019\\3107X3X5\n",
            "121\\-7.228625949382972\\5780X3X5\n",
            "122\\-7.092367284406359\\3422X3X6\n",
            "123\\-7.245802827292028\\6382X2X7\n",
            "124\\-7.008472697598234\\3056X3X5\n",
            "125\\-7.139036605919796\\3891X3X6\n",
            "126\\-7.13556203615298\\3792X3X6\n",
            "127\\-7.107976989445416\\4187X3X5\n",
            "128\\-7.201638809402708\\5288X3X5\n",
            "129\\-7.1019522392864705\\4529X2X6\n",
            "130\\-7.054612849486534\\3637X3X5\n",
            "131\\-7.149139889165251\\4568X3X5\n",
            "132\\-7.180400513030283\\4388X3X6\n",
            "133\\-7.310526872318183\\7038X3X5\n",
            "134\\-6.984681160941263\\3016X3X5\n",
            "135\\-7.216687430101997\\5643X2X7\n",
            "136\\-7.054387267759451\\4208X2X6\n",
            "137\\-7.148611023092328\\4691X3X5\n",
            "138\\-7.124305592575521\\5091X2X6\n",
            "139\\-7.208691364594047\\5284X3X5\n",
            "140\\-7.171054959085098\\4843X3X5\n",
            "141\\-7.145307613349204\\5420X3X4\n",
            "142\\-7.225675077744617\\6665X3X4\n",
            "143\\-7.077283606226089\\3833X3X5\n",
            "144\\-7.227754413747618\\6527X3X4\n",
            "145\\-7.16589712722826\\4915X3X5\n",
            "146\\-7.203461248402639\\6372X3X4\n",
            "147\\-7.172603897664302\\4863X3X5\n",
            "148\\-7.2555686593913915\\6294X2X7\n",
            "149\\-7.228583331223628\\5626X3X5\n",
            "150\\-7.229333447034588\\5665X3X5\n",
            "151\\-7.093379030382161\\4075X3X5\n",
            "152\\-7.223868038639909\\5571X3X5\n",
            "153\\-7.077888129407056\\3769X3X5\n",
            "154\\-7.1188892436335\\4569X2X7\n",
            "155\\-7.07261012529255\\4516X3X4\n",
            "156\\-7.069503880182135\\3771X3X5\n",
            "157\\-6.919449880285508\\3071X2X6\n",
            "158\\-7.077072094122077\\4874X2X5\n",
            "159\\-7.127891873404217\\5079X3X4\n",
            "160\\-7.038867685844368\\3462X3X5\n",
            "161\\-7.304821201824181\\7949X2X6\n",
            "162\\-7.042338575527768\\4261X2X5\n",
            "163\\-7.0925307570489\\3964X3X5\n",
            "164\\-6.850368418466183\\2509X3X4\n",
            "165\\-7.128871161255778\\4272X3X5\n",
            "166\\-7.020301995359798\\3123X2X8\n",
            "167\\-7.0331557886009906\\3857X3X4\n",
            "168\\-7.23970574824214\\6703X3X4\n",
            "169\\-7.153496283993668\\5450X3X4\n",
            "170\\-7.145183990108914\\5696X2X5\n",
            "171\\-7.139267446030046\\5836X2X5\n",
            "172\\-7.14452753266254\\5405X3X4\n",
            "173\\-7.056470027768309\\4352X3X4\n",
            "174\\-7.178758911859397\\5816X2X6\n",
            "175\\-7.093211551478721\\4606X3X4\n",
            "176\\-6.945941679078616\\2632X3X5\n",
            "177\\-7.142188676312509\\5406X2X6\n",
            "178\\-7.242976088841927\\7115X3X4\n",
            "179\\-7.205531246407738\\5391X3X5\n",
            "180\\-7.140531287111353\\5439X3X4\n",
            "181\\-7.071856780030834\\3752X3X5\n",
            "182\\-7.009770546655834\\3962X2X5\n",
            "183\\-7.14536052006451\\5435X3X4\n",
            "184\\-6.912565974042317\\2899X3X4\n",
            "185\\-7.037171569189021\\3437X3X5\n",
            "186\\-6.929960724765519\\3081X3X4\n",
            "187\\-6.992587968960769\\2982X3X5\n",
            "188\\-7.018285143168811\\4411X3X3\n",
            "189\\-7.060252248904897\\3592X3X5\n",
            "190\\-7.1749495974533115\\6656X2X5\n",
            "191\\-7.192894117153934\\6562X2X5\n",
            "192\\-7.138527731898259\\5220X2X6\n",
            "193\\-6.6748178738629065\\1537X3X4\n",
            "194\\-6.890878951616205\\2740X3X4\n",
            "195\\-6.719231528950721\\1430X3X5\n",
            "196\\-7.136850570240291\\4475X3X5\n",
            "197\\-7.152264549475052\\5923X2X5\n",
            "198\\-6.9155880575079065\\2835X3X4\n",
            "199\\-7.031955515659862\\3796X3X4\n",
            "200\\-7.133700445527523\\5242X3X4\n",
            "201\\-7.000700888700823\\3782X2X5\n",
            "202\\-7.082639142330294\\5481X3X3\n",
            "203\\-7.015541369217272\\3759X2X6\n",
            "204\\-7.0576753362735865\\3553X3X5\n",
            "205\\-7.176488920001529\\5828X3X4\n",
            "206\\-7.20650089867738\\6335X3X4\n",
            "207\\-7.264035527235248\\6311X3X5\n",
            "208\\-6.985611521283627\\2982X3X5\n",
            "209\\-7.0283036557250895\\3862X3X4\n",
            "210\\-7.149087439503823\\5341X3X4\n",
            "211\\-6.690886291966131\\1350X3X5\n",
            "212\\-7.07235751994601\\4443X2X6\n",
            "213\\-7.181378905760674\\4904X3X5\n",
            "214\\-7.266388425982546\\7414X3X4\n",
            "215\\-7.040013830702027\\4117X3X4\n",
            "216\\-7.061248163095505\\4228X3X4\n",
            "217\\-6.69913242183252\\1621X3X4\n",
            "218\\-7.18543904385199\\5900X2X6\n",
            "219\\-6.718665961647397\\1466X3X5\n"
          ],
          "name": "stdout"
        }
      ]
    },
    {
      "cell_type": "code",
      "metadata": {
        "id": "iyycT8563PTi",
        "colab_type": "code",
        "colab": {
          "base_uri": "https://localhost:8080/",
          "height": 660
        },
        "outputId": "75bb759e-c4b3-41da-aeb6-a7fa3b4addf8"
      },
      "source": [
        "!neofetch"
      ],
      "execution_count": null,
      "outputs": [
        {
          "output_type": "stream",
          "text": [
            "\u001b[?25l\u001b[?7l\u001b[0m\u001b[31m\u001b[1m            .-/+oossssoo+/-. \n",
            "        `:+ssssssssssssssssss+:` \n",
            "      -+ssssssssssssssssssyyssss+- \n",
            "    .ossssssssssssssssss\u001b[37m\u001b[0m\u001b[1mdMMMNy\u001b[0m\u001b[31m\u001b[1msssso. \n",
            "   /sssssssssss\u001b[37m\u001b[0m\u001b[1mhdmmNNmmyNMMMMh\u001b[0m\u001b[31m\u001b[1mssssss/ \n",
            "  +sssssssss\u001b[37m\u001b[0m\u001b[1mhm\u001b[0m\u001b[31m\u001b[1myd\u001b[37m\u001b[0m\u001b[1mMMMMMMMNddddy\u001b[0m\u001b[31m\u001b[1mssssssss+ \n",
            " /ssssssss\u001b[37m\u001b[0m\u001b[1mhNMMM\u001b[0m\u001b[31m\u001b[1myh\u001b[37m\u001b[0m\u001b[1mhyyyyhmNMMMNh\u001b[0m\u001b[31m\u001b[1mssssssss/ \n",
            ".ssssssss\u001b[37m\u001b[0m\u001b[1mdMMMNh\u001b[0m\u001b[31m\u001b[1mssssssssss\u001b[37m\u001b[0m\u001b[1mhNMMMd\u001b[0m\u001b[31m\u001b[1mssssssss. \n",
            "+ssss\u001b[37m\u001b[0m\u001b[1mhhhyNMMNy\u001b[0m\u001b[31m\u001b[1mssssssssssss\u001b[37m\u001b[0m\u001b[1myNMMMy\u001b[0m\u001b[31m\u001b[1msssssss+ \n",
            "oss\u001b[37m\u001b[0m\u001b[1myNMMMNyMMh\u001b[0m\u001b[31m\u001b[1mssssssssssssss\u001b[37m\u001b[0m\u001b[1mhmmmh\u001b[0m\u001b[31m\u001b[1mssssssso \n",
            "oss\u001b[37m\u001b[0m\u001b[1myNMMMNyMMh\u001b[0m\u001b[31m\u001b[1msssssssssssssshmmmh\u001b[0m\u001b[31m\u001b[1mssssssso \n",
            "+ssss\u001b[37m\u001b[0m\u001b[1mhhhyNMMNy\u001b[0m\u001b[31m\u001b[1mssssssssssss\u001b[37m\u001b[0m\u001b[1myNMMMy\u001b[0m\u001b[31m\u001b[1msssssss+ \n",
            ".ssssssss\u001b[37m\u001b[0m\u001b[1mdMMMNh\u001b[0m\u001b[31m\u001b[1mssssssssss\u001b[37m\u001b[0m\u001b[1mhNMMMd\u001b[0m\u001b[31m\u001b[1mssssssss. \n",
            " /ssssssss\u001b[37m\u001b[0m\u001b[1mhNMMM\u001b[0m\u001b[31m\u001b[1myh\u001b[37m\u001b[0m\u001b[1mhyyyyhdNMMMNh\u001b[0m\u001b[31m\u001b[1mssssssss/ \n",
            "  +sssssssss\u001b[37m\u001b[0m\u001b[1mdm\u001b[0m\u001b[31m\u001b[1myd\u001b[37m\u001b[0m\u001b[1mMMMMMMMMddddy\u001b[0m\u001b[31m\u001b[1mssssssss+ \n",
            "   /sssssssssss\u001b[37m\u001b[0m\u001b[1mhdmNNNNmyNMMMMh\u001b[0m\u001b[31m\u001b[1mssssss/ \n",
            "    .ossssssssssssssssss\u001b[37m\u001b[0m\u001b[1mdMMMNy\u001b[0m\u001b[31m\u001b[1msssso. \n",
            "      -+sssssssssssssssss\u001b[37m\u001b[0m\u001b[1myyy\u001b[0m\u001b[31m\u001b[1mssss+- \n",
            "        `:+ssssssssssssssssss+:` \n",
            "            .-/+oossssoo+/-. \n",
            "\u001b[20A\u001b[9999999D\u001b[43C\u001b[0m\u001b[1m\u001b[0m\u001b[31m\u001b[1mroot@\u001b[0m\u001b[31m\u001b[1mf47eb401fa0e\u001b[0m \n",
            "\u001b[43C\u001b[0m-----------------\u001b[0m \n",
            "\u001b[43C\u001b[0m\u001b[31m\u001b[1mOS\u001b[0m\u001b[0m:\u001b[0m Ubuntu 18.04.3 LTS on Chrome OS x86_64\u001b[0m \n",
            "\u001b[43C\u001b[0m\u001b[31m\u001b[1mHost\u001b[0m\u001b[0m:\u001b[0m Google Compute Engine\u001b[0m \n",
            "\u001b[43C\u001b[0m\u001b[31m\u001b[1mKernel\u001b[0m\u001b[0m:\u001b[0m 4.19.104+\u001b[0m \n",
            "\u001b[43C\u001b[0m\u001b[31m\u001b[1mUptime\u001b[0m\u001b[0m:\u001b[0m 19 mins\u001b[0m \n",
            "\u001b[43C\u001b[0m\u001b[31m\u001b[1mPackages\u001b[0m\u001b[0m:\u001b[0m 1225\u001b[0m \n",
            "\u001b[43C\u001b[0m\u001b[31m\u001b[1mShell\u001b[0m\u001b[0m:\u001b[0m bash 4.4.20\u001b[0m \n",
            "\u001b[43C\u001b[0m\u001b[31m\u001b[1mTerminal\u001b[0m\u001b[0m:\u001b[0m jupyter-noteboo\u001b[0m \n",
            "\u001b[43C\u001b[0m\u001b[31m\u001b[1mCPU\u001b[0m\u001b[0m:\u001b[0m Intel Xeon (2) @ 2.300GHz\u001b[0m \n",
            "\u001b[43C\u001b[0m\u001b[31m\u001b[1mMemory\u001b[0m\u001b[0m:\u001b[0m 599MiB / 13021MiB\u001b[0m \n",
            "\n",
            "\u001b[43C\u001b[0m\u001b[30m\u001b[40m   \u001b[0m\u001b[31m\u001b[41m   \u001b[0m\u001b[32m\u001b[42m   \u001b[0m\u001b[33m\u001b[43m   \u001b[0m\u001b[34m\u001b[44m   \u001b[0m\u001b[35m\u001b[45m   \u001b[0m\u001b[36m\u001b[46m   \u001b[0m\u001b[37m\u001b[47m   \u001b[0m\n",
            "\n",
            "\n",
            "\u001b[6B\u001b[?25h\u001b[?7h"
          ],
          "name": "stdout"
        }
      ]
    }
  ]
}